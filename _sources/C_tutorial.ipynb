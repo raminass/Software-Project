{
  "cells": [
    {
      "cell_type": "markdown",
      "metadata": {
        "id": "4YUUzqb5ydnO"
      },
      "source": [
        "# C Tutorial\n",
        "**Author**: Rami Nasser (raminass@gmail.com)\n",
        "\n",
        "This notebook, reviews important topics in C with examples.\n"
      ]
    },
    {
      "cell_type": "markdown",
      "metadata": {
        "id": "ubuaQfNibzPi"
      },
      "source": [
        "# Compiling\n",
        "*   Computers only understand binary, which is also used to \n",
        "represent instructions like printing something to the screen. Our source code has been written in characters we can read, but it needs to be compiled: converted to machine code, patterns of zeros and ones that our computer can directly understand.\n",
        "\n",
        "\n",
        "*   A program called a **compiler** will take source code as input and produce machine code as output. This program is **gcc**.\n",
        "*   To run our program, we’ll type in another command, ./hello, which looks in the current folder '.' for a program called hello, and runs it.\n",
        "\n",
        "\n",
        "\n",
        "```c\n",
        "#include <stdio.h>\n",
        "\n",
        "int main(void)\n",
        "{\n",
        "    printf(\"hello, world\");\n",
        "}\n",
        "```\n",
        "\n",
        "\n",
        "```shell\n",
        "gcc hello.c\n",
        "```\n",
        "This will give executable file called a.out.\n",
        "We can change the name of the exec file, usin -o option:\n",
        "\n",
        "\n",
        "```shell\n",
        "gcc hello.c -o hello_world\n",
        "```\n",
        "\n",
        "In order to view the assembly code in human readable way:\n",
        "\n",
        "\n",
        "```shell\n",
        "gcc –S hello.c\n",
        "```\n",
        "This will give a file with type *.s that is a readable Assembly code.\n",
        "\n",
        "\n",
        "\n",
        "```Assembly\n",
        "    \t.file\t\"hello.c\"\n",
        "\t.section\t.rodata\n",
        ".LC0:\n",
        "\t.string\t\"hello, world\"\n",
        "\t.text\n",
        "\t.globl\tmain\n",
        "\t.type\tmain, @function\n",
        "main:\n",
        ".LFB0:\n",
        "\t.cfi_startproc\n",
        "\tpushq\t%rbp\n",
        "\t.cfi_def_cfa_offset 16\n",
        "\t.cfi_offset 6, -16\n",
        "\tmovq\t%rsp, %rbp\n",
        "\t.cfi_def_cfa_register 6\n",
        "\tmovl\t$.LC0, %edi\n",
        "\tmovl\t$0, %eax\n",
        "\tcall\tprintf\n",
        "\tpopq\t%rbp\n",
        "\t.cfi_def_cfa 7, 8\n",
        "\tret\n",
        "\t.cfi_endproc\n",
        ".LFE0:\n",
        "\t.size\tmain, .-main\n",
        "\t.ident\t\"GCC: (Ubuntu 4.8.2-19ubuntu1) 4.8.2\"\n",
        "\t.section\t.note.GNU-stack,\"\",@progbits\n",
        "```"
      ]
    },
    {
      "cell_type": "markdown",
      "metadata": {
        "id": "FoiCre-9Umdg"
      },
      "source": [
        "# Debugging"
      ]
    },
    {
      "cell_type": "markdown",
      "metadata": {
        "id": "g31fUTBPujrY"
      },
      "source": [
        "## Manual using CMD\n",
        "Simple factorial program, that has some bugs.\n",
        "\n",
        "``` c\n",
        "#include <stdio.h>\n",
        "\n",
        "int main()\n",
        "{\n",
        "    int i, num, j;\n",
        "    printf(\"Enter the number: \");\n",
        "    scanf(\"%d\", &num );\n",
        "\n",
        "    for(i=1; i<num; i++)\n",
        "        j=j*i;    \n",
        "\n",
        "    printf(\"The factorial of %d is %d\\n\",num,j);\n",
        "}\n",
        "```"
      ]
    },
    {
      "cell_type": "markdown",
      "metadata": {
        "id": "olp23aIwumts"
      },
      "source": [
        "### 1.Running the program\n",
        "Let's test the program for example with input = 3\n",
        "\n",
        "``` shell\n",
        "gcc factorial.c\n",
        "./a.out\n",
        "Enter the number: 3\n",
        "The factorial of 3 is 65534\n",
        "```\n",
        "The output is incorrect as we expect the answer to be 6 for input=3.\n",
        "Let's find the bug and fix the program.\n",
        "Next are the steps for debugging C program manually using CMD. "
      ]
    },
    {
      "cell_type": "markdown",
      "metadata": {
        "id": "SqcyukNkvZPz"
      },
      "source": [
        "### 2.Compile the C program \n",
        "With regular compiler by adding debugging option -g\n",
        "\n",
        "```shell\n",
        "gcc -g factorial.c -o factorial\n",
        "```\n",
        "\n",
        "\n"
      ]
    },
    {
      "cell_type": "markdown",
      "metadata": {
        "id": "I0xaEMVCvthn"
      },
      "source": [
        "### 3.Launch gdb\n",
        "\n",
        "```shell\n",
        "gdb factorial\n",
        "(gdb)\n",
        "```"
      ]
    },
    {
      "cell_type": "markdown",
      "metadata": {
        "id": "iqkmv2pjv5Je"
      },
      "source": [
        "### 4.Set up a break points inside C program\n",
        "\n",
        "```shell\n",
        "(gdb) break 10\n",
        "Breakpoint 1 at 0x763: file factorial.c, line 10.\n",
        "```"
      ]
    },
    {
      "cell_type": "markdown",
      "metadata": {
        "id": "JRZk_tArwXlo"
      },
      "source": [
        "### 5.Run the C program in gdb debugger\n",
        "  ```shell\n",
        "(gdb) run [args]\n",
        "Starting program: .../factorial\n",
        "Enter the number: 3\n",
        "  ```\n",
        "Once you executed the C program, it would execute until the first break point, and give you the prompt for debugging.\n",
        "```shell\n",
        "Breakpoint 1, main () at factorial.c:10\n",
        "10                      j=j*i;    \n",
        "```"
      ]
    },
    {
      "cell_type": "markdown",
      "metadata": {
        "id": "4VM_SLZLwv5G"
      },
      "source": [
        "### 6.Printing the variable values inside gdb debugger\n",
        "\n",
        "Now we can use various gdb commands to debug the C program as explained in the sections below.\n",
        "```shell\n",
        "  (gdb) print i\n",
        "  $1 = 1\n",
        "```\n",
        "```shell\n",
        "  (gdb) print j\n",
        "  $2 = 32767\n",
        "```\n",
        "```shell\n",
        "  (gdb) print num\n",
        "  $3 = 3\n",
        "```\n",
        "As you see above, in the factorial.c, we have not initialized the variable j. So, it gets garbage value resulting in a big numbers as factorial values.\n",
        "\n",
        "Fix this issue by initializing variable j with 1, compile the C program and execute it again.\n",
        "\n",
        "Even after this fix there seems to be some problem in the factorial.c program, as it still gives wrong factorial value.\n",
        "\n",
        "So, place the break point in 10th line, and continue as explained in the next section."
      ]
    },
    {
      "cell_type": "markdown",
      "metadata": {
        "id": "dTdmb_Bkyafr"
      },
      "source": [
        "#### Fixing the Code, attempt 1\n",
        "\n",
        "\n",
        "``` c\n",
        "# include <stdio.h>\n",
        "\n",
        "int main()\n",
        "{\n",
        "\tint i, num, j=1; // initialized j\n",
        "\tprintf (\"Enter the number: \");\n",
        "\tscanf (\"%d\", &num );\n",
        "\n",
        "\tfor (i=1; i<num; i++)\n",
        "\t\tj=j*i;    \n",
        "\n",
        "\tprintf(\"The factorial of %d is %d\\n\",num,j);\n",
        "}\n",
        "```"
      ]
    },
    {
      "cell_type": "markdown",
      "metadata": {
        "id": "poLQ1EHAydjf"
      },
      "source": [
        "#### Checking first attempt of fixing:\n",
        "\n",
        "```shell\n",
        "gcc factorial.c -o factorial\n",
        "./factorial\n",
        "Enter the number: 3\n",
        "The factorial of 3 is 2\n",
        "```"
      ]
    },
    {
      "cell_type": "markdown",
      "metadata": {
        "id": "NW4niNG2yo0N"
      },
      "source": [
        "### 7. Continue, stepping over/in – gdb commands\n",
        "There are three kind of gdb operations you can choose when the program stops at a break point. They are continuing until the next break point, stepping in, or stepping over the next program lines.\n",
        "*   c or continue: Debugger will continue executing until the next break point.\n",
        "*   n or next: Debugger will execute the next line as single instruction.\n",
        "*   s or step: Same as next, but does not treats function as a single instruction, instead goes into the function and executes it line by line.\n",
        "\n",
        "\n"
      ]
    },
    {
      "cell_type": "markdown",
      "metadata": {
        "id": "YKGd_fjMyYNn"
      },
      "source": [
        "#### Fixing the code, attempt 2\n",
        "By continuing or stepping through you could have found that the issue is because we have not used the <= in the ‘for loop’ condition checking. So changing that from < to <= will solve the issue.\n",
        "\n",
        "\n",
        "```c\n",
        "#include <stdio.h>\n",
        "\n",
        "int main()\n",
        "{\n",
        "\tint i, num, j = 1;\n",
        "\tprintf(\"Enter the number: \");\n",
        "\tscanf(\"%d\", &num);\n",
        "\n",
        "\tfor (i = 1; i < =num; i++)\n",
        "\t\tj = j * i;\n",
        "\n",
        "\tprintf(\"The factorial of %d is %d\\n\", num, j);\n",
        "}\n",
        "```"
      ]
    },
    {
      "cell_type": "markdown",
      "metadata": {
        "id": "zVVdfpuErDej"
      },
      "source": [
        "### gdb command shortcuts\n",
        "Use following shortcuts for most of the frequent gdb operations.\n",
        "\n",
        "*   l - list\n",
        "*   p - print\n",
        "*   c - continue\n",
        "*   s - step\n",
        "*   quit - Exit from GDB.\n",
        "*   ENTER: pressing enter key would execute the previously executed command again.\n",
        "\n",
        "For more info please refer to:\n",
        "\n",
        "\n",
        "```shell\n",
        "man gdb\n",
        "```\n",
        "\n"
      ]
    },
    {
      "cell_type": "markdown",
      "metadata": {
        "id": "3kJPoVAIGDKZ"
      },
      "source": [
        "## IDE Debugging\n",
        "\n",
        "We can graphically debug using ide, in our case VScode:\n",
        "\n",
        "\n",
        "*   click left to the line to place the breakpoints\n",
        "*   click 'Start Debugging'\n",
        "*   use the the top bar with debugging commands\n",
        "\n",
        "More info: [VScode Debugging](https://code.visualstudio.com/docs/editor/debugging)\n",
        "\n",
        "\n"
      ]
    },
    {
      "cell_type": "markdown",
      "metadata": {
        "id": "ppTNWdUwjcaX"
      },
      "source": [
        "# Memory"
      ]
    },
    {
      "cell_type": "markdown",
      "metadata": {
        "id": "u5dlNLZiTK70"
      },
      "source": [
        "## Addresses, pointers\n",
        "\n",
        "\n",
        "*   You have seen in the lectures how to allocate memory for different data structures.\n",
        "*   Computer's memory is represented in hexadecimal base, which represents large numeric values with fewer digits needed."
      ]
    },
    {
      "cell_type": "markdown",
      "metadata": {
        "id": "6b2iZJVHTM3t"
      },
      "source": [
        "![image.png](data:image/png;base64,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)"
      ]
    },
    {
      "cell_type": "markdown",
      "metadata": {},
      "source": [
        "*   When creating variable n:\n",
        "\n",
        "\n",
        "```c\n",
        "#include <stdio.h>\n",
        "\n",
        "int main(void)\n",
        "{\n",
        "    int n = 50;\n",
        "    printf(\"%i\\n\", n);\n",
        "}\n",
        "```"
      ]
    },
    {
      "cell_type": "markdown",
      "metadata": {
        "id": "ogw5BRVPetuu"
      },
      "source": [
        "![alt text](image-1.png)"
      ]
    },
    {
      "cell_type": "markdown",
      "metadata": {
        "id": "_7_6vtA-fMT2"
      },
      "source": [
        "*   A pointer is a variable that stores an address in memory, where some other variable might be stored.\n",
        "*   The & operator can be used to get the address of some variable, as with &n. And the * operator declares a variable as a pointer, as with int *p, indicating that we have a variable called p that points to an int. So, to store the address of a variable n into a pointer p, we would write.\n",
        "*   With C, we can also go to specific addresses in memory, which might cause segmentation faults, where we’ve tried to read or write to memory we don’t have permission to.\n",
        "\n",
        "\n",
        "\n",
        "```c\n",
        "#include <stdio.h>\n",
        "\n",
        "int main(void)\n",
        "{\n",
        "    int n = 50;\n",
        "    int *p = &n;\n",
        "    printf(\"%p\\n\", p);\n",
        "    printf(\"%i\\n\", *p);\n",
        "}\n",
        "```\n",
        "\n",
        "\n",
        "\n",
        "```shell\n",
        "0x7ffe86df0bd4\n",
        "50\n",
        "```\n",
        "*   In memory, we might have one variable, p, with the value of some address, like 0x123, stored, and another variable, an integer with the value 50, at that addresss:\n",
        "\n",
        "![alt text](image-2.png)\n",
        "\n",
        "*   Notice that p takes up 8 bytes, since in modern computer systems, 64 bits are used in order to address the billions of bytes of memory available. With 32 bits, we can only count up to about 4 billion bytes, or about 4GB of memory.\n",
        "\n",
        "run the below to see thehow many bits the machine uses to represent addresses:\n",
        "``` shell\n",
        "uname -a \n",
        "```"
      ]
    },
    {
      "cell_type": "markdown",
      "metadata": {
        "id": "1kta0BFEh5KK"
      },
      "source": [
        "## Strings, Arrays\n",
        "\n",
        "\n",
        "\n",
        "```c\n",
        "#include <stdio.h>\n",
        "\n",
        "int main(void)\n",
        "{\n",
        "    char *s = \"HI!\";\n",
        "    printf(\"%p\\n\", s);\n",
        "    printf(\"%p\\n\", &s[0]);\n",
        "    printf(\"%p\\n\", &s[1]);\n",
        "    printf(\"%p\\n\", &s[2]);\n",
        "    printf(\"%p\\n\", &s[3]);\n",
        "}\n",
        "```\n",
        "\n",
        "The address of each character in s\n",
        "\n",
        "```shell\n",
        "nova 45% gcc strings.c -o strings\n",
        "nova 46% ./strings\n",
        "0x400644\n",
        "0x400644\n",
        "0x400645\n",
        "0x400646\n",
        "0x400647\n",
        "```\n",
        "The address of the first character, &s[0], is the same as the value of s. And each following character has an address that is one byte higher.\n"
      ]
    },
    {
      "cell_type": "markdown",
      "metadata": {
        "id": "BofMxJ8Uiuxx"
      },
      "source": [
        "## Pointer arithmetic\n",
        "\n",
        "\n",
        "```c\n",
        "#include <stdio.h>\n",
        "\n",
        "int main(void)\n",
        "{\n",
        "    char *s = \"HI!\";\n",
        "    printf(\"%c\\n\", *s);\n",
        "    printf(\"%c\\n\", *(s + 1));\n",
        "    printf(\"%c\\n\", *(s + 2));\n",
        "}\n",
        "```\n",
        "*s goes to the address stored in s, and *(s + 1) goes to the location in memory with the next character, an address that is one byte higher.\n",
        "\n",
        "\n",
        "```c\n",
        "#include <stdio.h>\n",
        "\n",
        "int main(void)\n",
        "{\n",
        "    int numbers[] = {4, 6, 8, 2, 7, 5, 0};\n",
        "\n",
        "    printf(\"%i\\n\", *numbers);\n",
        "    printf(\"%i\\n\", *(numbers + 1));\n",
        "    printf(\"%i\\n\", *(numbers + 2));\n",
        "    printf(\"%i\\n\", *(numbers + 3));\n",
        "    printf(\"%i\\n\", *(numbers + 4));\n",
        "    printf(\"%i\\n\", *(numbers + 5));\n",
        "    printf(\"%i\\n\", *(numbers + 6));\n",
        "}\n",
        "```\n",
        "It turns out that we only need to add 1 to the address of numbers, instead of 4 (even though ints are 4 bytes in size), since the compiler already knows that the type of each value in numbers is 4 bytes. With + 1, we’re telling the compiler to move the next value in the array, not the next byte.\n"
      ]
    },
    {
      "cell_type": "markdown",
      "metadata": {
        "id": "qdQrdMbPjXsM"
      },
      "source": [
        "## Valgrind\n",
        "\n",
        "*   We use **malloc** to allocate memory, and we use **free** to free the memory so the operating system can do something else with it.\n",
        "\n",
        "*   Our computers might slow down if a program we’re running has a bug where it allocates more and more memory but never frees it. The operating system will take longer and longer to find enough available memory for our program.\n",
        "\n",
        "Example:\n",
        "\n",
        "\n",
        "```c\n",
        "#include <stdio.h>\n",
        "#include <stdlib.h>\n",
        "\n",
        "int main(void)\n",
        "{\n",
        "    int *x = malloc(3 * sizeof(int));\n",
        "    x[1] = 72;\n",
        "    x[2] = 73;\n",
        "    x[3] = 33;\n",
        "}\n",
        "```\n",
        "\n",
        "Compile and run the program:\n",
        "```shell\n",
        "gcc memory.c -o memory\n",
        "./memory \n",
        "```\n",
        "\n",
        "\n",
        "\n",
        "*   We used malloc to allocate memory for 3 integers.\n",
        "*   We’ve deliberately made a mistake where we forgot arrays are 0-indexed, and started at x[1] instead. Then, with x[3], we’re trying to access memory beyond the bounds of what we have access to.\n",
        "*   We also don’t free the memory we’ve allocated.\n",
        "\n",
        "*   When we compile and run our program, though, nothing seems to happen. It turns out that our mistake wasn’t bad enough to cause a segmentation fault this time, though it might next time.\n",
        "\n",
        "We will use **valgrind**, a command-line tool that we can use to run our program and see if it has any memory-related issues.\n",
        "\n",
        "How ?\n",
        "run valgrind followed by the executable of the program as follow:\n",
        "\n",
        "\n",
        "```shell\n",
        "gcc -g memory.c -o memory\n",
        "valgrind ./memory\n",
        "```\n",
        "\n"
      ]
    },
    {
      "cell_type": "markdown",
      "metadata": {
        "id": "psRAR0ZIlpVs"
      },
      "source": [
        "\n",
        "\n",
        "```shell\n",
        "==2141== Memcheck, a memory error detector\n",
        "==2141== Copyright (C) 2002-2013, and GNU GPL'd, by Julian Seward et al.\n",
        "==2141== Using Valgrind-3.10.0.SVN and LibVEX; rerun with -h for copyright info\n",
        "==2141== Command: ./a.out\n",
        "==2141== \n",
        "==2141== Invalid write of size 4\n",
        "==2141==    at 0x400567: main (memory.c:9)\n",
        "==2141==  Address 0x51fd04c is 0 bytes after a block of size 12 alloc'd\n",
        "==2141==    at 0x4C2AB80: malloc (in /usr/lib/valgrind/vgpreload_memcheck-amd64-linux.so)\n",
        "==2141==    by 0x40053E: main (memory.c:6)\n",
        "==2141== \n",
        "==2141== \n",
        "==2141== HEAP SUMMARY:\n",
        "==2141==     in use at exit: 12 bytes in 1 blocks\n",
        "==2141==   total heap usage: 1 allocs, 0 frees, 12 bytes allocated\n",
        "==2141== \n",
        "==2141== LEAK SUMMARY:\n",
        "==2141==    definitely lost: 12 bytes in 1 blocks\n",
        "==2141==    indirectly lost: 0 bytes in 0 blocks\n",
        "==2141==      possibly lost: 0 bytes in 0 blocks\n",
        "==2141==    still reachable: 0 bytes in 0 blocks\n",
        "==2141==         suppressed: 0 bytes in 0 blocks\n",
        "==2141== Rerun with --leak-check=full to see details of leaked memory\n",
        "==2141== \n",
        "==2141== For counts of detected and suppressed errors, rerun with: -v\n",
        "==2141== ERROR SUMMARY: 1 errors from 1 contexts (suppressed: 0 from 0)\n",
        "```\n",
        "\n"
      ]
    },
    {
      "cell_type": "markdown",
      "metadata": {
        "id": "OGpHPv2vm_FA"
      },
      "source": [
        "\n",
        "\n",
        "*   We see some snippets like Invalid write of size 4 at ... memory.c:9, which gives us a hint to look at line 9, where we’re using x[3].\n",
        "*   Another error telling us 12 bytes ... are definitely lost, in that we’ve allocated them, but not freed them.\n",
        "\n"
      ]
    },
    {
      "cell_type": "markdown",
      "metadata": {
        "id": "tFfXDhI7nXPz"
      },
      "source": [
        "Now fixing both errors\n",
        "\n",
        "```c\n",
        "#include <stdio.h>\n",
        "#include <stdlib.h>\n",
        "\n",
        "int main(void)\n",
        "{\n",
        "    int *x = malloc(3 * sizeof(int));\n",
        "    x[0] = 72;\n",
        "    x[1] = 73;\n",
        "    x[2] = 33;\n",
        "    free(x);\n",
        "}\n",
        "```\n",
        "\n",
        "\n",
        "```shell\n",
        "% gcc -g memory.c -o memory\n",
        "% valgrind ./memory\n",
        "==2743== Memcheck, a memory error detector\n",
        "==2743== Copyright (C) 2002-2013, and GNU GPL'd, by Julian Seward et al.\n",
        "==2743== Using Valgrind-3.10.0.SVN and LibVEX; rerun with -h for copyright info\n",
        "==2743== Command: ./memory\n",
        "==2743== \n",
        "==2743== \n",
        "==2743== HEAP SUMMARY:\n",
        "==2743==     in use at exit: 0 bytes in 0 blocks\n",
        "==2743==   total heap usage: 1 allocs, 1 frees, 12 bytes allocated\n",
        "==2743== \n",
        "==2743== All heap blocks were freed -- no leaks are possible\n",
        "==2743== \n",
        "==2743== For counts of detected and suppressed errors, rerun with: -v\n",
        "==2743== ERROR SUMMARY: 0 errors from 0 contexts (suppressed: 0 from 0)\n",
        "```\n",
        "\n",
        "For more info see:\n",
        "\n",
        "\n",
        "```shell\n",
        "man valgrin\n",
        "```\n",
        "In order to view the leaks in details add the --leak-check=full option to valgrind, example:\n",
        "\n",
        "\n",
        "```shell\n",
        "% valgrind --leak-check=full ./memory\n",
        "==3052== Memcheck, a memory error detector\n",
        "==3052== Copyright (C) 2002-2013, and GNU GPL'd, by Julian Seward et al.\n",
        "==3052== Using Valgrind-3.10.0.SVN and LibVEX; rerun with -h for copyright info\n",
        "==3052== Command: ./memory\n",
        "==3052== \n",
        "==3052== Invalid write of size 4\n",
        "==3052==    at 0x400567: main (memory.c:9)\n",
        "==3052==  Address 0x51fd04c is 0 bytes after a block of size 12 alloc'd\n",
        "==3052==    at 0x4C2AB80: malloc (in /usr/lib/valgrind/vgpreload_memcheck-amd64-linux.so)\n",
        "==3052==    by 0x40053E: main (memory.c:6)\n",
        "==3052== \n",
        "==3052== \n",
        "==3052== HEAP SUMMARY:\n",
        "==3052==     in use at exit: 12 bytes in 1 blocks\n",
        "==3052==   total heap usage: 1 allocs, 0 frees, 12 bytes allocated\n",
        "==3052== \n",
        "==3052== 12 bytes in 1 blocks are definitely lost in loss record 1 of 1\n",
        "==3052==    at 0x4C2AB80: malloc (in /usr/lib/valgrind/vgpreload_memcheck-amd64-linux.so)\n",
        "==3052==    by 0x40053E: main (memory.c:6)\n",
        "==3052== \n",
        "==3052== LEAK SUMMARY:\n",
        "==3052==    definitely lost: 12 bytes in 1 blocks\n",
        "==3052==    indirectly lost: 0 bytes in 0 blocks\n",
        "==3052==      possibly lost: 0 bytes in 0 blocks\n",
        "==3052==    still reachable: 0 bytes in 0 blocks\n",
        "==3052==         suppressed: 0 bytes in 0 blocks\n",
        "==3052== \n",
        "==3052== For counts of detected and suppressed errors, rerun with: -v\n",
        "==3052== ERROR SUMMARY: 2 errors from 2 contexts (suppressed: 0 from 0)\n",
        "```\n",
        "\n",
        "\n",
        "\n"
      ]
    },
    {
      "cell_type": "markdown",
      "metadata": {
        "id": "aE3yIB8Lvnye"
      },
      "source": [
        "## Segmentation Fault\n",
        "\n",
        "Popular error programmers encounter, when trying to read/write to memory that we don't have access to. \n",
        "\n",
        "\n",
        "```c\n",
        "#include <stdio.h>\n",
        "\n",
        "int main(void)\n",
        "{\n",
        "    int *p = NULL;\n",
        "    *p = 51;\n",
        "}\n",
        "```\n",
        "\n",
        "Can be tracked using valgrind.\n"
      ]
    },
    {
      "cell_type": "markdown",
      "metadata": {
        "id": "qZtvNfdIWAA8"
      },
      "source": [
        "# Command-line arguments\n",
        "\n",
        "\n",
        "*   Programs of our own can also take in command-line arguments, or inputs given to our program in the command we use to run it.\n",
        "*   We can change what our main function to no longer take in void, or no arguments, and instead:\n",
        "\n",
        "\n",
        "\n",
        "```c\n",
        "#include <stdio.h>\n",
        "\n",
        "int main(int argc, char *argv[])\n",
        "{\n",
        "  ...\n",
        "}\n",
        "```\n",
        "argc and argv are two variables that our main function will now get automatically when our program is run from the command line.\n",
        "\n",
        "*argc*\n",
        "Is the number of arguments provided to main when called from cmd.\n",
        "*argv*\n",
        "argument vector (or argument list), is an array of the arguments provided to main, the first argument, argv[0], is the name of our program.\n",
        "\n",
        "\n",
        "\n",
        "```c\n",
        "#include <stdio.h>\n",
        "  \n",
        "int main(int argc, char *argv[])\n",
        "{\n",
        "    printf(\"hello, %s\\n\", argv[0]);\n",
        "}\n",
        "```\n",
        "\n",
        "We should make sure that we have the right number of arguments before we try to print something that isn’t there:\n",
        "\n",
        "\n",
        "\n",
        "```c\n",
        "#include <stdio.h>\n",
        "  \n",
        "int main(int argc, char *argv[])\n",
        "{\n",
        "    if (argc == 2)\n",
        "    {\n",
        "        printf(\"hello, %s\\n\", argv[1]);\n",
        "    }\n",
        "    else\n",
        "    {\n",
        "        printf(\"hello, world\\n\");\n",
        "    }\n",
        "}\n",
        "```\n",
        "\n",
        "Suppose we want to write a program that accepts two command line arguments and prints their sums:\n",
        "\n",
        "## atoi\n",
        "\n",
        "```c\n",
        "#include <stdio.h>\n",
        "#include <stdlib.h>\n",
        "\n",
        "int main (int argc, char *argv[]) {\n",
        "\tint\ta, b;\n",
        "\n",
        "\tif (argc != 3) {\n",
        "\t\tfprintf (stderr, \"wrong number of arguments!\\n\");\n",
        "\t\texit (1);\n",
        "\t}\n",
        "\ta = atoi (argv[1]);\n",
        "\tb = atoi (argv[2]);\n",
        "\tprintf (\"%i\\n\", a + b);\n",
        "\texit (0);\n",
        "}\n",
        "```\n",
        "\n",
        "The two calls to atoi convert the strings argv[1] and argv[2] to integers. atoi stands for \"ASCII to integer.\"\n",
        "\n",
        "\n",
        "\n",
        "What happen when the argument is not integer ?\n"
      ]
    },
    {
      "cell_type": "markdown",
      "metadata": {
        "id": "WYKl6mU9rf62"
      },
      "source": [
        "# Read Data\n",
        "Next lessons you will see how to read/write to files in C. \n",
        "\n",
        "Now, we will see and alternative way to working with files which you will use in your HW1.\n",
        "\n",
        "Example Input\n",
        "\n",
        "8.1402,-5.8022,-7.2376\n",
        "\n",
        "10.1626,-7.4824,-6.5774\n",
        "\n",
        "9.3153,-5.4974,-6.7025\n",
        "\n",
        "9.7950,-5.2550,-9.1757\n",
        "\n",
        "7.9095,-6.6488,-7.6088"
      ]
    },
    {
      "cell_type": "markdown",
      "metadata": {
        "id": "Oo8jWmXBQEfS"
      },
      "source": [
        "The data we need to read is 2d matrix, if we know the size of it ahead of reading, this can be solved with instantiating a sta2d array.\n",
        "\n",
        "But, what if we don't know the size before reading ?\n",
        "\n",
        "Answer: dynamic memory allocation. \n",
        "\n",
        "How?\n",
        "Answer: We will show an option with 2d linked list.\n",
        "\n",
        "**This is just one option and is not mandatory, you can read the data in different ways.**"
      ]
    },
    {
      "cell_type": "markdown",
      "metadata": {
        "id": "slP7EhcWQwOo"
      },
      "source": [
        "\n",
        "\n",
        "```c\n",
        "#include <stdio.h>\n",
        "#include <stdlib.h>\n",
        "\n",
        "struct cord\n",
        "{\n",
        "    double value;\n",
        "    struct cord *next;\n",
        "};\n",
        "struct vector\n",
        "{\n",
        "    struct vector *next;\n",
        "    struct cord *cords;\n",
        "};\n",
        "\n",
        "int main(int argc, char **argv)\n",
        "{\n",
        "\n",
        "    struct vector *head_vec, *curr_vec, *next_vec;\n",
        "    struct cord *head_cord, *curr_cord, *next_cord;\n",
        "    int i, j, rows = 0, cols;\n",
        "    double n;\n",
        "    char c;\n",
        "\n",
        "    head_cord = malloc(sizeof(struct cord));\n",
        "    curr_cord = head_cord;\n",
        "    curr_cord->next = NULL;\n",
        "\n",
        "    head_vec = malloc(sizeof(struct vector));\n",
        "    curr_vec = head_vec;\n",
        "    curr_vec->next = NULL;\n",
        "\n",
        "\n",
        "    while (scanf(\"%lf%c\", &n, &c) == 2)\n",
        "    {\n",
        "\n",
        "        if (c == '\\n')\n",
        "        {\n",
        "            curr_cord->value = n;\n",
        "            curr_vec->cords = head_cord;\n",
        "            curr_vec->next = malloc(sizeof(struct vector));\n",
        "            curr_vec = curr_vec->next;\n",
        "            curr_vec->next = NULL;\n",
        "            head_cord = malloc(sizeof(struct cord));\n",
        "            curr_cord = head_cord;\n",
        "            curr_cord->next = NULL;\n",
        "            continue;\n",
        "        }\n",
        "\n",
        "        curr_cord->value = n;\n",
        "        curr_cord->next = malloc(sizeof(struct cord));\n",
        "        curr_cord = curr_cord->next;\n",
        "        curr_cord->next = NULL;\n",
        "    }\n",
        "\n",
        "    ...\n",
        "    // free memory\n",
        "}\n",
        "\n",
        "```\n",
        "\n"
      ]
    },
    {
      "cell_type": "markdown",
      "metadata": {
        "id": "sLLYBvFsRYMY"
      },
      "source": [
        "# HW1\n",
        "\n",
        "Kmeans Clustering. \n",
        "\n",
        "[Online Simulation](http://alekseynp.com/viz/k-means.html)"
      ]
    },
    {
      "cell_type": "markdown",
      "metadata": {
        "id": "J-4JI-XzI4Kb"
      },
      "source": [
        "# Fun Topic\n",
        "\n"
      ]
    },
    {
      "cell_type": "markdown",
      "metadata": {
        "id": "5DzLwgv0OYqD"
      },
      "source": [
        "## Memory imprecision"
      ]
    },
    {
      "cell_type": "code",
      "execution_count": null,
      "metadata": {
        "colab": {
          "base_uri": "https://localhost:8080/"
        },
        "id": "ftTYw1G2gM62",
        "outputId": "968509e2-15bc-416f-ad0e-c84a97d1c2a8"
      },
      "outputs": [],
      "source": [
        "%%writefile imprecision.c\n",
        "#include <stdio.h>\n",
        "\n",
        "int main(void)\n",
        "{\n",
        "    float x = 1;\n",
        "    float y = 10;\n",
        "\n",
        "    printf(\"%.50f\\n\", x / y);\n",
        "}"
      ]
    },
    {
      "cell_type": "code",
      "execution_count": null,
      "metadata": {
        "id": "XjIX6cTugbqI"
      },
      "outputs": [],
      "source": [
        "!gcc imprecision.c -o imp"
      ]
    },
    {
      "cell_type": "code",
      "execution_count": null,
      "metadata": {
        "colab": {
          "base_uri": "https://localhost:8080/"
        },
        "id": "jzTTYdwcgm9L",
        "outputId": "b4c56b94-4a7c-4f79-b1de-852d40efdc46"
      },
      "outputs": [],
      "source": [
        "!./imp"
      ]
    },
    {
      "cell_type": "markdown",
      "metadata": {
        "id": "5NgwkhguOjdL"
      },
      "source": [
        "It turns out that this is called floating-point imprecision, where we don’t have enough bits to store all possible values. With a finite number of bits for a float, we can’t represent all possible real numbers (of which there are an infinite number of), so the computer has to store the closest value it can. And this can lead to problems where even small differences in value add up, unless the programmer uses some other way to represent decimal values as accurately as needed.\n",
        "\n",
        "More detailed explanation in the below video."
      ]
    },
    {
      "cell_type": "code",
      "execution_count": null,
      "metadata": {
        "cellView": "form",
        "colab": {
          "base_uri": "https://localhost:8080/",
          "height": 336
        },
        "id": "IQW_wRZQMaXf",
        "outputId": "3cd0e02f-6989-457f-d170-63171a056e9a"
      },
      "outputs": [],
      "source": [
        "#@title\n",
        "from IPython.display import HTML\n",
        "\n",
        "HTML('<iframe width=\"560\" height=\"315\" src=\"https://www.youtube.com/embed/wPBjd-vb9eI\" frameborder=\"0\" allow=\"accelerometer; autoplay; encrypted-media; gyroscope; picture-in-picture\" allowfullscreen></iframe>')"
      ]
    }
  ],
  "metadata": {
    "colab": {
      "authorship_tag": "ABX9TyN6C2G3L+XTRL8agd2/aZo8",
      "include_colab_link": true,
      "provenance": [],
      "toc_visible": true
    },
    "kernelspec": {
      "display_name": "Python 3",
      "name": "python3"
    },
    "language_info": {
      "name": "python"
    }
  },
  "nbformat": 4,
  "nbformat_minor": 0
}
