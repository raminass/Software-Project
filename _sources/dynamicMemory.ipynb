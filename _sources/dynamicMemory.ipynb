{
  "cells": [
    {
      "cell_type": "markdown",
      "metadata": {
        "id": "ahrTozIeyfML"
      },
      "source": [
        "# Dynamic memory allocation\n",
        "\n",
        "Imagine you're designing a text editor like Notepad:\n",
        "\n",
        "A user starts with an empty file.\n",
        "As they type, the text grows beyond the initial memory allocated."
      ]
    },
    {
      "cell_type": "markdown",
      "metadata": {
        "id": "arqGanLQhLEg"
      },
      "source": [
        "* #include <stdlib.h>\n",
        "* Functions work with void * - should cast  to required type\n",
        "* return NULL on failure – needs checking\n",
        "* size_t is typically unsigned int\n",
        "\n",
        "```c\n",
        "void *calloc(size_t num, size_t size);\n",
        "/*all allocated bytes are initialized to zero*/\n",
        "\n",
        "void *malloc(size_t size);\n",
        "/*no initialization*/\n",
        "\n",
        "void *realloc( void *ptr, size_t new_size )\n",
        "/*The contents will be unchanged in the range from the start of the region up to the minimum of\n",
        "the old and new sizes. If the new size >  the old size, the added memory will not be initialized.*/\n",
        "\n",
        "void free( void *ptr )\n",
        "```"
      ]
    },
    {
      "cell_type": "markdown",
      "metadata": {
        "id": "fxUEDhq9pIe2"
      },
      "source": [
        "\n",
        "\n",
        "### Key Differences: `malloc` vs `calloc`\n",
        "\n",
        "| **Feature**            | **`malloc`**                              | **`calloc`**                                |\n",
        "|-------------------------|-------------------------------------------|---------------------------------------------|\n",
        "| **Initialization**      | Memory is **not initialized**.           | Memory is **initialized to 0**.            |\n",
        "| **Parameters**          | Takes a single argument (`size`).        | Takes two arguments (`num` and `size`).    |\n",
        "| **Purpose**             | General-purpose memory allocation.       | Suitable for allocating and initializing arrays. |\n",
        "| **Performance**         | Faster, as it skips clearing memory.     | Slightly slower, due to memory initialization. |\n",
        "| **Function Signature**  | `void* malloc(size_t size);`             | `void* calloc(size_t num, size_t size);`   |\n",
        "\n",
        "---\n",
        "\n",
        "### Example:\n",
        "\n",
        "#### Using `malloc`:\n",
        "```c\n",
        "int *arr = (int *)malloc(5 * sizeof(int)); // Allocates memory for 5 integers\n",
        "```\n",
        "\n",
        "#### Using `calloc`:\n",
        "```c\n",
        "int *arr = (int *)calloc(5, sizeof(int)); // Allocates and initializes memory for 5 integers\n",
        "```\n",
        "\n",
        "---\n",
        "\n",
        "### Summary:\n",
        "- Use **`malloc`** when performance is critical, and you’ll initialize the memory manually.\n",
        "- Use **`calloc`** when you need zero-initialized memory (e.g., arrays)."
      ]
    },
    {
      "cell_type": "markdown",
      "metadata": {
        "id": "ZMdv6HG_mYn1"
      },
      "source": [
        "## Lexicographical sort\n",
        "\n",
        "```c\n",
        "int main(void)\n",
        "{\n",
        "\tchar   *w[N];\n",
        "\tchar   word[MAXWORD];\n",
        "\tint    n = 0, i = 0;\n",
        "\n",
        "\tfor ( i = 0; scanf(\"%s\", word) == 1; ++i )\n",
        "\t{\n",
        "\t\tif ( i >= N ) {\n",
        "\t\t      printf( “Sorry, at most %d words can be sorted.”, N );\n",
        "\t\t      exit(1);\n",
        "\t\t}\n",
        "\t\tw[i] = (char *)calloc(strlen(word) + 1, sizeof(char));\n",
        "\t\tassert(w[i]!=NULL);\n",
        "\t\tstrcpy(w[i], word);\n",
        "\t}\n",
        "```"
      ]
    },
    {
      "cell_type": "code",
      "execution_count": null,
      "metadata": {
        "cellView": "form",
        "id": "hZT-Zin_n3GH"
      },
      "outputs": [],
      "source": [
        "# @title\n",
        "%%writefile tmp.c\n",
        "#include <stdio.h>\n",
        "#include <stdlib.h>\n",
        "#include <string.h>\n",
        "#include <assert.h>\n",
        "\n",
        "#define N 5\n",
        "#define MAXWORD 100\n",
        "void sort_words(char *w[], int n);\n",
        "void swap(char **p, char **q);\n",
        "int main(void)\n",
        "{\n",
        "    char *w[N];\n",
        "    char word[MAXWORD];\n",
        "    int n = 0, i = 0;\n",
        "\n",
        "    for (i = 0; scanf(\"%s\", word) == 1; ++i)\n",
        "    {\n",
        "        if (i >= N)\n",
        "        {\n",
        "            printf(\"Sorry, at most % d words can be sorted.\", N);\n",
        "            exit(1);\n",
        "        }\n",
        "        w[i] = (char *)calloc(strlen(word) + 1, sizeof(char));\n",
        "        assert(w[i] != NULL);\n",
        "        strcpy(w[i], word);\n",
        "    }\n",
        "    n = i;\n",
        "    sort_words(w, n);\n",
        "    printf(\"In sorted order:\\n\");\n",
        "    for (i = 0; i < n; ++i)\n",
        "    {\n",
        "        printf(\"%s\\n\", w[i]);\n",
        "        free(w[i]);\n",
        "    }\n",
        "    return 0;\n",
        "}\n",
        "void sort_words(char *w[], int n)\n",
        "{\n",
        "    int i = 0, j = 0;\n",
        "    for (i = 0; i < n; ++i)\n",
        "        for (j = i + 1; j < n; ++j)\n",
        "            if (strcmp(w[i], w[j]) > 0)\n",
        "                swap(&w[i], &w[j]);\n",
        "}\n",
        "\n",
        "void swap(char **p, char **q)\n",
        "{\n",
        "    char *temp = NULL;\n",
        "    temp = *p;\n",
        "    *p = *q;\n",
        "    *q = temp;\n",
        "}\n"
      ]
    },
    {
      "cell_type": "code",
      "execution_count": null,
      "metadata": {
        "cellView": "form",
        "id": "Qmg2qpmin7vr"
      },
      "outputs": [],
      "source": [
        "# @title\n",
        "!gcc -o tmp tmp.c\n",
        "!./tmp"
      ]
    },
    {
      "cell_type": "markdown",
      "metadata": {
        "id": "FJbr8MPjkcJj"
      },
      "source": [
        "# Multidimensional Arrays\n",
        "\n",
        "```c\n",
        "int a[5][2] = {{1, 2}, {3, 4}, {5, 6}, {7, 8}, {9, 10}};\n",
        "\n",
        "int sum(int a[][2])\n",
        "{\n",
        "    int i = 0, j = 0, sum = 0;\n",
        "\n",
        "    for (i = 0; i < 5; ++i)\n",
        "        for (j = 0; j < 2; ++j)\n",
        "            sum += a[i][j];\n",
        "    return sum;\n",
        "}\n",
        "\n",
        "```"
      ]
    },
    {
      "cell_type": "markdown",
      "metadata": {
        "id": "KGMQjkVxk4qx"
      },
      "source": [
        "```c\n",
        "int a[5][2]={{1,2},{3,4},{5,6},{7,8},{9,10}};\n",
        "\n",
        "a[i][j] is equivalent to *(&a[0][0]+2*i+j)\n",
        "What is **(a+3) ?\n",
        "What is *(a[2]+1) ?\n",
        "```\n",
        "\n",
        "How can we allocate a dynamic 2D array?\n"
      ]
    },
    {
      "cell_type": "code",
      "execution_count": null,
      "metadata": {
        "cellView": "form",
        "id": "8jUBsxujsXxO"
      },
      "outputs": [],
      "source": [
        "# @title\n",
        "%%writefile tmp.c\n",
        "#include <stdio.h>\n",
        "\n",
        "int main() {\n",
        "    int a[5][2] = {\n",
        "        {1, 2},\n",
        "        {3, 4},\n",
        "        {5, 6},\n",
        "        {7, 8},\n",
        "        {9, 10}\n",
        "    };\n",
        "\n",
        "    // Demonstrating **(a + 3)\n",
        "    int result1 = **(a + 3); // Access the first element of the 4th row\n",
        "    printf(\"**(a + 3) = %d\\n\", result1);\n",
        "\n",
        "    // Demonstrating *(a[2] + 1)\n",
        "    int result2 = *(a[2] + 1); // Access the second element of the 3rd row\n",
        "    printf(\"*(a[2] + 1) = %d\\n\", result2);\n",
        "\n",
        "    // Verifying using direct indexing\n",
        "    printf(\"a[3][0] = %d (should match **(a + 3))\\n\", a[3][0]);\n",
        "    printf(\"a[2][1] = %d (should match *(a[2] + 1))\\n\", a[2][1]);\n",
        "\n",
        "    return 0;\n",
        "}\n"
      ]
    },
    {
      "cell_type": "code",
      "execution_count": null,
      "metadata": {
        "cellView": "form",
        "id": "cUUOdAH6safj"
      },
      "outputs": [],
      "source": [
        "# @title\n",
        "!gcc -o tmp tmp.c\n",
        "!./tmp"
      ]
    },
    {
      "cell_type": "markdown",
      "metadata": {
        "id": "3SK3mQl3tpOt"
      },
      "source": [
        "## Dynamic matrix allocation (I)\n",
        "\n",
        "```c\n",
        "int **a;\n",
        "\n",
        "a = calloc(n, sizeof(int *));\n",
        "for (i = 0; i < n; i++)\n",
        "    a[i] = calloc(n, sizeof(int));\n",
        "```\n",
        "Can we allocate a contiguous block?\n"
      ]
    },
    {
      "cell_type": "markdown",
      "metadata": {
        "id": "nwimIxHjuO4w"
      },
      "source": [
        "## Dynamic matrix allocation (II)\n",
        "\n",
        "Yes, you can allocate a contiguous block of memory for a 2D array and simulate a 2D pointer array structure. This approach is often preferred for better performance and easier memory management because the entire array is stored in a single block of memory.\n",
        "\n",
        "```c\n",
        "int *p;\n",
        "int **a;\n",
        "\n",
        "p = calloc(n * n, sizeof(int));\n",
        "a = calloc(n, sizeof(int *));\n",
        "for (i = 0; i < n; i++)\n",
        "    a[i] = p + i * n;\n",
        "```"
      ]
    },
    {
      "cell_type": "markdown",
      "metadata": {
        "id": "dA0KMVpvyUGU"
      },
      "source": [
        "# Functions as arguments"
      ]
    },
    {
      "cell_type": "markdown",
      "metadata": {
        "id": "2pfXmsc9usNi"
      },
      "source": [
        "\n",
        "## sum square\n",
        "\n",
        "```c\n",
        "double f(double x);\n",
        "double sum_square(double (*)(double), int m, int n);\n",
        "\n",
        "double sum_square(double f(double), int m, int n)\n",
        "{\n",
        "    int k = 0;\n",
        "    double sum = 0.0;\n",
        "\n",
        "    for (k = m; k <= n; ++k)\n",
        "        sum += f(k) * f(k);\n",
        "    return sum;\n",
        "}\n",
        "```"
      ]
    },
    {
      "cell_type": "markdown",
      "metadata": {
        "id": "dpz7n3VexFO_"
      },
      "source": [
        "Is it call by Reference?"
      ]
    },
    {
      "cell_type": "code",
      "execution_count": null,
      "metadata": {
        "cellView": "form",
        "id": "_hFv_ktTwJ3j"
      },
      "outputs": [],
      "source": [
        "# @title\n",
        "%%writefile tmp.c\n",
        "#include <stdio.h>\n",
        "#include <math.h>\n",
        "\n",
        "double f(double x);\n",
        "double sum_square(double (*)(double), int m, int n);\n",
        "\n",
        "int main(void)\n",
        "{\n",
        "    printf(\"First computation: %.7f\\n\", sum_square(sin, 2, 13));\n",
        "    printf(\"Second computation: %.7f\\n\", sum_square(f, 1, 10000));\n",
        "    return 0;\n",
        "}\n",
        "\n",
        "double f(double x)\n",
        "{\n",
        "    return 1.0 / x;\n",
        "}\n",
        "\n",
        "double sum_square(double f(double), int m, int n)\n",
        "{\n",
        "    int k = 0;\n",
        "    double sum = 0.0;\n",
        "\n",
        "    for (k = m; k <= n; ++k)\n",
        "    {\n",
        "        sum += f(k) * f(k);\n",
        "    }\n",
        "    return sum;\n",
        "}\n"
      ]
    },
    {
      "cell_type": "code",
      "execution_count": null,
      "metadata": {
        "cellView": "form",
        "id": "nfC5Y2ESwNmh"
      },
      "outputs": [],
      "source": [
        "# @title\n",
        "!gcc -o tmp tmp.c -lm\n",
        "!./tmp"
      ]
    },
    {
      "cell_type": "markdown",
      "metadata": {
        "id": "7oQE2Bigya4w"
      },
      "source": [
        "## Find a root of f()\n",
        "by the bisection method\n",
        "\n",
        "```c\n",
        "#include <stdio.h>\n",
        "double   p(double);\n",
        "double   root(double (*)(double), double, double);\n",
        "\n",
        "int main(void)\n",
        "{\n",
        "\tdouble   x = root( p, 0.0, 3.0 );\n",
        "\tprintf( “%s%.16f\\n%s%.16f\\n”, “Approximate root: ”, x,\n",
        "\t\t\t\t    \t“  Function value:  ”, p( x ) );\n",
        "\treturn 0;\n",
        "}\n",
        "```"
      ]
    },
    {
      "cell_type": "code",
      "execution_count": null,
      "metadata": {
        "cellView": "form",
        "id": "wI9BvLx6zQX1"
      },
      "outputs": [],
      "source": [
        "# @title\n",
        "%%writefile tmp.c\n",
        "#include <stdio.h>\n",
        "#define EPS 1e-12\n",
        "\n",
        "double p(double);\n",
        "double root(double (*)(double), double, double);\n",
        "\n",
        "int main(void)\n",
        "{\n",
        "    double x = root(p, 0.0, 3.0);\n",
        "    printf(\"%s%.16f\\n%s%.16f\\n\", \"Approximate root : \", x,\n",
        "           \" Function value :  \", p(x));\n",
        "    return 0;\n",
        "}\n",
        "double p(double x)\n",
        "{\n",
        "    return (x * x * x * x * x - 7.0 * x - 3.0);\n",
        "}\n",
        "\n",
        "double root(double f(double), double a, double b)\n",
        "{\n",
        "    double m = (a + b) / 2.0;\n",
        "\n",
        "    if (f(m) == 0.0 || b - a < EPS)\n",
        "        return m;\n",
        "    else if (f(a) * f(m) < 0.0)\n",
        "        return root(f, a, m);\n",
        "    else\n",
        "        return root(f, m, b);\n",
        "}\n"
      ]
    },
    {
      "cell_type": "code",
      "execution_count": null,
      "metadata": {
        "cellView": "form",
        "id": "gLQtojdKzUOA"
      },
      "outputs": [],
      "source": [
        "# @title\n",
        "!gcc -o tmp tmp.c\n",
        "!./tmp\n"
      ]
    },
    {
      "cell_type": "markdown",
      "metadata": {
        "id": "j4G6kMFbz9aB"
      },
      "source": [
        "## The qsort function\n",
        "\n",
        "```c\n",
        "qsort's prototype in stdlib.h:\n",
        "\n",
        "void qsort(void *array,\n",
        "           size_t n_elem,\n",
        "           size_t elem_size,\n",
        "           int (*compare)(const void *, const void *));\n",
        "\n",
        "compare(a,b) returns negative int if a<b\n",
        "\t\t\treturns 0 if a=b\n",
        "\t\t\treturns positive int if a>b\n",
        "```"
      ]
    },
    {
      "cell_type": "code",
      "execution_count": null,
      "metadata": {
        "cellView": "form",
        "id": "oKlilCRJLEyT"
      },
      "outputs": [],
      "source": [
        "# @title\n",
        "%%writefile tmp.c\n",
        "#include <stdio.h>\n",
        "#include <stdlib.h>\n",
        "\n",
        "#define KEYSIZE 16\n",
        "\n",
        "/* Function prototypes */\n",
        "int compare_int(const void *p1, const void *p2);\n",
        "void print_array(const char *title, const int *key, int n_elem);\n",
        "\n",
        "int main(void)\n",
        "{\n",
        "    int key[] = {4, 3, 1, 67, 55, 8, 0, 4, -5, 37, 7, 4, 2, 9, 1, -1};\n",
        "\n",
        "    /* Print the array before sorting */\n",
        "    print_array(\"before\", key, KEYSIZE);\n",
        "\n",
        "    /* Sort the array using qsort */\n",
        "    qsort(key, KEYSIZE, sizeof(int), compare_int);\n",
        "\n",
        "    /* Print the array after sorting */\n",
        "    print_array(\"after\", key, KEYSIZE);\n",
        "\n",
        "    return 0;\n",
        "}\n",
        "\n",
        "/* Function to print an array */\n",
        "void print_array(const char *title, const int *key, int n_elem)\n",
        "{\n",
        "    int i; /* Declare variables at the start of the block */\n",
        "\n",
        "    printf(\"\\n%s:\\n\", title);\n",
        "    for (i = 0; i < n_elem; ++i)\n",
        "    {\n",
        "        printf(\"%4d\", key[i]);\n",
        "    }\n",
        "    putchar('\\n');\n",
        "}\n",
        "\n",
        "/* Comparison function for qsort */\n",
        "int compare_int(const void *p1, const void *p2)\n",
        "{\n",
        "    const int *q1 = (const int *)p1; /* Cast void* to int* */\n",
        "    const int *q2 = (const int *)p2;\n",
        "\n",
        "    return (*q1 - *q2);\n",
        "}\n"
      ]
    },
    {
      "cell_type": "code",
      "execution_count": null,
      "metadata": {
        "cellView": "form",
        "id": "wXYc4R_jLHxf"
      },
      "outputs": [],
      "source": [
        "# @title\n",
        "!gcc -o tmp tmp.c -lm\n",
        "!./tmp"
      ]
    }
  ],
  "metadata": {
    "colab": {
      "authorship_tag": "ABX9TyOt8chajATdMQ5qGXbAAdZx",
      "include_colab_link": true,
      "private_outputs": true,
      "provenance": [],
      "toc_visible": true
    },
    "kernelspec": {
      "display_name": "Python 3",
      "name": "python3"
    },
    "language_info": {
      "name": "python"
    }
  },
  "nbformat": 4,
  "nbformat_minor": 0
}
