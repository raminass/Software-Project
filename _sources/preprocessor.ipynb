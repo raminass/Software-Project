{
  "cells": [
    {
      "cell_type": "markdown",
      "metadata": {
        "id": "QtneEG-P6whR"
      },
      "source": [
        "# The Preprocessor \n",
        "\n",
        "(Chapter 8)\n"
      ]
    },
    {
      "cell_type": "markdown",
      "metadata": {
        "id": "2J7kIsmF3FRF"
      },
      "source": [
        "\n",
        "\n",
        "                   +-----------+               +---------+               +--------+\n",
        "       -------->   | hello.c   |   -------->   | hello.o |   -------->   | hello  |\n",
        "         edit      +-----------+    compile    +---------+    Linking    +--------+\n",
        "\n",
        "                    Keywords       Preprocessor         \n",
        "                    Identifiers    Lexical analysis     \n",
        "                    Constants      Syntax analysis      \n",
        "                    Operators      Semantic analysis    \n",
        "                    Punctuation    "
      ]
    },
    {
      "cell_type": "markdown",
      "metadata": {
        "id": "SPvEfaj462lC"
      },
      "source": [
        "## Basic Commands\n",
        "\n",
        "```c\n",
        "#include <stdio.h>\n",
        "\n",
        "#include “myfile.h”\n",
        "\n",
        "---------------------------------\n",
        "\n",
        "#define   identifier    string\n",
        "\n",
        "#undef   identifier\n",
        "```"
      ]
    },
    {
      "cell_type": "markdown",
      "metadata": {
        "id": "C9bOhsGQ6_x7"
      },
      "source": [
        "## #define\n",
        "\n",
        "```c\n",
        "#define PI    3.14159\n",
        "#define C2    99792.458 /*the speed of light*/\n",
        "\n",
        "#define EOF   (-1)\n",
        "#define MAXINT 2147483647\n",
        "\n",
        "#define EQ ==\n",
        "\n",
        "#define do  /* blank */\n",
        "\n",
        "while (i EQ 1) do {\n",
        "    ......\n",
        "```"
      ]
    },
    {
      "cell_type": "markdown",
      "metadata": {
        "id": "bZaMNavM7K9u"
      },
      "source": [
        "# Macros\n",
        "\n",
        "```c\n",
        "\n",
        "#define SQ(x) ((x) * (x))\n",
        "\n",
        "SQ(7 + w)    /*expands to */    ((7 + w) * (7 + w))\n",
        "\n",
        "SQ(SQ(*p))    /*expands to */    ((((*p) * (*p))) * (((*p) * (*p))))\n",
        "\n",
        "\n",
        "```"
      ]
    },
    {
      "cell_type": "markdown",
      "metadata": {
        "id": "ryWYsweU73El"
      },
      "source": [
        "```c\n",
        "#define SQ(x) x * x\n",
        "\n",
        "SQ(a + b)    /*expands to */    a + b * a + b\n",
        "```"
      ]
    },
    {
      "cell_type": "markdown",
      "metadata": {
        "id": "JeH2aiDb8Fis"
      },
      "source": [
        "```c\n",
        "#define SQ(x) (x) * (x)\n",
        "\n",
        "4 / SQ (2)    /*expands to */    4 / (2) * (2)\n",
        "```"
      ]
    },
    {
      "cell_type": "markdown",
      "metadata": {
        "id": "gPp0tDbl8fy0"
      },
      "source": [
        "```c\n",
        "#define SQ (x) ((x) * (x))\n",
        "\n",
        "SQ(7)    /*expands to */    (x) ((x) * (x)) (7)\n",
        "```"
      ]
    },
    {
      "cell_type": "markdown",
      "metadata": {
        "id": "1fdWnE-M85Ku"
      },
      "source": [
        "```c\n",
        "#define   SQ(x)   ((x) * (x)); /*Be careful!!!*/\n",
        "\n",
        "/*because*/\n",
        "if (x == 2)\n",
        "   x = SQ(y);\n",
        "else\n",
        "   ++x;\n",
        "\n",
        "```"
      ]
    },
    {
      "cell_type": "markdown",
      "metadata": {
        "id": "fsUiOfal9glh"
      },
      "source": [
        "## Nested Macros\n",
        "\n",
        "```c\n",
        "#define min(x, y) (((x) < (y)) ? (x) : (y))\n",
        "\n",
        "m = min(u, v)    /*expands to */    m = (((u) < (v)) ? (u) : (v))\n",
        "\n",
        "#define   min4(a, b, c, d)   min(min(a,b), min(c,d))\n",
        "```"
      ]
    },
    {
      "cell_type": "markdown",
      "metadata": {
        "id": "_cNQwiX--te-"
      },
      "source": [
        "You can stop the compiler after the preprocessing step and view the code:\n",
        "```shell\n",
        "gcc -E tmp.c\n",
        "```"
      ]
    },
    {
      "cell_type": "code",
      "execution_count": null,
      "metadata": {
        "cellView": "form",
        "id": "Hmwpc_NX-J72"
      },
      "outputs": [],
      "source": [
        "# @title\n",
        "%%writefile tmp.c\n",
        "#include <stdio.h>\n",
        "#define SQUARE(x) ((x) * (x))\n",
        "\n",
        "int main() {\n",
        "    printf(\"%d\\n\", SQUARE(5));\n",
        "    return 0;\n",
        "}\n"
      ]
    },
    {
      "cell_type": "code",
      "execution_count": null,
      "metadata": {
        "cellView": "form",
        "id": "x7O1BmEF-Qv4"
      },
      "outputs": [],
      "source": [
        "# @title\n",
        "!gcc tmp.c -o tmp\n",
        "!./tmp"
      ]
    },
    {
      "cell_type": "markdown",
      "metadata": {
        "id": "3ojuze4wJ24M"
      },
      "source": [
        "## More about Macros\n",
        "\n",
        "\n",
        "Macros are not functions Even when written with all the parentheses\n",
        "\n",
        "```c\n",
        "#define MAX(a, b) (((a) > (b)) ? (a) : (b))\n",
        "int a[4] = {0};\n",
        "int biggest = 0;\n",
        "\n",
        "biggest = x[0];\n",
        "i = 1;\n",
        "while (i < 4)\n",
        "    biggest = MAX(biggest, x[i++]);\n",
        "```\n",
        "This code would have worked fine if MAX was a function !\n",
        "\n",
        "Expands to:\n",
        "```c\n",
        "biggest = (((biggest) > (x[i++])) ? (biggest) : (x[i++]));\n",
        "```\n",
        "\n",
        "`i` is incremented **twice** when the condition `(biggest > x[i++])` is **false**, and only **once** when it is **true**.\n",
        "\n"
      ]
    },
    {
      "cell_type": "markdown",
      "metadata": {
        "id": "uzHcIl-YLFO4"
      },
      "source": [
        "# Conditional Compilation\n",
        "\n",
        "```c\n",
        "#if constant_integral_expression\n",
        "#ifdef  identifier\n",
        "#ifndef identifier\n",
        "\n",
        "#endif\n",
        "```"
      ]
    },
    {
      "cell_type": "markdown",
      "metadata": {
        "id": "2R527XZ8L5jZ"
      },
      "source": [
        "## Conditional Compilation (example 1)\n",
        "\n",
        "```c\n",
        "#if defined ( HP9000 ) || defined ( SUN4 ) && !defined( VAX )\n",
        "\n",
        "/*Machine-dependent code*/\n",
        "\n",
        "\n",
        "#endif\n",
        "```"
      ]
    },
    {
      "cell_type": "markdown",
      "metadata": {
        "id": "VDSm_f_4MEAH"
      },
      "source": [
        "## Conditional Compilation (example 2)\n",
        "\n",
        "```c\n",
        "#define DEBUG\n",
        "\n",
        "#ifdef DEBUG\n",
        "\n",
        "printf( “debug: a = %d\\n”, a );\n",
        "\n",
        "#endif\n",
        "```"
      ]
    },
    {
      "cell_type": "markdown",
      "metadata": {
        "id": "9CYrLCWjMI95"
      },
      "source": [
        "## Conditional Compilation (example 3)\n",
        "\n",
        "```c\n",
        "#ifndef __HEADER_H\n",
        "#define __HEADER_H\n",
        ".\n",
        ".\n",
        ".\n",
        "#endif\n",
        "```"
      ]
    },
    {
      "cell_type": "markdown",
      "metadata": {
        "id": "-NRwYcnDMNNQ"
      },
      "source": [
        "## Conditional Compilation\n",
        "\n",
        "```c\n",
        "statement\n",
        "#if 0\n",
        "\n",
        "more statements\n",
        "#endif\n",
        "\n",
        "and still more statements\n",
        "\n",
        "------------------------------------------\n",
        "\n",
        "#elif constant_interal_expression\n",
        "\n",
        "#else\n",
        "\n",
        "#endif\n",
        "```"
      ]
    },
    {
      "cell_type": "markdown",
      "metadata": {
        "id": "qBseywssMXea"
      },
      "source": [
        "# Predefined Macros\n",
        "\n",
        "Four predefined macros (can’t be undefined) :\n",
        "\n",
        "\n",
        "```c\n",
        "__DATE__\tA string containing the current date\n",
        "__FILE__\tA string containing the file name\n",
        "__LINE__\tAn integer representing the current line number\n",
        "__TIME__\tA string containing the current time\n",
        "\n",
        "\n"
      ]
    },
    {
      "cell_type": "markdown",
      "metadata": {
        "id": "j93PuatN-A92"
      },
      "source": [
        "# **Header Files**\n",
        "\n",
        "## **What are Header Files?**\n",
        "Header files (`.h` files) contain **declarations** of functions, macros, constants, and structures. They allow for code reuse and modularity by separating the interface (declarations) from the implementation (definitions).\n",
        "\n",
        "## **Key Points:**\n",
        "- **Function Prototypes**: Declare functions that will be defined in other source files.\n",
        "- **Macros and Constants**: Define reusable code snippets or constants.\n",
        "- **Include Guard**: Prevents multiple inclusions of the same header file.\n",
        "\n",
        "## **Example: Header File (`math_functions.h`)**\n",
        "\n",
        "```c\n",
        "#ifndef MATH_FUNCTIONS_H  // Include guard to prevent multiple inclusions\n",
        "#define MATH_FUNCTIONS_H\n",
        "\n",
        "// Function prototypes\n",
        "int add(int a, int b);\n",
        "int subtract(int a, int b);\n",
        "\n",
        "#endif // MATH_FUNCTIONS_H\n",
        "```\n",
        "\n",
        "---\n",
        "\n",
        "## **Conditional Compilation in C**\n",
        "\n",
        "### **What is Conditional Compilation?**\n",
        "Conditional compilation allows for compiling code conditionally based on certain preprocessor directives like `#define`, `#ifdef`, `#ifndef`, and `#endif`. It is useful for including or excluding code depending on different conditions (e.g., platform-specific code, debugging).\n",
        "\n",
        "### **Key Points:**\n",
        "- **`#define`**: Defines a constant or flag for conditional checks.\n",
        "- **`#ifdef` / `#ifndef`**: Checks if a macro is defined or not.\n",
        "- **`#endif`**: Ends a conditional block.\n",
        "\n",
        "### **Example: Conditional Compilation with Debug Flag**\n",
        "\n",
        "We will modify the program to conditionally include a debug message.\n",
        "\n",
        "#### **1. Header File (`math_functions.h`)**\n",
        "\n",
        "```c\n",
        "#ifndef MATH_FUNCTIONS_H\n",
        "#define MATH_FUNCTIONS_H\n",
        "\n",
        "// Function prototypes\n",
        "int add(int a, int b);\n",
        "int subtract(int a, int b);\n",
        "\n",
        "#endif // MATH_FUNCTIONS_H\n",
        "\n",
        "// Conditionally include debugging\n",
        "#define DEBUG   // Comment this line to disable debug messages\n",
        "```\n",
        "\n",
        "#### **2. Implementation File (`math_functions.c`)**\n",
        "\n",
        "```c\n",
        "#include \"math_functions.h\"\n",
        "#include <stdio.h>\n",
        "\n",
        "// Function definitions\n",
        "int add(int a, int b) {\n",
        "    return a + b;\n",
        "}\n",
        "\n",
        "int subtract(int a, int b) {\n",
        "    return a - b;\n",
        "}\n",
        "```\n",
        "\n",
        "#### **3. Main File (`main.c`)**\n",
        "\n",
        "```c\n",
        "#include <stdio.h>\n",
        "#include \"math_functions.h\"\n",
        "\n",
        "\n",
        "int main() {\n",
        "    int sum = add(5, 3);\n",
        "    int difference = subtract(5, 3);\n",
        "\n",
        "    // Conditional Debug Output\n",
        "    #ifdef DEBUG\n",
        "    printf(\"Debug: Sum is %d\\n\", sum);\n",
        "    #endif\n",
        "\n",
        "    printf(\"Sum: %d\\n\", sum);\n",
        "    printf(\"Difference: %d\\n\", difference);\n",
        "\n",
        "    return 0;\n",
        "}\n",
        "```\n",
        "\n",
        "### **Explanation:**\n",
        "- **`#define DEBUG`**: This flag enables the debug message.\n",
        "- **`#ifdef DEBUG`**: If `DEBUG` is defined, the debug message will be included in the compilation.\n",
        "- **No `DEBUG` flag**: If you comment out `#define DEBUG`, the debug message will be excluded from the compilation.\n",
        "\n",
        "---\n",
        "\n",
        "## **Compilation Steps**\n",
        "\n",
        "To compile and link the program:\n",
        "\n",
        "1. Compile and link everything in one command:\n",
        "\n",
        "   ```bash\n",
        "   gcc main.c math_functions.c -o program\n",
        "   ```\n",
        "\n",
        "2. Run the program:\n",
        "\n",
        "   ```bash\n",
        "   ./program\n",
        "   ```\n",
        "\n"
      ]
    },
    {
      "cell_type": "markdown",
      "metadata": {
        "id": "Ii9tSbI-MpYJ"
      },
      "source": [
        "## Assert\n",
        "\n",
        "```c\n",
        "#include <stdio.h>\n",
        "#include <stdlib.h>\n",
        "\n",
        "#if defined(NDEBUG)\n",
        "#define assert(ignore) ((void)0) /* ignore it */\n",
        "#else\n",
        "#define assert(expr)                            \\\n",
        "    do                                          \\\n",
        "    {                                           \\\n",
        "        if (!(expr))                            \\\n",
        "        {                                       \\\n",
        "            printf(\"\\n%s %s\\n%s %s\\n%s %d\\n\\n\", \\\n",
        "                   \"Assertion failed:\", #expr,  \\\n",
        "                   \"In file:\", __FILE__,        \\\n",
        "                   \"At line:\", __LINE__);       \\\n",
        "            abort();                            \\\n",
        "        }                                       \\\n",
        "    } while (0)\n",
        "#endif\n",
        "\n",
        "```"
      ]
    }
  ],
  "metadata": {
    "colab": {
      "authorship_tag": "ABX9TyOgW3BAMXfDV0xvlmePKC+W",
      "include_colab_link": true,
      "private_outputs": true,
      "provenance": [],
      "toc_visible": true
    },
    "kernelspec": {
      "display_name": "Python 3",
      "name": "python3"
    },
    "language_info": {
      "name": "python"
    }
  },
  "nbformat": 4,
  "nbformat_minor": 0
}
