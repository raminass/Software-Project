{
  "cells": [
    {
      "cell_type": "markdown",
      "metadata": {
        "id": "lPyGsQy4EoEs"
      },
      "source": [
        "# C Exam Questions"
      ]
    },
    {
      "cell_type": "markdown",
      "metadata": {
        "id": "-H82OEmREvrB"
      },
      "source": [
        "## 2021 AA\n",
        "1.a(15)\n",
        "Write a program that gets a number of command line's arguments from the user, the program has to print the number of arguments (excluding the name of the program) that as a string they are 1 char long.\n",
        "\n",
        "2.b(15)\n",
        "\n",
        "Given the below linked list:\n",
        "\n",
        "\n",
        "```c\n",
        "typedef struct list_t {\n",
        "      int val;\n",
        "      struct list_t* next;\n",
        "} LIST;\n",
        "```\n",
        "Write a function concat the receives 2 pointers to non empty linked lists, and concatenates the second LL to the end of the first one, no need to return anything.\n",
        "\n",
        "3.c(15)\n",
        "\n",
        "Write a function called create, that gets a natural number n and returns a pointer called a, the pointer should point to a data structure that stores n*n integers, and it's elements are accecible using this syntaxt a[i][j] (i,j are between 1-n) and all values are initialized to 0.\n",
        "\n"
      ]
    },
    {
      "cell_type": "markdown",
      "metadata": {
        "id": "5VLc8KXfKdaA"
      },
      "source": [
        "Solution\n",
        "\n",
        "```c\n",
        "void main(int argc, char* argv[])\n",
        "{\n",
        "\tint count = 0;\n",
        "\tfor (int i = 1; i < argc; ++i)\n",
        "\t{\n",
        "\t\tchar* arg = argv[i];\n",
        "\t\tif(arg[1] == '\\0')\n",
        "\t\t{\n",
        "\t\t\tcount++;\n",
        "\t\t}\n",
        "\t}\n",
        "\n",
        "\tprintf(\"%d\\n\", cou);\n",
        "}\n",
        "\n",
        "```\n",
        "\n",
        "\n",
        "\n",
        "```c\n",
        "void concat(LIST* a, LIST* b)\n",
        "{\n",
        "\twhile (a->next != NULL)\n",
        "\t{\n",
        "\t\ta = a->next;\n",
        "\t}\n",
        "\n",
        "\ta->next = b;\n",
        "}\n",
        "```\n",
        "\n",
        "\n",
        "\n",
        "```c\n",
        "int** create(int n)\n",
        "{\n",
        "\tint i, j;\n",
        "\tint **vals = (int**)malloc(n * sizeof(int*));\n",
        "\tassert(vals);\n",
        "\tfor (i = 0; i < n; i++)\n",
        "\t{\n",
        "\t\tint* m = (int*)malloc(n * sizeof(int));\n",
        "\t\tassert(m);\n",
        "\t\tfor (j = 0; j < n; j++)\n",
        "\t\t{\n",
        "\t\t\tm[j] = 0;\n",
        "\t\t}\n",
        "\t\tvals[i] = m-1 ;\n",
        "\t}\n",
        "\n",
        "\n",
        "\treturn vals-1;\n",
        "}\n",
        "\n",
        "```\n",
        "\n"
      ]
    }
  ],
  "metadata": {
    "colab": {
      "authorship_tag": "ABX9TyP/EeNc2SORWwqIP/Fso6Oa",
      "include_colab_link": true,
      "provenance": [],
      "toc_visible": true
    },
    "kernelspec": {
      "display_name": "Python 3",
      "name": "python3"
    },
    "language_info": {
      "name": "python"
    }
  },
  "nbformat": 4,
  "nbformat_minor": 0
}
