{
 "cells": [
  {
   "cell_type": "markdown",
   "metadata": {},
   "source": [
    "[Open PDF](parallel-progeramming.pdf)"
   ]
  },
  {
   "cell_type": "markdown",
   "metadata": {},
   "source": [
    "<!DOCTYPE html>\n",
    "<html>\n",
    "<head>\n",
    "    <title>PDF.js Example</title>\n",
    "    <script src=\"https://cdnjs.cloudflare.com/ajax/libs/pdf.js/2.10.377/pdf.min.js\"></script>\n",
    "    <style>\n",
    "        #pdf-viewer {\n",
    "            width: 100%;\n",
    "            height: 600px;\n",
    "            border: 1px solid black;\n",
    "        }\n",
    "    </style>\n",
    "</head>\n",
    "<body>\n",
    "    <canvas id=\"pdf-viewer\"></canvas>\n",
    "    <script>\n",
    "        const url = 'parallel-progeramming.pdf'; // Replace with your PDF file path\n",
    "\n",
    "        const pdfjsLib = window['pdfjs-dist/build/pdf'];\n",
    "        pdfjsLib.GlobalWorkerOptions.workerSrc = 'https://cdnjs.cloudflare.com/ajax/libs/pdf.js/2.10.377/pdf.worker.min.js';\n",
    "\n",
    "        const loadingTask = pdfjsLib.getDocument(url);\n",
    "        loadingTask.promise.then(pdf => {\n",
    "            console.log('PDF loaded');\n",
    "\n",
    "            // Fetch the first page\n",
    "            const pageNumber = 1;\n",
    "            pdf.getPage(pageNumber).then(page => {\n",
    "                console.log('Page loaded');\n",
    "\n",
    "                const scale = 1.5;\n",
    "                const viewport = page.getViewport({ scale: scale });\n",
    "\n",
    "                // Prepare canvas using PDF page dimensions\n",
    "                const canvas = document.getElementById('pdf-viewer');\n",
    "                const context = canvas.getContext('2d');\n",
    "                canvas.height = viewport.height;\n",
    "                canvas.width = viewport.width;\n",
    "\n",
    "                // Render PDF page into canvas context\n",
    "                const renderContext = {\n",
    "                    canvasContext: context,\n",
    "                    viewport: viewport\n",
    "                };\n",
    "                page.render(renderContext);\n",
    "            });\n",
    "        }, reason => {\n",
    "            console.error(reason);\n",
    "        });\n",
    "    </script>\n",
    "</body>\n",
    "</html>"
   ]
  }
 ],
 "metadata": {
  "language_info": {
   "name": "python"
  }
 },
 "nbformat": 4,
 "nbformat_minor": 2
}
