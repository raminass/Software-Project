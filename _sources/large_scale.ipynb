{
  "cells": [
    {
      "cell_type": "markdown",
      "metadata": {
        "colab_type": "text",
        "id": "view-in-github"
      },
      "source": [
        "<a href=\"https://colab.research.google.com/github/raminass/Software-Project/blob/main/large_scale.ipynb\" target=\"_parent\"><img src=\"https://colab.research.google.com/assets/colab-badge.svg\" alt=\"Open In Colab\"/></a>"
      ]
    },
    {
      "cell_type": "markdown",
      "metadata": {},
      "source": [
        "# Large Scale + C Example Test"
      ]
    },
    {
      "cell_type": "markdown",
      "metadata": {
        "id": "uz320e1PEBsj"
      },
      "source": [
        "# Example of Large scale project\n",
        "\n",
        "[Linux Source Code](https://github.com/torvalds/linux)"
      ]
    },
    {
      "cell_type": "markdown",
      "metadata": {
        "id": "UIdUcXmjXQlX"
      },
      "source": [
        "# C modules\n",
        "\n",
        "Modules in C are just source files that contain functions, variables, and other definitions. A header file is a file that contains declarations of functions, variables, and other constructs that are shared between multiple source files. Header files allow you to use the declarations in multiple source files without having to copy and paste the declarations into each source file.\n",
        "\n",
        "Here's an example of how you might use multiple modules and a header file in C:\n",
        "\n",
        "\n",
        "\n",
        "```c\n",
        "// foo.c\n",
        "#include \"foo_bar.h\"\n",
        "\n",
        "int x = 1;\n",
        "\n",
        "int foo(int d) {\n",
        "    return d + x;\n",
        "}\n",
        "\n",
        "// bar.c\n",
        "#include \"foo_bar.h\"\n",
        "\n",
        "int y = 2;\n",
        "\n",
        "int bar(int d) {\n",
        "    return d + y;\n",
        "}\n",
        "\n",
        "// foo_bar.h\n",
        "#ifndef FOOBAR_H_\n",
        "#define FOOBAR_H_\n",
        "\n",
        "int foo(int d);  /* An example function declaration */\n",
        "int bar(int d);\n",
        "#endif // FOOBAR_H_\n",
        "\n",
        "```\n",
        "\n"
      ]
    },
    {
      "cell_type": "markdown",
      "metadata": {
        "id": "d5Bvo-QUY229"
      },
      "source": [
        "In this example, foo.c and bar.c are source files that contain definitions for the functions foo and bar, respectively. foo_bar.h is a header file that declares foo and bar as functions.\n",
        "\n",
        "To use the definitions from foo.c and bar.c in another source file, you would include foo_bar.h at the top of the file like this:\n",
        "\n",
        "\n",
        "\n",
        "```c\n",
        "//main.c\n",
        "#include <stdio.h>\n",
        "#include \"foo_bar.h\" /* Include the header here, to obtain the function declaration */\n",
        "\n",
        "int main(void)\n",
        "{\n",
        "    int a = foo(3); /* Use the function here */\n",
        "    int b = bar(3);\n",
        "    printf(\"%d\\n\", a);\n",
        "    printf(\"%d\\n\", b);\n",
        "    return 0;\n",
        "}\n",
        "```\n",
        "\n",
        "\n",
        "```shell\n",
        "$ gcc -o my_app main.c foo.c bar.c\n",
        "$ ./my_app\n",
        "4\n",
        "5\n",
        "```\n",
        "\n",
        "\n"
      ]
    },
    {
      "cell_type": "markdown",
      "metadata": {
        "id": "wkU0iT0Ie5Wu"
      },
      "source": [
        "You can also compile the individual .c files as shown below and finally create the *greetings executable as shown below.\n",
        "\n",
        "\n",
        "\n",
        "```shell\n",
        "% gcc -c foo.c\n",
        "% gcc -c bar.c\n",
        "% gcc -c main.c\n",
        "% gcc -o my_app main.o foo.o bar.o\n",
        "```\n",
        "\n"
      ]
    },
    {
      "cell_type": "markdown",
      "metadata": {
        "id": "V5b2Yvnx8USA"
      },
      "source": [
        "# Dependency Management\n",
        "In C (and other programming languages), dependency management refers to the process of handling the dependencies between different parts of a project. In a C project, dependencies can occur between source files, header files, and libraries.\n",
        "\n",
        "For example, consider a project from previous section:"
      ]
    },
    {
      "cell_type": "markdown",
      "metadata": {
        "id": "YTvRA2otE-66"
      },
      "source": [
        "\n",
        "\n",
        "```shell\n",
        "main.c\n",
        "foo.c\n",
        "bar.c\n",
        "foo_bar.h\n",
        "```\n",
        "\n",
        "In this case, main.c depends on foo.c and barr.c, since it includes the header file and calls functions defined in the source file.\n",
        "\n"
      ]
    },
    {
      "cell_type": "markdown",
      "metadata": {
        "id": "yZ6YNU_JFNG4"
      },
      "source": [
        "## How is the dependency manged ?\n",
        "\n",
        "To manage these dependencies, you can use a tool like ***make*** to specify the rules for building the project. The makefile can specify the dependencies between the files and the commands needed to build them.\n",
        "\n",
        "For example, the foobar project:\n",
        "\n",
        "```shell\n",
        "my_app: main.o foo.o bar.o foo_bar.h\n",
        "\tgcc -o my_app main.o foo.o bar.o\n",
        "\n",
        "main.o: main.c\n",
        "\tgcc -c main.c\n",
        "\n",
        "foo.o: foo.c\n",
        "\tgcc -c foo.c\n",
        "\n",
        "bar.o: bar.c\n",
        "\tgcc -c bar.c\n",
        "\n",
        "```\n",
        "\n",
        "In this makefile, the object files *main.o*, `foo.o` and `bar.o` are specified as dependencies for the target `my_app`. This means that `main.o` `foo.o` and `bar.o` will be built before my_app is built.\n",
        "\n",
        "Dependency management is an important aspect of building C projects, as it ensures that the necessary files are built and up-to-date before they are used to build the final executables."
      ]
    },
    {
      "cell_type": "markdown",
      "metadata": {
        "id": "l2-BUP9WGSNS"
      },
      "source": [
        "## What alternatives are there to Make?\n",
        "\n",
        "Popular C/C++ alternative build systems are `SCons`, `CMake`, `Bazel`, and `Ninja`. Some code editors like Microsoft Visual Studio have their own built in build tools. For Java, there's `Ant`, `Maven`, and `Gradle`. Other languages like Go and Rust have their own build tools.\n",
        "\n",
        "Interpreted languages like Python, Ruby, and Javascript don't require an analogue to Makefiles. The goal of Makefiles is to compile whatever files need to be compiled, based on what files have changed. But when files in interpreted languages change, nothing needs to get recompiled. When the program runs, the most recent version of the file is used."
      ]
    },
    {
      "cell_type": "markdown",
      "metadata": {
        "id": "jG0NpyJ5GkDj"
      },
      "source": [
        "## Makefile\n",
        "\n",
        "A makefile is a file that contains a set of rules for building executables from source files. Makefiles are often used in C/C++ projects to specify how the executables should be built from the source code.\n",
        "\n",
        "Here is an example of a simple makefile for a C project:\n",
        "\n",
        "\n",
        "\n",
        "\n",
        "```shell\n",
        "# Specify the target executable and the source files needed to build it\n",
        "my_app: main.o foo.o bar.o foo_bar.h\n",
        "\tgcc -o my_app main.o foo.o bar.o\n",
        "# Specify the object files that are generated from the corresponding source files\n",
        "main.o: main.c\n",
        "\tgcc -c main.c\n",
        "\n",
        "foo.o: foo.c\n",
        "\tgcc -c foo.c\n",
        "\n",
        "bar.o: bar.c\n",
        "\tgcc -c bar.c\n",
        "\n",
        "```\n",
        "To build the target executable, you would run the make command:\n",
        "\n",
        "\n",
        "\n",
        "```shell\n",
        "make\n",
        "```\n",
        "\n",
        "You can also specify a specific target to build by passing it as an argument to the make command:\n",
        "\n",
        "```shell\n",
        "make my_app\n",
        "```\n"
      ]
    },
    {
      "cell_type": "markdown",
      "metadata": {
        "id": "rqvLjTzyFqth"
      },
      "source": [
        "The following Makefile ultimately runs all three targets. When you run make in the terminal, it will build a program called *my_app* in a series of steps:\n",
        "\n",
        "\n",
        "\n",
        "*   Make selects the target **my_app**, because the first target is the default target\n",
        "*   **my_app** requires **main.o foo.o bar.o foo_bar.h**, so make searches for the **main.o foo.o bar.o foo_bar.h** targets\n",
        "*   **main.o** requires **main.c**, so make searches for the **main.c** target, **main.c** has no dependencies\n",
        "*   The gcc -c command is then run, because all of the **main.o** dependencies are finished\n",
        "*   **foo.o** requires **foo.c**, so make searches for the **foo.c** target, **foo.c** has no dependencies\n",
        "*   The gcc -c command is then run, because all of the **foo.o** dependencies are finished\n",
        "*   **bar.o** requires **bar.c**, so make searches for the **bar.c** target, **bar.c** has no dependencies\n",
        "*   The gcc -c command is then run, because all of the **bar.o** dependencies are finished\n",
        "*   **foo_bar.h** has no dependency, and Make just checks if it exists.\n",
        "*   The top gcc command is run, because all the **my_app** dependencies are finished\n",
        "*   That's it: **my_app** is a compiled c program\n",
        "\n",
        "\n"
      ]
    },
    {
      "cell_type": "markdown",
      "metadata": {
        "id": "TDFpLb2jHsBP"
      },
      "source": [
        "When we run make again, the following set of steps happens:\n",
        "\n",
        "The first target is selected, because the first target is the default target.\n",
        "This has a prerequisite of **main.o foo.o bar.o and foo_bar.h**\n",
        "Make decides if it should run the my_app target. It will only run if **my_app** doesn't exist, or one of the prerequisite changed.\n",
        "This last step is critical, and is the essence of make. What it's attempting to do is decide if the prerequisites of **my_app** have changed since **my_app** was last compiled. That is, if: **main.c, foo.c, bar.c or foo_bar.h** is modified, running make should recompile the file.\n",
        "\n",
        "To make this happen, it uses the filesystem timestamps as a proxy to determine if something has changed."
      ]
    },
    {
      "cell_type": "markdown",
      "metadata": {
        "id": "wOhdQDNEIGL2"
      },
      "source": [
        "## Syntax and structure\n",
        "\n",
        "A Makefile consists of a set of rules. A rule generally looks like this:\n",
        "\n",
        "\n",
        "\n",
        "```shell\n",
        "target: prerequisites\n",
        "\tcommand\n",
        "\tcommand\n",
        "\tcommand\n",
        "```\n",
        "\n",
        "\n",
        "*   The target usually are file names.\n",
        "*   The commands are a series of steps typically used to make the target. These need to start with a tab character, not spaces.\n",
        "*   The prerequisites are also file names, separated by spaces. These files need to exist before the commands for the target are run. These are also called dependencies"
      ]
    },
    {
      "cell_type": "markdown",
      "metadata": {
        "id": "vd0HR3VVHnMz"
      },
      "source": [
        "## Variables\n",
        "\n",
        "You can use variables in a makefile to make it more flexible and easier to maintain. For example:\n",
        "\n",
        "\n",
        "\n",
        "```shell\n",
        "CC = gcc\n",
        "CFLAGS = -Wall -Wextra -Werror\n",
        "\n",
        "hello: main.o greetings.o\n",
        "    $(CC) -o hello main.o greetings.o $(CFLAGS)\n",
        "\n",
        "main.o: main.c\n",
        "    $(CC) -c main.c $(CFLAGS)\n",
        "\n",
        "greetings.o: greetings.c\n",
        "    $(CC) -c greetings.c $(CFLAGS)\n",
        "\n",
        "```\n",
        "\n"
      ]
    },
    {
      "cell_type": "markdown",
      "metadata": {
        "id": "JjtdWxDfIjr5"
      },
      "source": [
        "## Make clean\n",
        "\n",
        "clean is often used as a target that removes the output of other targets, but it is not a special word in Make. You can run make and make clean on this to create and delete some_file (e.g binaries).\n",
        "\n",
        "\n",
        "\n",
        "```shell\n",
        "target: prerequisites\n",
        "    command\n",
        "\n",
        "clean:\n",
        "\trm -f some_file\n",
        "```\n",
        "Example, clean all intermediate binaries:\n",
        "\n",
        "\n",
        "\n",
        "```shell\n",
        "clean:\n",
        "\trm -f *.o\n",
        "```\n",
        "\n",
        "\n"
      ]
    },
    {
      "cell_type": "markdown",
      "metadata": {
        "id": "MWsFtmkNPuYT"
      },
      "source": [
        "# Version Control\n",
        "\n",
        "The management of changes to documents, computer programs, web sites,\n",
        "and other collections of information\n",
        "\n",
        "Main goals\n",
        "*   Track changes of different versions as they existed at different timestamps.\n",
        "*   The ability to branch and merge to and from several code branches.\n",
        "\n",
        "There are many vc tools, the most popular one is Git.\n"
      ]
    },
    {
      "cell_type": "markdown",
      "metadata": {
        "id": "NDQceAYHXMB1"
      },
      "source": [
        "## Git\n",
        "\n",
        "Started as an open source project to manage the source code of Linux.\n",
        "GitHub is a company that provides Git publicly and storage of the code in their cloud, it's free (up to some size)\n"
      ]
    },
    {
      "cell_type": "markdown",
      "metadata": {
        "id": "nSKz1j12Xabh"
      },
      "source": [
        "## Working with Git\n",
        "\n",
        "We will demonstrate key steps when working with Git over Github.\n",
        "There are plenty of commands that are rarely used, always you can refer tot the documentation if advanced things needed."
      ]
    },
    {
      "cell_type": "markdown",
      "metadata": {
        "id": "sFtGP_0UYOLf"
      },
      "source": [
        "###1.Install\n",
        "Install Git on your computer by downloading it from the official website (https://git-scm.com/) or using a package manager (e.g., apt-get install git on Ubuntu).\n",
        "\n"
      ]
    },
    {
      "cell_type": "markdown",
      "metadata": {
        "id": "VmXCdF-aYT0M"
      },
      "source": [
        "###2.Create a local git repository\n",
        "\n",
        "\n",
        "\n",
        "```shell\n",
        "git init\n",
        "```\n",
        "This will create a new .git directory in your project folder, which will be used to store the repository information.\n"
      ]
    },
    {
      "cell_type": "markdown",
      "metadata": {
        "id": "qwTsstdaYy3x"
      },
      "source": [
        "###3.Make some changes\n",
        "\n",
        "Make some code changes or addition.\n"
      ]
    },
    {
      "cell_type": "markdown",
      "metadata": {
        "id": "epQX_b4aZYCa"
      },
      "source": [
        "###4.Stage your changes\n",
        "\n",
        "Adding the files you want to track to the repository by running the following command:\n",
        "\n",
        "\n",
        "```shell\n",
        "git add <filename>\n",
        "```\n",
        "\n",
        "You can also add all the files in the current directory by using the . wildcard:\n",
        "\n",
        "\n",
        "\n",
        "```shell\n",
        "git add .\n",
        "```\n",
        "\n",
        "Why do we need staging ?\n"
      ]
    },
    {
      "cell_type": "markdown",
      "metadata": {
        "id": "iSfgA-7sZ1Zp"
      },
      "source": [
        "###5.Commit changes\n",
        "\n",
        "```shell\n",
        "git commit -m \"Initial commit\"\n",
        "```\n",
        "\n"
      ]
    },
    {
      "cell_type": "markdown",
      "metadata": {
        "id": "RFPXGBO_aLYd"
      },
      "source": [
        "These steps are when we make one change, what if we have many changes, let's say a feature that has many milestones. Well for that purpose branching is used.\n"
      ]
    },
    {
      "cell_type": "markdown",
      "metadata": {
        "id": "9G3dtP3ScQ5z"
      },
      "source": [
        "### Create a new repository on GitHub\n",
        "\n",
        "![](https://product.hubspot.com/hs-fs/hubfs/Git_1.png?width=600&name=Git_1.png)\n",
        "\n",
        "![](https://product.hubspot.com/hs-fs/hubfs/Git_2.png?width=512&name=Git_2.png)\n",
        "\n",
        "\n",
        "\n",
        "```shell\n",
        "git remote add origin <https://>\n",
        "git push -u origin main\n",
        "```\n",
        "\n"
      ]
    },
    {
      "cell_type": "markdown",
      "metadata": {
        "id": "OzbrdJ3Fa5ZY"
      },
      "source": [
        "###Push your code\n",
        "\n",
        "When you are ready to share your changes with other developers, you can push the changes to a remote repository (e.g., on GitHub) by running the following command:\n",
        "\n",
        "\n",
        "```shell\n",
        "git push <remote> <branch-name>\n",
        "```\n",
        "This will push the changes in the specified branch to the specified remote repository.\n"
      ]
    },
    {
      "cell_type": "markdown",
      "metadata": {
        "id": "kLwrcdGAafSZ"
      },
      "source": [
        "###Branch\n",
        "\n",
        "Create a new branch for your project by running the following command:\n",
        "\n",
        "```shell\n",
        "git branch <branch-name>\n",
        "```\n",
        "\n"
      ]
    },
    {
      "cell_type": "markdown",
      "metadata": {
        "id": "PNFhQtfOapXk"
      },
      "source": [
        "### Switch branch\n",
        "You can switch to the new branch by running the following command:\n",
        "\n",
        "\n",
        "```shell\n",
        "git checkout <branch-name>\n",
        "```\n",
        "\n",
        "\n",
        "\n"
      ]
    },
    {
      "cell_type": "markdown",
      "metadata": {
        "id": "E-U15t6ibIYP"
      },
      "source": [
        "### Merging\n",
        "\n",
        "If you want to merge the changes from another branch into your current branch, you can use the git merge command. For example:\n",
        "\n",
        "```shell\n",
        "git merge <other-branch>\n",
        "```\n",
        "\n",
        "This will merge the changes from other-branch into the current branch.\n",
        "\n"
      ]
    },
    {
      "cell_type": "markdown",
      "metadata": {
        "id": "xQSxYdXIcg1m"
      },
      "source": [
        "###Push a branch to GitHub\n",
        "\n",
        "\n",
        "\n",
        "```shell\n",
        "git push origin my-new-branch\n",
        "```\n",
        "\n",
        "![](https://product.hubspot.com/hs-fs/hubfs/Git_3.png?width=869&name=Git_3.png)"
      ]
    },
    {
      "cell_type": "markdown",
      "metadata": {
        "id": "cTgTmGpVccp9"
      },
      "source": [
        "###Create a pull request (PR)\n",
        "\n",
        "Merging your code to master and eventually to producton environment.\n",
        "\n",
        "![](https://product.hubspot.com/hs-fs/hubfs/Git_4.png?width=600&name=Git_4.png)"
      ]
    },
    {
      "cell_type": "markdown",
      "metadata": {
        "id": "N6nlTDdMsIGJ"
      },
      "source": [
        "### Other usefull commands\n",
        "\n",
        "\n",
        "View commit history tree\n",
        "```shell\n",
        "git log --all --graph --decorate\n",
        "```\n",
        "\n",
        "Check the diff of a file\n",
        "```shell\n",
        "git diff <filename>\n",
        "```\n",
        "\n",
        "\n"
      ]
    },
    {
      "cell_type": "markdown",
      "metadata": {
        "id": "NkSc4qP4uw-d"
      },
      "source": [
        "#Product lifecycle\n",
        "\n"
      ]
    },
    {
      "cell_type": "markdown",
      "metadata": {
        "id": "E-g5V7SDnsY0"
      },
      "source": [
        "## Project Management\n",
        "\n",
        "Kanban Board\n",
        "![](https://luna1.co/f9f450.png)"
      ]
    },
    {
      "cell_type": "markdown",
      "metadata": {
        "id": "x3_dCxiq9-Kr"
      },
      "source": [
        "## CI/CD\n",
        "\n",
        "![](https://www.testingdocs.com/wp-content/uploads/CiCD-pipeline.png)\n",
        "\n",
        "![](https://miro.medium.com/max/1400/1*XljFv5ON0CU97NPJVCdaog.png)"
      ]
    },
    {
      "cell_type": "markdown",
      "metadata": {
        "id": "ewaGLdRhxwzI"
      },
      "source": [
        "## Testing"
      ]
    },
    {
      "cell_type": "markdown",
      "metadata": {
        "id": "-vVJ1yfKlpJP"
      },
      "source": [
        "#### Unit testing\n",
        "\n",
        "\n",
        "\n",
        "*   Unit testing involves testing individual units or components of the software in isolation\n",
        "*   It is typically focused on testing the smallest unit of code, such as a function or method, to ensure that it behaves as expected.\n",
        "*   Directories of tests are associated with directories of source code.\n",
        "\n",
        "![image.png](data:image/png;base64,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)\n",
        "\n"
      ]
    },
    {
      "cell_type": "markdown",
      "metadata": {
        "id": "1h7jVNzNmIqB"
      },
      "source": [
        "#### Regression testing\n",
        "\n",
        "Test that the output of the software has not been defected\n",
        "*   ‘Golden’ sets which are proven to be correct are maintained\n",
        "*   The test\n",
        " *   Run the application to create output\n",
        " *   Use difference tools to compare the output with the ‘gold"
      ]
    },
    {
      "cell_type": "markdown",
      "metadata": {
        "id": "2V3VEMQGmj7t"
      },
      "source": [
        "#### Integration testing\n",
        "\n",
        "*   Integration testing involves testing the integration between different units or components of the software.\n",
        "*   It is typically focused on testing how the different components of the software work together, rather than testing each component in isolation."
      ]
    },
    {
      "cell_type": "markdown",
      "metadata": {
        "id": "69HKeFXzmyAf"
      },
      "source": [
        "#### Performance testing\n",
        "Performance testing involves testing the performance of the software, such as its speed, scalability, and resource usage."
      ]
    },
    {
      "cell_type": "markdown",
      "metadata": {
        "id": "FOydMZAIm70e"
      },
      "source": [
        "#### Security testing\n",
        "Security testing involves testing the security of the software, such as its ability to protect against unauthorized access or attacks"
      ]
    },
    {
      "cell_type": "markdown",
      "metadata": {
        "id": "uI8RkkIKnHi9"
      },
      "source": [
        "And more ..."
      ]
    },
    {
      "cell_type": "markdown",
      "metadata": {
        "id": "ow7rQI-m8oXm"
      },
      "source": [
        "### Example 1 Automation\n",
        "\n",
        "There many testing frameworks, we will demonstrate a basic one called **pytest**\n",
        "\n",
        "\n",
        "test_example.py\n",
        "```python\n",
        "import pytest\n",
        "\n",
        "def test_factorial():\n",
        "    # Test that the factorial function returns the correct result\n",
        "    from math import factorial\n",
        "    assert factorial(5) == 120\n",
        "    assert factorial(10) == 3628800\n",
        "\n",
        "def test_factorial_negative_input():\n",
        "    # Test that the factorial function raises a ValueError for negative input\n",
        "    from math import factorial\n",
        "    with pytest.raises(ValueError):\n",
        "        factorial(-1)\n",
        "\n",
        "def test_example():\n",
        "    # Test that 1 + 1 equals 2\n",
        "    assert 1 + 1 == 2\n",
        "\n",
        "def test_another_example():\n",
        "    # Test that the sum of a list is correct\n",
        "    assert sum([1, 2, 3]) == 6\n",
        "\n",
        "@pytest.mark.xfail\n",
        "def test_expected_failure():\n",
        "    # Test that will fail, but is expected to\n",
        "    assert 1 + 1 == 3\n",
        "\n",
        "@pytest.mark.skip\n",
        "def test_skipped():\n",
        "    # Test that will be skipped\n",
        "    assert 1 + 1 == 4\n",
        "```\n",
        "\n"
      ]
    },
    {
      "cell_type": "markdown",
      "metadata": {
        "id": "Zxt4QG7M9DQU"
      },
      "source": [
        "\n",
        "To run the test above, run the below command:\n",
        "```shell\n",
        "pytest\n",
        "```\n",
        "\n"
      ]
    },
    {
      "cell_type": "markdown",
      "metadata": {
        "id": "UbTV7Xwepfb-"
      },
      "source": [
        "### Example 2 BDD\n",
        "\n",
        "BDD Behavior-driven development tests, the idea is to describe how the application should behave in a very simple user/business-focused language (gherkin).\n",
        "\n",
        "This example defines a Feature called \"Online Reservations\" and has three Scenarios, each of them describes a user goal, the actions the user takes, and the expected outcome using the Given-When-Then structure.\n",
        "\n",
        "```\n",
        "Feature: Online Reservations\n",
        "  As a customer, I want to be able to make online reservations for a restaurant, so that I can easily plan my dining experience.\n",
        "\n",
        "  Scenario: Make a reservation\n",
        "    Given I am on the restaurant's website\n",
        "    When I click on the \"Reservations\" button and enter my reservation details including the date, time, and number of guests\n",
        "    And I click \"Submit\"\n",
        "    Then my reservation should be confirmed and added to the restaurant's reservation schedule\n",
        "\n",
        "  Scenario: Cancel a reservation\n",
        "    Given I have a confirmed reservation for the restaurant\n",
        "    When I navigate to the \"My Reservations\" page and click the \"Cancel\" button for my reservation\n",
        "    Then my reservation should be cancelled and removed from the restaurant's reservation schedule\n",
        "\n",
        "  Scenario: View availability\n",
        "    Given I am on the restaurant's website\n",
        "    When I click on the \"Reservations\" button and select a date\n",
        "    Then I should be able to view the availability for that date including the times that are fully booked and the times that have open tables\n",
        "\n",
        "```\n",
        "\n"
      ]
    },
    {
      "cell_type": "markdown",
      "metadata": {
        "id": "EkiuJt3y-lsq"
      },
      "source": [
        "Popular tools: [Cucumber](https://cucumber.io/docs/gherkin/reference/), [Behave](https://behave.readthedocs.io/en/stable/) and others ..."
      ]
    },
    {
      "cell_type": "markdown",
      "metadata": {
        "id": "kvG2k_jWAYy5"
      },
      "source": [
        "### Example 3 Web Testing\n",
        "\n",
        "\n",
        "\n",
        "```python\n",
        "from selenium import webdriver\n",
        "from selenium.webdriver.common.keys import Keys\n",
        "from selenium.webdriver.common.by import By\n",
        "\n",
        "driver = webdriver.Chrome()\n",
        "driver.get(\"http://www.python.org\")\n",
        "assert \"Python\" in driver.title\n",
        "elem = driver.find_element(By.NAME, \"q\")\n",
        "elem.clear()\n",
        "elem.send_keys(\"pycon\")\n",
        "elem.send_keys(Keys.RETURN)\n",
        "assert \"No results found.\" not in driver.page_source\n",
        "driver.close()\n",
        "```\n",
        "\n"
      ]
    },
    {
      "cell_type": "markdown",
      "metadata": {
        "id": "3B6eIodZvEfH"
      },
      "source": [
        "## Logging\n",
        "\n",
        "Recording as much as we can events from our, it can be good events or errors/exception ...\n",
        "\n",
        "The purpose is to help us investigate bugs in production by reading the logs.\n",
        "\n",
        "```python\n",
        "import logging\n",
        "import sys\n",
        "\n",
        "class CustomFormatter(logging.Formatter):\n",
        "    \"\"\"Logging Formatter to add colors and count warning / errors\"\"\"\n",
        "\n",
        "    grey = \"\\x1b[38;21m\"\n",
        "    yellow = \"\\x1b[33;21m\"\n",
        "    red = \"\\x1b[31;21m\"\n",
        "    bold_red = \"\\x1b[31;1m\"\n",
        "    reset = \"\\x1b[0m\"\n",
        "    format = \"%(asctime)s - %(name)s - %(levelname)s - %(message)s (%(filename)s:%(lineno)d)\"\n",
        "\n",
        "    FORMATS = {\n",
        "        logging.DEBUG: grey + format + reset,\n",
        "        logging.INFO: grey + format + reset,\n",
        "        logging.WARNING: yellow + format + reset,\n",
        "        logging.ERROR: red + format + reset,\n",
        "        logging.CRITICAL: bold_red + format + reset\n",
        "    }\n",
        "\n",
        "    def format(self, record):\n",
        "        log_fmt = self.FORMATS.get(record.levelno)\n",
        "        formatter = logging.Formatter(log_fmt)\n",
        "        return formatter.format(record)\n",
        "\n",
        "# create logger with 'spam_application'\n",
        "logger = logging.getLogger(\"Sample\")\n",
        "\n",
        "# create console handler with a higher log level\n",
        "ch = logging.StreamHandler()\n",
        "ch.setLevel(logging.DEBUG)\n",
        "\n",
        "if len(sys.argv)> 1:\n",
        "    if sys.argv[1] == 'log':\n",
        "        ch.setFormatter(logging.Formatter('%(asctime)s : %(levelname)s : %(name)s : %(message)s'))\n",
        "    elif sys.argv[1] == 'color':\n",
        "        ch.setFormatter(CustomFormatter())\n",
        "\n",
        "if len(sys.argv) > 2:\n",
        "    logger.setLevel(logging.__getattribute__(sys.argv[2]))\n",
        "else:\n",
        "    logger.setLevel(logging.DEBUG)\n",
        "\n",
        "logger.addHandler(ch)\n",
        "\n",
        "# logger.debug(\"debug message\")\n",
        "# logger.info(\"info message\")\n",
        "# logger.warning(\"warning message\")\n",
        "# logger.error(\"error message\")\n",
        "# logger.critical(\"critical message\")\n",
        "\n",
        "import random\n",
        "import time\n",
        "for _ in range(100):\n",
        "    i = random.randint(0, 10)\n",
        "    if i <= 4:\n",
        "        logger.info(\"Value is {} - Everything is fine\".format(i))\n",
        "    elif i <= 6:\n",
        "        logger.warning(\"Value is {} - System is getting hot\".format(i))\n",
        "    elif i <= 8:\n",
        "        logger.error(\"Value is {} - Dangerous region\".format(i))\n",
        "    else:\n",
        "        logger.critical(\"Maximum value reached\")\n",
        "    time.sleep(0.3)\n",
        "\n",
        "\n",
        "```\n",
        "\n"
      ]
    },
    {
      "cell_type": "markdown",
      "metadata": {
        "id": "NKj6p5Hlvvnd"
      },
      "source": [
        "\n",
        "\n",
        "```shell\n",
        "$ python logger.py\n",
        "# Raw output as with just prints\n",
        "$ python logger.py log\n",
        "# Log formatted output\n",
        "$ python logger.py log ERROR\n",
        "# Print only ERROR levels and above\n",
        "$ python logger.py color\n",
        "# Color formatted output\n",
        "```\n",
        "\n"
      ]
    },
    {
      "cell_type": "markdown",
      "metadata": {
        "id": "lPyGsQy4EoEs"
      },
      "source": [
        "# C Exam Questions"
      ]
    },
    {
      "cell_type": "markdown",
      "metadata": {
        "id": "-H82OEmREvrB"
      },
      "source": [
        "## 2021 AA\n",
        "1.a(15)\n",
        "Write a program that gets a number of command line's arguments from the user, the program has to print the number of arguments (excluding the name of the program) that as a string they are 1 char long.\n",
        "\n",
        "2.b(15)\n",
        "\n",
        "Given the below linked list:\n",
        "\n",
        "\n",
        "```c\n",
        "typedef struct list_t {\n",
        "      int val;\n",
        "      struct list_t* next;\n",
        "} LIST;\n",
        "```\n",
        "Write a function concat the receives 2 pointers to non empty linked lists, and concatenates the second LL to the end of the first one, no need to return anything.\n",
        "\n",
        "3.c(15)\n",
        "\n",
        "Write a function called create, that gets a natural number n and returns a pointer called a, the pointer should point to a data structure that stores n*n integers, and it's elements are accecible using this syntaxt a[i][j] (i,j are between 1-n) and all values are initialized to 0.\n",
        "\n"
      ]
    },
    {
      "cell_type": "markdown",
      "metadata": {
        "id": "5VLc8KXfKdaA"
      },
      "source": [
        "Solution\n",
        "\n",
        "```c\n",
        "void main(int argc, char* argv[])\n",
        "{\n",
        "\tint count = 0;\n",
        "\tfor (int i = 1; i < argc; ++i)\n",
        "\t{\n",
        "\t\tchar* arg = argv[i];\n",
        "\t\tif(arg[1] == '\\0')\n",
        "\t\t{\n",
        "\t\t\tcount++;\n",
        "\t\t}\n",
        "\t}\n",
        "\n",
        "\tprintf(\"%d\\n\", cou);\n",
        "}\n",
        "\n",
        "```\n",
        "\n",
        "\n",
        "\n",
        "```c\n",
        "void concat(LIST* a, LIST* b)\n",
        "{\n",
        "\twhile (a->next != NULL)\n",
        "\t{\n",
        "\t\ta = a->next;\n",
        "\t}\n",
        "\n",
        "\ta->next = b;\n",
        "}\n",
        "```\n",
        "\n",
        "\n",
        "\n",
        "```c\n",
        "int** create(int n)\n",
        "{\n",
        "\tint i, j;\n",
        "\tint **vals = (int**)malloc(n * sizeof(int*));\n",
        "\tassert(vals);\n",
        "\tfor (i = 0; i < n; i++)\n",
        "\t{\n",
        "\t\tint* m = (int*)malloc(n * sizeof(int));\n",
        "\t\tassert(m);\n",
        "\t\tfor (j = 0; j < n; j++)\n",
        "\t\t{\n",
        "\t\t\tm[j] = 0;\n",
        "\t\t}\n",
        "\t\tvals[i] = m-1 ;\n",
        "\t}\n",
        "\n",
        "\n",
        "\treturn vals-1;\n",
        "}\n",
        "\n",
        "```\n",
        "\n"
      ]
    }
  ],
  "metadata": {
    "colab": {
      "authorship_tag": "ABX9TyP/EeNc2SORWwqIP/Fso6Oa",
      "include_colab_link": true,
      "provenance": [],
      "toc_visible": true
    },
    "kernelspec": {
      "display_name": "Python 3",
      "name": "python3"
    },
    "language_info": {
      "name": "python"
    }
  },
  "nbformat": 4,
  "nbformat_minor": 0
}
