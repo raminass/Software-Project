{
 "cells": [
  {
   "cell_type": "markdown",
   "id": "77acd8dc",
   "metadata": {},
   "source": [
    "# Parallel Programming\n"
   ]
  },
  {
   "cell_type": "markdown",
   "id": "64c525aa",
   "metadata": {},
   "source": [
    "# The Power of Parallelism\n",
    "\n",
    "Given a nXm gray level image\\, generate a binary image so that  the value if any pixel is 1 if and only if the gray level of the original pixel is great than a given threshold\\.\n",
    "\n",
    "Algorithm?\n",
    "\n",
    "Time?\n",
    "\n",
    "Can we improve?\n",
    "\n",
    "![](img/parallel-progeramming_0.png)"
   ]
  },
  {
   "cell_type": "markdown",
   "id": "06662b5b",
   "metadata": {},
   "source": [
    "# GPU – Graphics Processing Unit\n",
    "\n",
    "![](img/parallel-progeramming_1.png)\n",
    "\n",
    "![](img/parallel-progeramming_2.jpg)\n",
    "\n",
    "![](img/parallel-progeramming_3.png)\n",
    "\n",
    "![](img/parallel-progeramming_4.png)\n",
    "\n",
    "![](img/parallel-progeramming_5.png)\n",
    "\n",
    "![](img/parallel-progeramming_6.png)"
   ]
  },
  {
   "cell_type": "markdown",
   "id": "01180d99",
   "metadata": {},
   "source": [
    "# CPU Over the Years\n",
    "\n",
    "- Smaller\n",
    "\n",
    "- Faster\n",
    "\n",
    "- Less power\n",
    "\n",
    "- More on a chip\n",
    "\n",
    "![](img/parallel-progeramming_7.png)\n",
    "\n",
    "\n"
   ]
  },
  {
   "cell_type": "markdown",
   "id": "7dbb4dbb",
   "metadata": {},
   "source": [
    "# Clock Frequency Over the Years\n",
    "\n",
    "Improvement stopped because:\n",
    "\n",
    "- Heat\n",
    "\n",
    "- Need a lot of power\n",
    "\n",
    "![](img/parallel-progeramming_8.png)\n",
    "\n",
    "\n",
    "Solution:\n",
    "\n",
    "![](img/parallel-progeramming_9.png)"
   ]
  },
  {
   "cell_type": "markdown",
   "id": "487734e4",
   "metadata": {},
   "source": [
    "![](img/parallel-progeramming_10.png)\n",
    "\n",
    "![](img/parallel-progeramming_11.png)\n",
    "\n",
    "![](img/parallel-progeramming_12.png)\n",
    "\n",
    "![](img/parallel-progeramming_13.png)\n",
    "\n",
    "![](img/parallel-progeramming_14.png)\n",
    "\n",
    "![](img/parallel-progeramming_15.png)\n",
    "\n",
    "![](img/parallel-progeramming_16.png)\n",
    "\n",
    "![](img/parallel-progeramming_17.png)\n"
   ]
  },
  {
   "cell_type": "markdown",
   "id": "2d94d3de",
   "metadata": {},
   "source": [
    "## CPU is good at:\n",
    "\n",
    "![](img/parallel-progeramming_18.png)"
   ]
  },
  {
   "cell_type": "markdown",
   "id": "83c7497b",
   "metadata": {},
   "source": [
    "![](img/parallel-progeramming_19.png)\n",
    "\n",
    "![](img/parallel-progeramming_20.png)\n",
    "\n",
    "![](img/parallel-progeramming_21.png)\n",
    "\n",
    "![](img/parallel-progeramming_22.png)\n",
    "\n",
    "![](img/parallel-progeramming_23.png)\n",
    "\n",
    "![](img/parallel-progeramming_24.png)\n",
    "\n",
    "![](img/parallel-progeramming_25.png)\n",
    "\n",
    "![](img/parallel-progeramming_26.png)"
   ]
  },
  {
   "cell_type": "markdown",
   "id": "7890ddd5",
   "metadata": {},
   "source": [
    "![](img/parallel-progeramming_29.png)\n",
    "\n",
    "![](img/parallel-progeramming_30.png)"
   ]
  },
  {
   "cell_type": "markdown",
   "id": "194c0631",
   "metadata": {},
   "source": [
    "![](img/parallel-progeramming_31.png)\n",
    "\n",
    "![](img/parallel-progeramming_32.png)\n",
    "\n",
    "![](img/parallel-progeramming_33.png)\n",
    "\n",
    "![](img/parallel-progeramming_34.png)"
   ]
  },
  {
   "cell_type": "markdown",
   "id": "a1fc90c1",
   "metadata": {},
   "source": [
    "# Blurring Images in Parallel\n",
    "\n",
    "![](img/parallel-progeramming_35.png)\n",
    "\n",
    "- Use an average filter to blur a gray level image\n",
    "\n",
    "- Note the synchronization"
   ]
  },
  {
   "cell_type": "markdown",
   "id": "473c7836",
   "metadata": {},
   "source": [
    "![](img/parallel-progeramming_36.png)\n",
    "\n",
    "![](img/parallel-progeramming_37.png)\n",
    "\n",
    "![](img/parallel-progeramming_38.png)\n",
    "\n",
    "Tells the compiler that this is a function that runs on GPU\n",
    "\n",
    "![](img/parallel-progeramming_39.png)\n",
    "\n",
    "![](img/parallel-progeramming_40.png)\n",
    "\n",
    "![](img/parallel-progeramming_41.png)"
   ]
  },
  {
   "cell_type": "markdown",
   "id": "ae80630d",
   "metadata": {},
   "source": [
    "<div style=\"display: flex; justify-content: space-around;\">\n",
    "    <img src=\"img/parallel-progeramming_42.png\" alt=\"Image 1\" width=\"560\" />\n",
    "    <img src=\"img/parallel-progeramming_43.png\" alt=\"Image 2\" width=\"560\" />\n",
    "</div>"
   ]
  },
  {
   "cell_type": "markdown",
   "id": "6add9633",
   "metadata": {},
   "source": [
    "<span style=\"color:#ff0000\"> __Be careful of race conditions\\!__ </span>\n",
    "\n",
    "![](img/parallel-progeramming_44.png)\n",
    "\n",
    "![](img/parallel-progeramming_45.png)\n",
    "\n",
    "![](img/parallel-progeramming_46.png)\n",
    "\n",
    "![](img/parallel-progeramming_47.png)\n",
    "\n",
    "![](img/parallel-progeramming_48.png)\n",
    "\n",
    "<span style=\"color:#ff0000\">Not a stencil because</span>  <span style=\"color:#ff0000\">not working on each cell</span>\n",
    "\n",
    "![](img/parallel-progeramming_49.png)"
   ]
  }
 ],
 "metadata": {
  "language_info": {
   "name": "python"
  }
 },
 "nbformat": 4,
 "nbformat_minor": 5
}
