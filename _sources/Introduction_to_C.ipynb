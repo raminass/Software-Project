{
  "cells": [
    {
      "cell_type": "markdown",
      "metadata": {},
      "source": [
        "# Introduction to C"
      ]
    },
    {
      "cell_type": "markdown",
      "metadata": {
        "id": "TMoYvqIKXfrO"
      },
      "source": [
        "# The C programming language\n",
        "\n",
        "- C, Deniss Ritchie, Bell Labs, 1972;\n",
        "overcomes B’s typeless representation;\n",
        "used for developing UNIX.\n",
        "\n",
        "\n",
        "- Early 80’s - traditional C\n",
        "\n",
        "\n",
        "- 1990 – the ANSI-C standard (course standard)\n",
        "\n",
        "\n",
        "- C++ and Java\n"
      ]
    },
    {
      "cell_type": "markdown",
      "metadata": {
        "id": "sUpv5g6gXvkq"
      },
      "source": [
        "# Why C ?\n",
        "\n",
        "- C is **compact**: few reserved words, terse commands, powerful set of operators.\n",
        "\n",
        "\n",
        "- C is **efficient**: direct memory management, some operators directly modify machine registers, manipulation of memory addresses.\n",
        "\n",
        "- C is **modular** and **typed**.\n",
        "\n",
        "- C is the native language of **UNIX**.\n",
        "\n",
        " Basis of C++ (also Java and Python libraries).\n"
      ]
    },
    {
      "cell_type": "markdown",
      "metadata": {
        "id": "Brq_Gsn3XWf9"
      },
      "source": [
        "# C vs. Java\n",
        "\n",
        "\n",
        "| **Feature**                  | **C**                                                                 | **Java**                                           |\n",
        "|------------------------------|-----------------------------------------------------------------------|---------------------------------------------------|\n",
        "| **Origin**                   | C is a procedural language developed in the 1970s.                    | Java was developed in the 1990s, inspired by C.   |\n",
        "| **Paradigm**                  | Procedural (not object-oriented). No classes or interfaces.           | Object-oriented. Built around classes and objects. |\n",
        "| **Primitive Types**           | Similar to Java but no built-in `boolean` or `string` types.          | Includes `boolean` and `String` as primitive and class types. |\n",
        "| **Memory Management**         | Manual memory management via pointers (e.g., `malloc`, `free`).       | Automatic memory management with garbage collection. |\n",
        "| **Garbage Collection**        | No garbage collection. Developers manage memory manually.             | Automatic garbage collection.                     |"
      ]
    },
    {
      "cell_type": "markdown",
      "metadata": {
        "id": "uQfAgZ0DadLw"
      },
      "source": [
        "# C Topics\n",
        "\n",
        "- **Lexical Elements** (Ch. 2, self)\n",
        "- **Fundamental Data Types** (Ch. 3, self)\n",
        "- **Flow of Control** (Ch. 4, self)\n",
        "- **Functions** (Ch. 5); Runtime Environment\n",
        "- **Arrays, Pointers, and Strings** (Ch. 6); Dynamic Matrix Allocation (Ch. 12.6)\n",
        "- **Structures** (Ch. 9)\n",
        "- **Linked Lists** (Ch. 10)\n",
        "- **Preprocessor** (Ch. 8)\n",
        "- **Input/Output and Files** (Ch. 11)\n"
      ]
    },
    {
      "cell_type": "markdown",
      "metadata": {
        "id": "YarZFK6aas2N"
      },
      "source": [
        "# Today’s class: Basic C\n",
        "\n",
        "```c\n",
        "#include <stdio.h>\n",
        "\n",
        "int main(void)\n",
        "{\n",
        "  printf(\"hello, world\\n\");\n",
        "}\n",
        "```\n",
        "In Python\n",
        "```python\n",
        "print(\"hello, world\")\n"
      ]
    },
    {
      "cell_type": "code",
      "execution_count": null,
      "metadata": {
        "cellView": "form",
        "id": "qXuWTrnFHNz5"
      },
      "outputs": [],
      "source": [
        "# @title\n",
        "%%writefile hello.c\n",
        "#include <stdio.h>\n",
        "\n",
        "int main(void)\n",
        "{\n",
        "  printf(\"hello, world\\n\");\n",
        "}"
      ]
    },
    {
      "cell_type": "code",
      "execution_count": null,
      "metadata": {
        "cellView": "form",
        "id": "iQAF0FIuHRCw"
      },
      "outputs": [],
      "source": [
        "# @title\n",
        "!gcc hello.c -o hello\n",
        "./hello"
      ]
    },
    {
      "cell_type": "markdown",
      "metadata": {
        "id": "6X9BmIZLWjRO"
      },
      "source": [
        "\n",
        "\n",
        "                   +-----------+               +---------+               +--------+\n",
        "       -------->   | hello.c   |   -------->   | hello.o |   -------->   | hello  |\n",
        "         edit      +-----------+    compile    +---------+    Linking    +--------+\n",
        "\n",
        "                    Keywords       Preprocessor         \n",
        "                    Identifiers    Lexical analysis     \n",
        "                    Constants      Syntax analysis      \n",
        "                    Operators      Semantic analysis    \n",
        "                    Punctuation    "
      ]
    },
    {
      "cell_type": "markdown",
      "metadata": {
        "id": "UdcYq3DTa04d"
      },
      "source": [
        "# Lexical Elements (chapter 2)\n"
      ]
    },
    {
      "cell_type": "markdown",
      "metadata": {
        "id": "Q3yp-iEndc45"
      },
      "source": [
        "## Kewords\n",
        "\n",
        "Reserved words with a strict meaning\n",
        "C does a lot with relatively few keywords.\n"
      ]
    },
    {
      "cell_type": "markdown",
      "metadata": {
        "id": "evtbLGOOdufy"
      },
      "source": [
        "| Control Flow | Data Types | Storage Classes | Type Qualifiers | Other Keywords |\n",
        "|--------------|------------|-----------------|-----------------|----------------|\n",
        "| if           | int        | auto            | const           | sizeof         |\n",
        "| else         | char       | static          | volatile        | typedef        |\n",
        "| switch       | float      | extern          |                 | goto           |\n",
        "| case         | double     | register        |                 | continue       |\n",
        "| default      | void       |                 |                 | break          |\n",
        "| for          | short      |                 |                 | return         |\n",
        "| while        | long       |                 |                 |                |\n",
        "| do           | enum       |                 |                 |                |\n",
        "|              | struct     |                 |                 |                |\n",
        "|              | union      |                 |                 |                |\n",
        "|              | signed     |                 |                 |                |\n",
        "|              | unsigned   |                 |                 |                |"
      ]
    },
    {
      "cell_type": "markdown",
      "metadata": {
        "id": "_t_o6RtZT3gY"
      },
      "source": [
        "## Identifiers"
      ]
    },
    {
      "cell_type": "markdown",
      "metadata": {
        "id": "tAxvvjIGT3gY"
      },
      "source": [
        "A token composed of a sequence of letters\n",
        "```c\n",
        "tax = price * tax_rate\n",
        "```\n",
        "- First character cannot be a digit!!\n",
        "- Case sensitive\n",
        "- Cannot be a keyword.\n",
        "- Choose names that are meaningful (e.g., `cse_5a` is not a good example!!)\n"
      ]
    },
    {
      "cell_type": "markdown",
      "metadata": {
        "id": "XgdjWpnFT3gY"
      },
      "source": [
        "## Comments\n",
        "\n",
        "Arbitrary strings placed between the delimiters /* and */.\n",
        "```c\n",
        "/*\n",
        " * A comment can be written in this fashion\n",
        " * to set it off from the surrounding code.\n",
        " */\n",
        "```\n",
        "\n",
        "For single line comments (do not follow the ANSI standard):\n",
        "```c++\n",
        "// This is a comment in c++\n",
        "```\n",
        "\n"
      ]
    },
    {
      "cell_type": "markdown",
      "metadata": {
        "id": "UvSKbnpLT3gY"
      },
      "source": [
        "# Fundamental data types (Chapter 3 )"
      ]
    },
    {
      "cell_type": "markdown",
      "metadata": {
        "id": "kOoanzYoT3gY"
      },
      "source": [
        "Integral (signed or unsigned)\n",
        "- `char`\n",
        "- `short`\n",
        "- `int`\n",
        "- `long`\n",
        "\n",
        "Floating Point Types\n",
        "- `float`\n",
        "- `double`\n",
        "\n",
        "Declaration is Important for:\n",
        "- Memory allocation\n",
        "- Interpreting the number correctly within expressions.\n"
      ]
    },
    {
      "cell_type": "markdown",
      "metadata": {
        "id": "13iwUUyYT3gY"
      },
      "source": [
        "## Integral Types\n",
        "- `char`\n",
        "- `signed char`\n",
        "- `unsigned char`\n",
        "- `short`\n",
        "- `int`\n",
        "- `long`\n",
        "- `unsigned short`\n",
        "- `unsigned int`\n",
        "- `unsigned long`\n"
      ]
    },
    {
      "cell_type": "markdown",
      "metadata": {
        "id": "9ZGDTZdOUwmF"
      },
      "source": [
        "## Floating Types\n",
        "- `float`\n",
        "- `double`\n",
        "- `long double`\n"
      ]
    },
    {
      "cell_type": "markdown",
      "metadata": {
        "id": "bgmg2c4VT3gY"
      },
      "source": [
        "```c\n",
        "    // Signed integer (can hold negative values)\n",
        "    int signed_int = -10;\n",
        "    printf(\"Signed int: %d\\n\", signed_int);\n",
        "\n",
        "    // Unsigned integer (cannot hold negative values)\n",
        "    unsigned int unsigned_int = 10;\n",
        "    printf(\"Unsigned int: %u\\n\", unsigned_int);\n",
        "\n",
        "    // Floating-point example\n",
        "    float floating_point = -3.123;\n",
        "    printf(\"Floating-point: %.3f\\n\", floating_point);\n",
        "```\n"
      ]
    },
    {
      "cell_type": "code",
      "execution_count": null,
      "metadata": {
        "cellView": "form",
        "id": "S9GE_QzMHkGi"
      },
      "outputs": [],
      "source": [
        "# @title\n",
        "%%writefile tmp.c\n",
        "\n",
        "# include <stdio.h>\n",
        "\n",
        "int main() {\n",
        "    // Signed integer (can hold negative values)\n",
        "    int signed_int = -10;\n",
        "    printf(\"Signed int: %d\\n\", signed_int);\n",
        "\n",
        "    // Unsigned integer (cannot hold negative values)\n",
        "    unsigned int unsigned_int = 10;\n",
        "    printf(\"Unsigned int: %u\\n\", unsigned_int);\n",
        "\n",
        "    // Floating-point example\n",
        "    float floating_point = -3.123;\n",
        "    printf(\"Floating-point: %.3f\\n\", floating_point);\n",
        "\n",
        "    return 0;\n",
        "}"
      ]
    },
    {
      "cell_type": "code",
      "execution_count": null,
      "metadata": {
        "cellView": "form",
        "id": "wyDU6UuoHqy8"
      },
      "outputs": [],
      "source": [
        "# @title\n",
        "!gcc tmp.c -o tmp\n",
        "!./tmp"
      ]
    },
    {
      "cell_type": "markdown",
      "metadata": {
        "id": "cNYO5COUT3gY"
      },
      "source": [
        "## Key Differences\n",
        "\n",
        "- **Signed int (`int`)**:\n",
        "  - Can store negative, zero, and positive values.\n",
        "  - Range (on most systems): `-2,147,483,648` to `2,147,483,647`.\n",
        "\n",
        "- **Unsigned int (`unsigned int`)**:\n",
        "  - Can only store zero and positive values.\n",
        "  - Range: `0` to `4,294,967,295`.\n",
        "\n",
        "- **Floating-point types (`float`, `double`)**:\n",
        "  - Always support negative, positive, and zero values by default.\n",
        "  - No distinction between signed and unsigned.\n"
      ]
    },
    {
      "cell_type": "markdown",
      "metadata": {
        "id": "1gENvvpMT3gZ"
      },
      "source": [
        "## Int Representation\n",
        "\n",
        "Binary Value Representation\n",
        "\n",
        "| Binary Value  | Value  | Type            |\n",
        "|---------------|--------|-----------------|\n",
        "| `0000 0000`   | 0      | `unsigned char` |\n",
        "| `1111 1111`   | 255    | `unsigned char` |\n",
        "| `0111 1111`   | 127    | `unsigned char` |\n",
        "| `1000 0000`   | 128    | `unsigned char` |\n",
        "\n",
        "Two's Complement for Signed Values\n",
        "\n",
        "| Binary Value  | Value  | Type            |\n",
        "|---------------|--------|-----------------|\n",
        "| `svvv vvvv`   |        | `signed char`   |\n",
        "| `1111 1111`   | -1     | `signed char`   |\n",
        "| `1000 0000`   | -128   | `signed char`   |\n",
        "\n",
        "Signed Integer\n",
        "\n",
        "| Binary Value  | Type         |\n",
        "|---------------|--------------|\n",
        "| `svvv vvvv vvvv vvvv vvvv vvvv vvvv vvvv` | `signed int`  |\n"
      ]
    },
    {
      "cell_type": "markdown",
      "metadata": {
        "id": "PG0L6LUDT3gZ"
      },
      "source": [
        "### Two's Complement for Signed Values\n",
        "The most significant bit (MSB) in two's complement indicates the sign:\n",
        "\n",
        "- 0: The number is positive.\n",
        "- 1: The number is negative.\n",
        "\n",
        "In two's complement:\n",
        "\n",
        "- To get the negative of a number, you invert all the bits (change 0s to 1s and 1s to 0s) and add 1 to the result.\n",
        "- The range of representable values is asymmetric: For an 8-bit number, the range is from -128 to 127."
      ]
    },
    {
      "cell_type": "markdown",
      "metadata": {
        "id": "PNLsS6X8T3gZ"
      },
      "source": [
        "Converting Two's Complement Back to a Signed Integer/char\n",
        "**If the Number is Negative (MSB is `1`):**\n",
        "   - Invert all the bits (flip `0`s to `1`s and `1`s to `0`s).\n",
        "   - Add `1` to the inverted number.\n",
        "   - The result is the magnitude of the negative number.\n",
        "\n",
        "Example:\n",
        "\n",
        "Converting `1111 1011` (Two's Complement of `-5`) Back to `-5`\n",
        "\n",
        "1. **Step 1: Check the sign bit**:\n",
        "   - MSB is `1`, so the number is negative.\n",
        "\n",
        "2. **Step 2: Invert the bits**:\n",
        "   - Original: `1111 1011`\n",
        "   - Inverted: `0000 0100`\n",
        "\n",
        "3. **Step 3: Add `1` to the inverted bits**:\n",
        "   - `0000 0100` + `1` = `0000 0101` (which is `5` in decimal).\n",
        "\n",
        "4. **Step 4: Apply the sign**:\n",
        "   - Since the MSB was `1`, the original number is `-5`."
      ]
    },
    {
      "cell_type": "markdown",
      "metadata": {
        "id": "bvaZhi2fT3gZ"
      },
      "source": [
        "### Alert: integer overflow (or wrap-around)\n",
        "```c\n",
        "    signed char x = 127;\n",
        "    \n",
        "    printf(\"Initial value: %d\\n\", x);\n",
        "    \n",
        "    // Add 1 to 127\n",
        "    x = x + 1;\n",
        "    \n",
        "    // Print the value after adding 1\n",
        "    printf(\"After adding 1: %d\\n\", x);\n",
        "```"
      ]
    },
    {
      "cell_type": "code",
      "execution_count": null,
      "metadata": {
        "cellView": "form",
        "id": "BeORmtF3J5WB"
      },
      "outputs": [],
      "source": [
        "# @title\n",
        "%%writefile tmp.c\n",
        "#include <stdio.h>\n",
        "\n",
        "int main()\n",
        "{\n",
        "   signed char x = 127;\n",
        "\n",
        "   // Print the initial value\n",
        "   printf(\"Initial value: %d\\n\", x);\n",
        "\n",
        "   // Add 1 to 127, which should wrap around to -128\n",
        "   x = x + 1;\n",
        "\n",
        "   // Print the value after adding 1\n",
        "   printf(\"After adding 1: %d\\n\", x);\n",
        "\n",
        "   return 0;\n",
        "}"
      ]
    },
    {
      "cell_type": "code",
      "execution_count": null,
      "metadata": {
        "cellView": "form",
        "id": "G_PXGv0jKAy3"
      },
      "outputs": [],
      "source": [
        "# @title\n",
        "!gcc tmp.c -o tmp\n",
        "!./tmp"
      ]
    },
    {
      "cell_type": "markdown",
      "metadata": {
        "id": "dcIZoWALT3gZ"
      },
      "source": [
        "## Floating-Point Representation in C\n",
        "In floating-point representation, a number is expressed in scientific notation, either in decimal or binary format.\n",
        "\n",
        "Decimal Representation:\n",
        "\n",
        "$$\n",
        "\\text{number} = \\text{int}.\\text{frac} \\times 10^{\\text{exp}}\n",
        "$$\n",
        "\n",
        "Example: $$123.45 = 1.2345 \\times 10^2$$\n",
        "\n",
        "Binary Representation:\n",
        "\n",
        "$$\n",
        "\\text{number} = 1.\\text{frac} \\times 2^{\\text{exp}}\n",
        "$$\n",
        "\n",
        "Example: $$0.625  = 1.01 \\times 2^{-1}$$\n",
        "\n",
        "\n",
        "\n",
        "Floating-point numbers in C are represented using the IEEE 754 standard, which defines how numbers are stored in memory. This representation is used for both `float` (single precision) and `double` (double precision).\n",
        "\n",
        "Format\n",
        "\n",
        "**Single Precision (`float`)**: 32 bits\n",
        "\n",
        "s eeeeeeee fffffffffffffffffffffff\n",
        "\n",
        "- **s**: Sign bit (1 bit) - `0` for positive, `1` for negative.\n",
        "- **e**: Exponent (8 bits) - Biased exponent (bias of `127`).\n",
        "- **f**: Fraction (23 bits) - Mantissa, normalized to `1.f`."
      ]
    },
    {
      "cell_type": "markdown",
      "metadata": {
        "id": "mPzCLT0PT3gZ"
      },
      "source": [
        "### Value Calculation\n",
        "\n",
        "The value of a floating-point number is calculated using the formula:\n",
        "\n",
        "$$\n",
        "\\text{Value} = (-1)^{\\text{sign}} \\times 1.\\text{fraction} \\times 2^{\\text{exponent} - \\text{bias}}\n",
        "$$\n",
        "\n",
        "- For `float`, the bias is `127`.\n",
        "\n",
        "Example\n",
        "\n",
        "- **For `0.5` in `float`**:\n",
        "- Binary: $$0.5 = 1.0 \\times 2^{-1}$$\n",
        "- IEEE 754 Representation: `0 01111110 00000000000000000000000`\n"
      ]
    },
    {
      "cell_type": "markdown",
      "metadata": {
        "id": "HjU5I65ET3gZ"
      },
      "source": [
        "### Code\n",
        "\n",
        "Here’s a short code snippet to print the binary representation of a `float`:\n",
        "\n",
        "```c\n",
        "\n",
        " float f = 0.5;\n",
        " printf(\"Binary representation of float (0.5): \");\n",
        " print_binary_float(f);\n",
        "\n",
        "```"
      ]
    },
    {
      "cell_type": "code",
      "execution_count": null,
      "metadata": {
        "cellView": "form",
        "id": "eK04Vg5rIlW_"
      },
      "outputs": [],
      "source": [
        "# @title\n",
        "%%writefile tmp.c\n",
        "# include <stdio.h>\n",
        "# include <stdint.h>\n",
        "# include <string.h>\n",
        "\n",
        "void print_binary_float(float num) {\n",
        " uint32_t bits;\n",
        " memcpy(&bits, &num, sizeof(bits));\n",
        " for (int i = 31; i >= 0; i--) {\n",
        "     printf(\"%d\", (bits >> i) & 1);\n",
        "     if (i == 31 || i == 23) printf(\" \");  // Separate sign, exponent, and mantissa\n",
        " }\n",
        " printf(\"\\n\");\n",
        "}\n",
        "\n",
        "int main() {\n",
        " float f = 0.5;\n",
        " double d = 0.5;\n",
        " printf(\"Binary representation of float (0.5): \");\n",
        " print_binary_float(f);\n",
        "\n",
        " return 0;\n",
        "}"
      ]
    },
    {
      "cell_type": "code",
      "execution_count": null,
      "metadata": {
        "cellView": "form",
        "id": "f9Dzy7KfIpIp"
      },
      "outputs": [],
      "source": [
        "# @title\n",
        "!gcc tmp.c -o tmp\n",
        "!./tmp"
      ]
    },
    {
      "cell_type": "markdown",
      "metadata": {
        "id": "FYpLzC0fT3gZ"
      },
      "source": [
        "### Double Precision (`double`): 64 bits\n",
        "\n",
        "s eeeeeeeeeee ffffffffffffffffffffffffffffffffffffffffffffff\n",
        "\n",
        "- **s**: Sign bit (1 bit).\n",
        "- **e**: Exponent (11 bits) - Biased exponent (bias of `1023`).\n",
        "- **f**: Fraction (52 bits) - Mantissa, normalized to `1.f`.\n",
        "\n",
        "- **For `0.5` in `double`**:\n",
        "- Binary: $$0.5 = 1.0 \\times 2^{-1}$$\n",
        "- IEEE 754 Representation: `0 01111111100 0000000000000000000000000000000000000000000000000000`"
      ]
    },
    {
      "cell_type": "markdown",
      "metadata": {
        "id": "xLNnM-uXT3gZ"
      },
      "source": [
        "## Size of Data Types in C\n",
        "\n",
        "```c\n",
        "sizeof(char) == 1\n",
        "sizeof(short) <= sizeof(int) <= sizeof(long)\n",
        "sizeof(signed) == sizeof(unsigned) == sizeof(int)\n",
        "sizeof(float) <= sizeof(double) <= sizeof(long double)\n",
        "```"
      ]
    },
    {
      "cell_type": "markdown",
      "metadata": {
        "id": "jNpRTkG2T3gZ"
      },
      "source": [
        "on “nova\":\n",
        "\n",
        "- **char**: 1 byte\n",
        "- **short**: 2 bytes\n",
        "- **int**: 4 bytes\n",
        "- **long**: 8 bytes\n",
        "- **unsigned**: 4 bytes\n",
        "- **float**: 4 bytes\n",
        "- **double**: 8 bytes\n",
        "- **long double**: 16 bytes\n",
        "\n",
        "```c\n",
        "    printf(\"Size of char: %zu bytes\\n\", sizeof(char));\n",
        "\n"
      ]
    },
    {
      "cell_type": "code",
      "execution_count": null,
      "metadata": {
        "cellView": "form",
        "id": "V6OEAOMYLmaV"
      },
      "outputs": [],
      "source": [
        "# @title\n",
        "%%writefile tmp.c\n",
        "#include <stdio.h>\n",
        "\n",
        "int main() {\n",
        "    printf(\"Size of char: %zu bytes\\n\", sizeof(char));\n",
        "    return 0;\n",
        "}"
      ]
    },
    {
      "cell_type": "code",
      "execution_count": null,
      "metadata": {
        "cellView": "form",
        "id": "3giM9SdULrbJ"
      },
      "outputs": [],
      "source": [
        "# @title\n",
        "!gcc tmp.c -o tmp\n",
        "!./tmp"
      ]
    },
    {
      "cell_type": "markdown",
      "metadata": {
        "id": "-pNDcYx9T3ga"
      },
      "source": [
        "## Constants in C\n",
        "\n",
        "Constants are fixed values that do not change during program execution. They can be categorized by their types as follows:\n",
        "\n",
        "| Type         | Examples                    |\n",
        "|--------------|----------------------------|\n",
        "| char         | 'a', 'x', '0', '&', '\\n'  |\n",
        "| int          | 1, 0, -54, 4234567        |\n",
        "| long         | 0l, 123l, –7766l          |\n",
        "| unsigned     | 0u, 23u, 3000000000u      |\n",
        "| float        | 1.2f, .2f, 1.f, 3.14159f  |\n",
        "| double       | 1.0, -3.1412, 1.2e-2      |\n",
        "| long double  | 1.0l, –2.4433l            |\n"
      ]
    },
    {
      "cell_type": "markdown",
      "metadata": {
        "id": "HwkGAoKvT3ga"
      },
      "source": [
        "### ASCII Character Constants\n",
        "\n",
        "Lowercase Letters\n",
        "\n",
        "|         | 'a' | 'b' | 'c' | ... | 'z' |\n",
        "|---------|-----|-----|-----|-----|-----|\n",
        "| Value   |  97 |  98 |  99 | ... | 122 |\n",
        "\n",
        "---\n",
        "\n",
        "Digits\n",
        "\n",
        "|         | '0' | '1' | '2' | ... | '9' |\n",
        "|---------|-----|-----|-----|-----|-----|\n",
        "| Value   |  48 |  49 |  50 | ... |  57 |\n",
        "\n",
        "---\n",
        "\n",
        "Special Characters\n",
        "\n",
        "| Name of Character     | Written in C | Integer Value |\n",
        "|-----------------------|---------------|---------------|\n",
        "| Alert                 | `'\\a'`       | 7             |\n",
        "| Backslash            | `'\\\\'`       | 92            |\n",
        "| Horizontal Tab       | `'\\t'`       | 9             |\n",
        "| Newline              | `'\\n'`       | 10            |\n",
        "| Null Character       | `'\\0'`       | 0             |\n",
        "| Quote                | `'\\\"'`       | 39            |\n",
        "| Ampersand           | `'&'`        | 38            |\n",
        "| Asterisk            | `'*'`        | 42            |\n",
        "| Plus                | `'+'`        | 43            |\n"
      ]
    },
    {
      "cell_type": "markdown",
      "metadata": {
        "id": "hq8SR6uPT3ga"
      },
      "source": [
        "Example 1\n",
        "\n",
        "```c\n",
        "char c = 'a';\n",
        "printf(\"%c\", c);       // prints ?\n",
        "printf(\"%d\", c);       // prints ?\n",
        "printf(\"%c%c%c\", c, c+1, c+2); // prints ?\n"
      ]
    },
    {
      "cell_type": "code",
      "execution_count": null,
      "metadata": {
        "cellView": "form",
        "id": "QXivbLpOI0aG"
      },
      "outputs": [],
      "source": [
        "# @title\n",
        "%%writefile tmp.c\n",
        "#include <stdio.h>\n",
        "int main()\n",
        "{\n",
        "   char c = 'a';\n",
        "   printf(\"%c\\n\", c);                   // Prints the character 'a'\n",
        "   printf(\"%d\\n\", c);                   // Prints the integer value of 'a' (97)\n",
        "   printf(\"%c%c%c\\n\", c, c + 1, c + 2); // Prints 'abc'\n",
        "}"
      ]
    },
    {
      "cell_type": "code",
      "execution_count": null,
      "metadata": {
        "cellView": "form",
        "id": "7A0EzDdNJEIH"
      },
      "outputs": [],
      "source": [
        "# @title\n",
        "!gcc tmp.c -o tmp\n",
        "!./tmp"
      ]
    },
    {
      "cell_type": "markdown",
      "metadata": {
        "id": "JmtWAHSPT3ga"
      },
      "source": [
        "\n",
        "Example 2\n",
        "\n",
        "|     | 'A' | 'B' | 'C' | ... | 'Z' |\n",
        "|-----|-----|-----|-----|-----|-----|\n",
        "| Value |  65 |  66 |  67 | ... |  90 |\n",
        "\n",
        "```c\n",
        "char c = 0;\n",
        "int i = 0;\n",
        "\n",
        "// printed ?\n",
        "for (i = 'a'; i <= 'z'; ++i) {\n",
        "    printf(\"%c\", i);\n",
        "}\n",
        "\n",
        "// printed ?\n",
        "for (c = 65; c <= 90; ++c) {\n",
        "    printf(\"%c\", c);\n",
        "}\n",
        "\n",
        "// printed ?\n",
        "for (c = '0'; c <= '9'; ++c) {\n",
        "    printf(\"%d\", c);\n",
        "}\n",
        "```\n"
      ]
    },
    {
      "cell_type": "code",
      "execution_count": null,
      "metadata": {
        "cellView": "form",
        "id": "_M4RgH6iNOpd"
      },
      "outputs": [],
      "source": [
        "# @title\n",
        "%%writefile tmp.c\n",
        "#include <stdio.h>\n",
        "\n",
        "int main()\n",
        "{\n",
        "   char c = 0;\n",
        "   int i = 0;\n",
        "\n",
        "   // “abc ... z“ is printed\n",
        "   for (i = 'a'; i <= 'z'; ++i)\n",
        "   {\n",
        "      printf(\"%c\", i);\n",
        "   }\n",
        "   printf(\"\\n\");\n",
        "   // “ABC ... Z“ is printed\n",
        "   for (c = 65; c <= 90; ++c)\n",
        "   {\n",
        "      printf(\"%c\", c);\n",
        "   }\n",
        "   printf(\"\\n\");\n",
        "   // “48 49 50 ... 57“ is printed\n",
        "   for (c = '0'; c <= '9'; ++c)\n",
        "   {\n",
        "      printf(\"%d\", c);\n",
        "   }\n",
        "\n",
        "   return 0;\n",
        "}"
      ]
    },
    {
      "cell_type": "code",
      "execution_count": null,
      "metadata": {
        "cellView": "form",
        "id": "ItvSEw0zNSFi"
      },
      "outputs": [],
      "source": [
        "# @title\n",
        "!gcc tmp.c -o tmp\n",
        "!./tmp"
      ]
    },
    {
      "cell_type": "markdown",
      "metadata": {
        "id": "TReu73lfT3gb"
      },
      "source": [
        "## Decimal, Hexadecimal, and Octal Representation in C\n",
        "\n",
        "```c\n",
        "    printf(\"%d  %x  %o\\n\", 19, 19, 19);       // Output ?\n",
        "    printf(\"%d  %x  %o\\n\", 0x1c, 0x1c, 0x1c); // Output ?\n",
        "    printf(\"%d  %x  %o\\n\", 017, 017, 017);    // Output ?\n",
        "    printf(\"%d\\n\", 11 + 0x11 + 011);          // Output ?\n",
        "    printf(\"%x\\n\", 2097151);                  // Output ?\n",
        "    printf(\"%d\\n\", 0x1FfFFf);                 // Output ?\n",
        "\n",
        "```"
      ]
    },
    {
      "cell_type": "code",
      "execution_count": null,
      "metadata": {
        "cellView": "form",
        "id": "qkAYzwAoN6dp"
      },
      "outputs": [],
      "source": [
        "# @title\n",
        "%%writefile tmp.c\n",
        "# include <stdio.h>\n",
        "\n",
        "int main(void)\n",
        "{\n",
        "    printf(\"%d  %x  %o\\n\", 19, 19, 19);       // Output: 19  13  23\n",
        "    printf(\"%d  %x  %o\\n\", 0x1c, 0x1c, 0x1c); // Output: 28  1c  34\n",
        "    printf(\"%d  %x  %o\\n\", 017, 017, 017);    // Output: 15  f   17\n",
        "    printf(\"%d\\n\", 11 + 0x11 + 011);          // Output: 37\n",
        "    printf(\"%x\\n\", 2097151);                  // Output: 1fffff\n",
        "    printf(\"%d\\n\", 0x1FfFFf);                 // Output: 2097151\n",
        "    return 0;\n",
        "}"
      ]
    },
    {
      "cell_type": "code",
      "execution_count": null,
      "metadata": {
        "cellView": "form",
        "id": "2fO8TAepODPJ"
      },
      "outputs": [],
      "source": [
        "# @title\n",
        "!gcc tmp.c -o tmp\n",
        "!./tmp"
      ]
    },
    {
      "cell_type": "markdown",
      "metadata": {
        "id": "HtKRS6q_T3gb"
      },
      "source": [
        "## The usual arithmetic conversion (promotion)\n",
        "\n",
        "The usual arithmetic conversion (promotion) in C follows a set of rules to convert operands to a common type before performing operations. Here's the hierarchy:\n",
        "\n",
        "| Type Hierarchy (bottom to top)                |\n",
        "|---------------------------------------------|\n",
        "| long double                                  |\n",
        "| double                                      |\n",
        "| float                                       |\n",
        "| unsigned long                               |\n",
        "| long                                        |\n",
        "| unsigned int                                |\n",
        "| int                                         |\n",
        "\n",
        "1. If either operand is long double:\n",
        "   → other operand is converted to long double\n",
        "\n",
        "2. If either operand is double:\n",
        "   → other operand is converted to double\n",
        "\n",
        "3. If either operand is float:\n",
        "   → other operand is converted to float\n",
        "\n",
        "4. Integral promotions:\n",
        "   - char, short → int\n",
        "   - If either operand is unsigned:\n",
        "     → other operand is converted to unsigned\n",
        "\n",
        "Example:\n",
        "\n",
        "int + float = float\n",
        "\n",
        "char + int = int\n",
        "\n",
        "long + unsigned int = unsigned long\n",
        "\n",
        "Here are some expressions and their resulting types based on the above rules:\n",
        "\n",
        "```c\n",
        "char c;\t\t\tshort s;\t\tint  i;\t\tunsigned  u;\n",
        "unsigned long  ul;\t\tfloat  f;  \t\tdouble  d;  \tlong double  ld;\n",
        "```\n",
        "\n",
        "| Expression           | Resulting Type     |\n",
        "|----------------------|---------------------|\n",
        "| `c - s / i`         | `int`               |\n",
        "| `u * 7 - i`         | `unsigned`          |\n",
        "| `u * 2.0 - i`       | `double`            |\n",
        "| `f * 7 - i`         | `float`             |\n",
        "| `c + 3`             | `int`               |\n",
        "| `7 * s * ul`        | `unsigned long`     |\n",
        "| `c + 5.0`           | `double`            |\n",
        "| `ld + c`            | `long double`       |\n",
        "| `d + s`             | `double`            |\n",
        "| `u - ul`            | `unsigned long`     |\n",
        "| `2 * i / l`         | `long`              |\n",
        "| `u - l`             | **system dependent** |\n",
        "\n",
        "\n"
      ]
    },
    {
      "cell_type": "markdown",
      "metadata": {
        "id": "etjNcrSoRG4u"
      },
      "source": [
        "### Explanation of Examples\n",
        "\n",
        "- **`c - s / i`**: Both `s` and `i` are typically `int`, so the result is an `int`.\n",
        "- **`u * 7 - i`**: `u` is `unsigned`, and `i` is `int`. The result is `unsigned` due to the presence of `unsigned`.\n",
        "- **`u * 2.0 - i`**: The multiplication with a `double` promotes the result to `double`, so the final type is `double`.\n",
        "- **`f * 7 - i`**: `f` is `float`, and since there's multiplication involved, the result is promoted to `float`.\n",
        "- **`c + 3`**: Here, both `c` and `3` are compatible as `int`, so the result remains `int`.\n",
        "- **`7 * s * ul`**: The presence of `unsigned long` makes the whole expression evaluate to `unsigned long`.\n",
        "- **`c + 5.0`**: The presence of a `double` (5.0) causes the result to be promoted to `double`.\n",
        "- **`ld + c`**: Here, `ld` is `long double`, which promotes `c` to `long double`.\n",
        "- **`d + s`**: Since `d` is `double`, it promotes `s` to `double`, and the result is `double`.\n",
        "- **`u - ul`**: This operation involves `unsigned`, resulting in `unsigned long`.\n",
        "- **`2 * i / l`**: The division by `l` (a `long`) results in a `long` type.\n",
        "- **`u - l`**: This is **system dependent** because the conversion rules can vary based on the specific system and compiler."
      ]
    },
    {
      "cell_type": "markdown",
      "metadata": {
        "id": "kWkZJjZVixIp"
      },
      "source": [
        "## Cast\n",
        "\n",
        "```c\n",
        "double d = 3.3;\n",
        "int i = 0;\n",
        "unsigned ui = 0;\n",
        "\n",
        "i = (int)d; /* i==3*/\n",
        "d = (double)i / 2; /* d==1.5*/\n",
        "ui = (unsigned)i;\n",
        "```"
      ]
    },
    {
      "cell_type": "code",
      "execution_count": null,
      "metadata": {
        "cellView": "form",
        "id": "JtPKDFv2Zmla"
      },
      "outputs": [],
      "source": [
        "# @title\n",
        "%%writefile tmp.c\n",
        "#include <stdio.h>\n",
        "\n",
        "int main()\n",
        "{\n",
        "    double d = 3.3;\n",
        "    int i = 0;\n",
        "    unsigned ui = 0;\n",
        "\n",
        "    i = (int)d;        /* i==3*/\n",
        "    d = (double)i / 2; /* d==1.5*/\n",
        "    ui = (unsigned)i;\n",
        "    printf(\"%d\\n\", i);\n",
        "    printf(\"%f\\n\", d);\n",
        "    printf(\"%d\\n\", ui);\n",
        "    printf(\"%d\\n\", i / 2);\n",
        "    return 0;\n",
        "}"
      ]
    },
    {
      "cell_type": "code",
      "execution_count": null,
      "metadata": {
        "cellView": "form",
        "id": "M_f0xNRzZq5b"
      },
      "outputs": [],
      "source": [
        "# @title\n",
        "!gcc tmp.c -o tmp\n",
        "!./tmp"
      ]
    },
    {
      "cell_type": "markdown",
      "metadata": {
        "id": "bPOGFdupGbMT"
      },
      "source": [
        "## Boolean in C\n",
        "Numeric values are used instead:  0 ⇔ false, ≠0 ⇔true\n",
        "\n",
        "```c\n",
        "int flag = 0;      // initialize flag\n",
        "flag = 1;          // set flag\n",
        "if(flag) {         // check flag\n",
        "    // do something\n",
        "}\n",
        "```"
      ]
    },
    {
      "cell_type": "markdown",
      "metadata": {
        "id": "0JnS9MsSlbv-"
      },
      "source": [
        "# Flow of Control (Chapter 4)\n"
      ]
    },
    {
      "cell_type": "markdown",
      "metadata": {
        "id": "J9XBfEV9Hyr5"
      },
      "source": [
        "## Operators and Associativity\n",
        "\n",
        "This table shows C operators and their associativity (the order in which operations are performed when multiple operators of the same precedence appear).\n",
        "\n",
        "| Operator Type                         | Associativity | Example                    |\n",
        "|--------------------------------------|---------------|----------------------------|\n",
        "| Unary (+, -, ++, --, !)             | Right to left | !++x                      |\n",
        "| Multiplicative (*, /, %)             | Left to right | a * b / c                 |\n",
        "| Additive (+, -)                      | Left to right | a + b - c                 |\n",
        "| Relational (<, <=, >, >=)           | Left to right | a < b <= c                |\n",
        "| Equality (==, !=)                    | Left to right | a == b != c               |\n",
        "| Logical AND (&&)                     | Left to right | a && b && c               |\n",
        "| Logical OR (\\|\\|)                      | Left to right | a \\|\\| b \\|\\| c               |\n",
        "| Assignment (=, +=, -=, *=, /=, etc.) | Right to left | a = b = c                 |\n",
        "\n",
        "\n",
        "```c\n",
        "// Right to left: unary operators\n",
        "!!x        // evaluated as !(!(x))\n",
        "\n",
        "// Left to right: arithmetic\n",
        "a + b - c  // evaluated as (a + b) - c\n",
        "\n",
        "// Right to left: assignment\n",
        "a = b = 5  // evaluated as a = (b = 5)\n",
        "```"
      ]
    },
    {
      "cell_type": "markdown",
      "metadata": {
        "id": "tw1yqeNTJxna"
      },
      "source": [
        "## Increment Operators\n",
        "\n",
        "```c\n",
        "int a = 0, b = 0, c = 0;\n",
        "a = ++c;\n",
        "b = c++;\n",
        "printf( “%d %d %d\\n”, a, b, c++ ); // prints ?\n",
        "```\n",
        "\n",
        "**Note:**\n",
        "```c\n",
        "++x  // Pre-increment: increment first, then use value\n",
        "x++  // Post-increment: use value first, then increment\n",
        "```"
      ]
    },
    {
      "cell_type": "code",
      "execution_count": null,
      "metadata": {
        "cellView": "form",
        "id": "vDoi2YPcbL6g"
      },
      "outputs": [],
      "source": [
        "# @title\n",
        "%%writefile tmp.c\n",
        "#include <stdio.h>\n",
        "\n",
        "int main()\n",
        "{\n",
        "    int a = 0, b = 0, c = 0;\n",
        "    a = ++c;\n",
        "    b = c++;\n",
        "    printf(\"% d % d % d\\n\", a, b, c++); // “1 1 2” is printed\n",
        "}"
      ]
    },
    {
      "cell_type": "code",
      "execution_count": null,
      "metadata": {
        "cellView": "form",
        "id": "XsDdrPA4bOOo"
      },
      "outputs": [],
      "source": [
        "# @title\n",
        "!gcc tmp.c -o tmp\n",
        "!./tmp"
      ]
    },
    {
      "cell_type": "markdown",
      "metadata": {
        "id": "Nn-K3ljzKPRa"
      },
      "source": [
        "## Declarations and Initializations 1\n",
        "\n",
        "```c\n",
        "int main(void){\n",
        "\tchar\tc = 'w';\n",
        "\tint\ti = 1, j = 2, k = -7;\n",
        "\tdouble  x = 7e+33, y = 0.001;\n",
        "\t...\n",
        "```\n",
        "\n",
        "| Expression            | Equivalent Expression                  | Value |\n",
        "|----------------------|---------------------------------------|-------|\n",
        "| 'a' + 1 < c          | ('a' + 1) < c                        | 1     |\n",
        "| -i - 5 * j >= k + 1  | ((-i) - (5 * j)) >= (k + 1)         | 0     |\n",
        "| 3 < j < 5            | (3 < j) < 5                          | 1     |\n",
        "| x-3.333 <= x + y     | (x - 3.333) <= (x + y)              | 1     |\n",
        "| x < x + y            | x < (x + y)                          | 0     |\n",
        "\n"
      ]
    },
    {
      "cell_type": "markdown",
      "metadata": {
        "id": "KwYI8eMAK1cV"
      },
      "source": [
        "## Declarations and Initializations 2\n",
        "\n",
        "```c\n",
        "int  i = 1, j = 2, k = 3;\n",
        "```\n",
        "\n",
        "| Expression           | Equivalent Expression                | Value |\n",
        "|---------------------|-------------------------------------|-------|\n",
        "| i == j              | j == i                              | 0     |\n",
        "| i != j              | j != i                              | 1     |\n",
        "| i + j + k == -2 * -k| ((i + j) + k) == ((-2) * (-k))     | 1     |"
      ]
    },
    {
      "cell_type": "markdown",
      "metadata": {
        "id": "KMe1k6uKLFme"
      },
      "source": [
        "## Declarations and Initializations 3\n",
        "\n",
        "```c\n",
        "    char c = 'A';\n",
        "    int i = 7, j = 7;\n",
        "    double x = 0.0, y = 2.3;\n",
        "```\n",
        "\n",
        "| Expression      | Equivalent Expression       | Value |\n",
        "|-----------------|----------------------------|-------|\n",
        "| !c             | !c                         | 0     |\n",
        "| !(i - j)       | !(i - j)                  | 1     |\n",
        "| !i - j         | (!i) - j                  | -7    |\n",
        "| !!(x + y)      | !(!((x + y)))            | 1     |\n",
        "| !x * !!y       | (!x) * (!(!y))           | 1     |\n",
        "\n"
      ]
    },
    {
      "cell_type": "markdown",
      "metadata": {
        "id": "VOWAzIk6L2Tz"
      },
      "source": [
        "## Declarations and Initializations 4\n",
        "\n",
        "```c\n",
        "    char c = 'B';\n",
        "    int i = 3, j = 3, k = 3;\n",
        "    double x = 0.0, y = 2.3;\n",
        "```\n",
        "\n",
        "| Expression              | Equivalent Expression                        | Value |\n",
        "|------------------------|---------------------------------------------|-------|\n",
        "| i && j && k            | (i && j) && k                               | 1     |\n",
        "| x \\|\\| i && j - 3      | x \\|\\| (i && (j - 3))                      | 0     |\n",
        "| i < j && x < y         | (i < j) && (x < y)                         | 0     |\n",
        "| i < j \\|\\| x < y       | (i < j) \\|\\| (x < y)                       | 1     |\n",
        "| 'A' <= c && c <= 'Z'   | ('A' <= c) && (c <= 'Z')                   | 1     |\n",
        "| c - 1 == 'A' \\|\\| c + 1 == 'Z' | ((c - 1) == 'A') \\|\\| ((c + 1) == 'Z') | 1     |"
      ]
    },
    {
      "cell_type": "markdown",
      "metadata": {
        "id": "nygGBaSwMNel"
      },
      "source": [
        "## The **if** Statement\n",
        "\n",
        "An if / else statement:\n",
        "\n",
        "```c\n",
        "    if (a == 1)\n",
        "        printf( “* **\\n”);\n",
        "    else\n",
        "    {\n",
        "        printf( “## #\\n”);\n",
        "        other commands\n",
        "    }\n",
        "```\n",
        "\n",
        "An if statement, not followed by an else statement:\n",
        "```c\n",
        "    if (a == 1)\n",
        "        printf( “* **\\n”);\n",
        "\n",
        "    printf( “another command\\n”);\n",
        "```\n",
        "\n",
        "If the body of an if...else statement has only one statement, you do not need to use brackets `{}`."
      ]
    },
    {
      "cell_type": "markdown",
      "metadata": {
        "id": "GxSRVMq9NHUn"
      },
      "source": [
        "### Indentation\n",
        "\n",
        "Indentation does not influence the else statement\n",
        "\n",
        "\n",
        "```c\n",
        "if (a == 1)\n",
        "   if (b == 2)\n",
        "      printf(\"***\\n\");\n",
        "   else\n",
        "      printf(\"###\\n\");\n",
        "\n",
        "```\n",
        "is equivalent to\n",
        "```c\n",
        "if (a == 1)\n",
        "   if (b == 2)\n",
        "      printf(\"***\\n\");\n",
        "else\n",
        "      printf(\"###\\n\");\n",
        "```"
      ]
    },
    {
      "cell_type": "markdown",
      "metadata": {
        "id": "8j_E-qseP37O"
      },
      "source": [
        "### Dangling else\n",
        "\n",
        "[Dangling else](https://en.wikipedia.org/wiki/Dangling_else): What about the else???\n",
        "\n",
        "```c\n",
        "if (a == 1)\n",
        "   if (b == 2)\n",
        "      printf(\"***\\n\");\n",
        "   else\n",
        "      printf(\"###\\n\");\n",
        "\n",
        "```\n",
        "**NOT** equivalent to\n",
        "```c\n",
        "if (a == 1) {\n",
        "   if (b == 2)\n",
        "      printf(\"***\\n\");\n",
        "}\n",
        "else\n",
        "      printf(\"###\\n\");\n",
        "\n",
        "```"
      ]
    },
    {
      "cell_type": "code",
      "execution_count": null,
      "metadata": {
        "cellView": "form",
        "id": "AkbCcl4GfavX"
      },
      "outputs": [],
      "source": [
        "# @title\n",
        "%%writefile tmp.c\n",
        "#include <stdio.h>\n",
        "\n",
        "int main() {\n",
        "    int x = 5, y = -10;\n",
        "\n",
        "    if (x > 0)\n",
        "        if (y > 0)\n",
        "            printf(\"Both x and y are positive\\n\");\n",
        "    else\n",
        "        printf(\"x is not positive\\n\");\n",
        "\n",
        "    return 0;\n",
        "}\n"
      ]
    },
    {
      "cell_type": "code",
      "execution_count": null,
      "metadata": {
        "cellView": "form",
        "id": "sZdRaGoSfj1M"
      },
      "outputs": [],
      "source": [
        "# @title\n",
        "!gcc tmp.c -o tmp\n",
        "!./tmp"
      ]
    },
    {
      "cell_type": "markdown",
      "metadata": {
        "id": "5y0kzuSOO9I6"
      },
      "source": [
        "### Best Practice\n",
        "\n",
        "Best way to use use brackets.\n",
        "\n",
        "```c\n",
        "    if (number1 >= number2) {\n",
        "      if (number1 == number2) {\n",
        "        printf(\"Result: %d = %d\",number1,number2);\n",
        "      }\n",
        "      else {\n",
        "        printf(\"Result: %d > %d\", number1, number2);\n",
        "      }\n",
        "    }\n",
        "    else {\n",
        "        printf(\"Result: %d < %d\",number1, number2);\n",
        "    }\n",
        "\n",
        "```"
      ]
    },
    {
      "cell_type": "markdown",
      "metadata": {
        "id": "alwpMMUSQ4Pn"
      },
      "source": [
        "## The while Statement\n",
        "\n",
        "Loop until i is equal to, or bigger than n.\n",
        "\n",
        "```c\n",
        "while (i++ < n)\n",
        "    factorial *= i;\n",
        "```\n",
        "Loop until the EOF character is encountered.\n",
        "\n",
        "```c\n",
        "while ( ( c = getchar() ) != EOF )\n",
        "{\n",
        "\tif ( c >= ‘a’ && c <= ‘z’ )\n",
        "\t\t++lowercase_letter_cnt;\n",
        "\t++total_cnt;\n",
        "}\n",
        "```"
      ]
    },
    {
      "cell_type": "markdown",
      "metadata": {
        "id": "RdbocsxpSjfX"
      },
      "source": [
        "## The for Statement\n",
        "\n",
        "Here we sum the numbers from 1 to 10:\n",
        "<table>\n",
        "<tr>\n",
        "<td>\n",
        "\n",
        "```c\n",
        "i = 1;\n",
        "sum = 0;\n",
        "for (; i <= 10; ++i)\n",
        "    sum += i;\n",
        "```\n",
        "</td> <td>\n",
        "\n",
        "```c\n",
        "i = 1;\n",
        "sum = 0;\n",
        "for (; i <= 10;)\n",
        "    sum += i++;\n",
        "```\n",
        "</td> <td>\n",
        "\n",
        "```c\n",
        "sum = 0\n",
        "for (i = 1; i <= 10; ++i)\n",
        "    sum += i;\n",
        "```\n",
        "</td> </tr> </table>\n",
        "\n",
        "Here we have an infinite loop!!!\n",
        "\n",
        "```c\n",
        "i = 1;\n",
        "sum = 0;\n",
        "for ( ; ; )\n",
        "{\n",
        "\tsum += i++;\n",
        "\tprintf(\"%d\\n\", sum);\n",
        "}\n",
        "\n",
        "```\n",
        "\n",
        "The loop stops when the condition (middle statement) evaluates to 0.\n"
      ]
    },
    {
      "cell_type": "markdown",
      "metadata": {
        "id": "GMDSBEQTVAzx"
      },
      "source": [
        "## The comma Operator\n",
        "\n",
        "\n",
        "\n",
        "*   Usually used in “for loops” - allows for multiple initializations and multiple processing of indices.\n",
        "*   Has the lowest precedence of all the operators in C\n",
        "*   left-to-right Associativity.\n",
        "*   The expression exp1,exp2 as a whole has the value and type of the right operand (i.e. exp2)\n",
        "\n",
        "Example:\n",
        "\n",
        "```c\n",
        "    int i, j, k = 3;\n",
        "    double x = 3.3;\n",
        "```\n",
        "\n",
        "| Expression | Equivalent Expression | Value |\n",
        "|------------|------------------------|-------|\n",
        "| `i = 1, j = 2, ++k + 1` | `((i = 1), (j = 2)), ((++k) + 1)` | 5 |\n",
        "| `k != 1, ++x * 2.0 + 1` | `(k != 1), (((++x) * 2.0) + 1)` | 9.6 |"
      ]
    },
    {
      "cell_type": "markdown",
      "metadata": {
        "id": "WjYFg7RfWpXC"
      },
      "source": [
        "## Example - The for Statement\n",
        "\n",
        "```c\n",
        "for ( sum = 0, i = 1; i <=n; ++i )\n",
        "   sum += i;\n",
        "```"
      ]
    },
    {
      "cell_type": "markdown",
      "metadata": {
        "id": "aP6jGgyiXkD7"
      },
      "source": [
        "## Short-circuit Evaluation (&&,||)\n",
        "\n",
        "Short-circuit evaluation is an optimization technique used in logical operations where the second operand is only evaluated if necessary.\n",
        "\n",
        "Behavior\n",
        "*  &&: If the first operand is false, the second is not evaluated\n",
        "*  ||: If the first operand is true, the second is not evaluated\n",
        "\n",
        "```c\n",
        "if ( (i != 0) && ( 1/i < ....)){\n",
        "                // 1/i not evaluated if i==0\n",
        "\n",
        "...\n",
        "}\n",
        "```\n",
        "\n",
        "Benefits\n",
        "1. Improved efficiency\n",
        "2. Avoids potential errors (e.g., division by zero)\n",
        "3. Enables conditional execution of code\n",
        "\n",
        "Best Practices\n",
        "* Use parentheses for clarity in complex expressions\n",
        "* Be cautious with expressions that have side effects"
      ]
    },
    {
      "cell_type": "markdown",
      "metadata": {
        "id": "lVzJnO-WYmB-"
      },
      "source": [
        "## The do-while Statement\n",
        "\n",
        "```c\n",
        "do {\n",
        "\tprintf( “Input a positive integer: ” );\n",
        "\tscanf( “%d”, &n );\n",
        "\tif (error = (n <= 0) )\n",
        "\t     printf( “\\nERROR; Do it again!\\n\\n” );\n",
        "} while (error);\n",
        "```"
      ]
    },
    {
      "cell_type": "markdown",
      "metadata": {
        "id": "GlOovzyNY0y8"
      },
      "source": [
        "## The break Command\n",
        "\n",
        "```c\n",
        "    while (1)\n",
        "    {\n",
        "        while (1)\n",
        "        {\n",
        "            scanf( “%f”, &x);\n",
        "\n",
        "            if (x < 0.0) /* Exit the loop if x is negative */\n",
        "\n",
        "                break;\n",
        "\n",
        "            printf( “% f\\n”, sqrt(x));\n",
        "        }\n",
        "\n",
        "        /*break jumps to here!!*/\n",
        "    }\n",
        "```"
      ]
    },
    {
      "cell_type": "markdown",
      "metadata": {
        "id": "F5fLx_JHZu44"
      },
      "source": [
        "## The continue Command\n",
        "\n",
        "```c\n",
        "    for (i = 0; i < TOTAL; ++i)\n",
        "    {\n",
        "        c = getchar();\n",
        "        if (c >= `0 ' && c <= `9')\n",
        "            continue; /* Jump to the end of the current iteration to ignore an uninteresting case */\n",
        "        .\n",
        "        .\n",
        "        .\n",
        "    }\n",
        "```"
      ]
    },
    {
      "cell_type": "markdown",
      "metadata": {
        "id": "IZyh2mYUZ_rP"
      },
      "source": [
        "## Switch Statement\n",
        "\n",
        "The cases are constant integral expressions with unique values, indicating labels to jump to (according to the value of c)\n",
        "\n",
        "\n",
        "```c\n",
        "    switch (c) /* value to be evaluated (integral expression) */\n",
        "    {\n",
        "    case 'a':\n",
        "        ++a_cnt;\n",
        "        break;\n",
        "    case 'b':\n",
        "        ++b_cnt;\n",
        "        break;\n",
        "    case 'c':\n",
        "    case 'C':\n",
        "        ++C_cnt;\n",
        "        break;\n",
        "    default:\n",
        "        ++other_cnt;\n",
        "    }\n",
        "```"
      ]
    },
    {
      "cell_type": "code",
      "execution_count": null,
      "metadata": {
        "cellView": "form",
        "id": "guOHOmF9lPda"
      },
      "outputs": [],
      "source": [
        "# @title\n",
        "%%writefile tmp.c\n",
        "#include <stdio.h>\n",
        "\n",
        "int main() {\n",
        "    char grade = 'B';\n",
        "\n",
        "    switch (grade) {\n",
        "        case 'A':\n",
        "        case 'B':\n",
        "        case 'C':\n",
        "            printf(\"You passed!\\n\");\n",
        "            break;\n",
        "        case 'D':\n",
        "        case 'F':\n",
        "            printf(\"You failed.\\n\");\n",
        "            break;\n",
        "        default:\n",
        "            printf(\"Invalid grade.\\n\");\n",
        "    }\n",
        "\n",
        "    return 0;\n",
        "}\n"
      ]
    },
    {
      "cell_type": "code",
      "execution_count": null,
      "metadata": {
        "cellView": "form",
        "id": "L5bKQDa9lTAi"
      },
      "outputs": [],
      "source": [
        "# @title\n",
        "!gcc tmp.c -o tmp\n",
        "!./tmp"
      ]
    },
    {
      "cell_type": "markdown",
      "metadata": {
        "id": "wxdFwtELai-u"
      },
      "source": [
        "## The conditional operator  exp1?exp2:exp3\n",
        "\n",
        "\n",
        "\n",
        "```c\n",
        "    x = exp1 ? exp2 : exp3;  \n",
        "```\n",
        "is  Equivalent to:\n",
        "```c\n",
        "    if (exp1)\n",
        "        x = exp2;\n",
        "    else\n",
        "        x = exp3;\n",
        "```\n",
        "Example:\n",
        "```c\n",
        "    char a = 'a', b = 'b'; /* ‘a‘ has a decimal value of 97 */\n",
        "    int i = 1, j = 2;\n",
        "    double x = 7.07;\n",
        "```\n",
        "\n",
        "| Expression | Equivalent Expression | Value | Type |\n",
        "|------------|------------------------|-------|------|\n",
        "| `i == j ? a - 1 : b + 1` | `(i == j) ? (a - 1) : (b + 1)` | 99 | int |\n",
        "| `j % 3 == 0 ? i + 4 : x` | `((j % 3) == 0) ? (i + 4) : x` | 7.07 | double |\n",
        "| `j % 3 ? i + 4 : x` | `(j % 3) ? (i + 4) : x` | 5.0 | double |\n",
        "\n",
        "The type is determined by both exp2 and exp3, irrespective of which is evaluated!!!\n"
      ]
    },
    {
      "cell_type": "markdown",
      "metadata": {
        "id": "rAA4IwVVdXkt"
      },
      "source": [
        "# A quick intro to IO (Chapter 11)\n",
        "\n",
        "\n"
      ]
    },
    {
      "cell_type": "markdown",
      "metadata": {
        "id": "qu20mS8rhUiT"
      },
      "source": [
        "## Printf\n",
        "```c\n",
        "int printf(<control string>, <arg2>, <arg2>,…,<argn>)\n",
        "```\n",
        "\n",
        "Example\n",
        "```c\n",
        "     printf(“The bill is %d\\n”, x); /* x == 100 */\n",
        "     The bill is 100\n",
        "```\n",
        "```c\n",
        "     printf(“My name is %s and I am %d years old\\n”, “John”, 30);\n",
        "     My name is John and I am 30 years old\n",
        "```\n",
        "\n",
        "* The % symbol introduces conversion specification\n",
        "\n",
        "* Returns the number of characters printed\n"
      ]
    },
    {
      "cell_type": "markdown",
      "metadata": {
        "id": "Ldw6mHdPiFym"
      },
      "source": [
        "## Printf Conversion Characters\n",
        "\n",
        "\n",
        "\n",
        "| Conversion Character | How the Corresponding Argument is Printed                                                                 |\n",
        "|----------------------|-----------------------------------------------------------------------------------------------------------|\n",
        "| `c`                  | as a character                                                                                            |\n",
        "| `d`, `i`             | as a decimal integer                                                                                      |\n",
        "| `u`                  | as an unsigned decimal integer                                                                            |\n",
        "| `o`                  | as an unsigned octal integer                                                                              |\n",
        "| `x`, `X`             | as an unsigned hexadecimal integer                                                                        |\n",
        "| `f`                  | as a floating-point number; example: `7.123000e+00`                                                       |\n",
        "| `E`                  | as a floating-point number; example: `7.123000E+00`                                                       |\n",
        "| `g`                  | as a floating-point number; example: `7.123000`                                                           |\n",
        "| `G`                  | in the E-format or f-format, whichever is shorter                                                         |\n",
        "| `s`                  | as a string                                                                                               |\n",
        "| `p`                  | the corresponding argument is a pointer to `void`; its value is printed as a hexadecimal number           |\n",
        "| `n`                  | the corresponding argument is a pointer to an integer into which the number of characters printed so far is stored |\n",
        "| `%`                  | with the format `%%` a single `%` is written to the output stream; there is no corresponding argument to be converted |\n"
      ]
    },
    {
      "cell_type": "markdown",
      "metadata": {
        "id": "WTEf55R1kyRz"
      },
      "source": [
        "## Format Specifiers and How They are Printed\n",
        "\n",
        "```c\n",
        "char c = ‘A’, s[] = “Blue moon!”;\n",
        "```\n",
        "\n",
        "\n",
        "| Format   | Printed         | Remarks                                      |\n",
        "|----------|-----------------|----------------------------------------------|\n",
        "| `%c`     | `\"A\"`           | field width 1 by default                     |\n",
        "| `%2c`    | `\" A\"`          | field width 2, right adjusted                |\n",
        "| `%-3c`   | `\"A  \"`         | field width 3, left adjusted                 |\n",
        "| `%s`     | `\"Blue moon!\"`  | field width 10 by default                    |\n",
        "| `%3s`    | `\"Blue moon!\"`  | more space is needed                         |\n",
        "| `%.6s`   | `\"Blue m\"`      | precision 6                                  |\n",
        "| `%-11.8s`| `\"Blue moo   \"` | precision 8, left adjusted                   |\n"
      ]
    },
    {
      "cell_type": "markdown",
      "metadata": {
        "id": "B_aImXJWlvwF"
      },
      "source": [
        "```c\n",
        "int i = 123;\n",
        "double x = 0.123456789;\n",
        "```\n",
        "\n",
        "| Format      | Printed        | Remarks                           |\n",
        "|-------------|----------------|-----------------------------------|\n",
        "| `%d`        | `\"123\"`         | field width 3 by default          |\n",
        "| `%05d`      | `\"00123\"`       | padded with zeros                 |\n",
        "| `%7o`       | `\"    173\"`     | right adjusted, octal             |\n",
        "| `%-9x`      | `\"7b       \"`   | left adjusted, hexadecimal        |\n",
        "| `%-9#x`     | `\"0x7b     \"`   | left adjusted, hexadecimal        |\n",
        "| `%10.5f`    | `\"   0.12346\"`  | field width 10, precision 5       |\n",
        "| `%-12.5e`   | `\"1.23457e-01\"` | left adjusted, e-format           |\n"
      ]
    },
    {
      "cell_type": "markdown",
      "metadata": {
        "id": "u50_oQFSl3TF"
      },
      "source": [
        "## Scanf\n",
        "\n",
        "```c\n",
        "int scanf(<control string>, <arg2>,<arg2>,…,<argn>)\n",
        "```\n",
        "Example:\n",
        "\n",
        "```c\n",
        "     int a, b;\n",
        "     scanf(“%d %d”, &a, &b);\n",
        "     The text 100 200 will assign 100 to a and 200 to b\n",
        "```\n",
        "\n",
        "* Coverts non-white-space characters (unless using “%c”)\n",
        "* Returns the number of successful conversions\n"
      ]
    },
    {
      "cell_type": "code",
      "execution_count": null,
      "metadata": {
        "cellView": "form",
        "id": "aQveYtGTpd5e"
      },
      "outputs": [],
      "source": [
        "# @title\n",
        "%%writefile tmp.c\n",
        "#include <stdio.h>\n",
        "\n",
        "int main()\n",
        "{\n",
        "    int a, b;\n",
        "    printf(\"Enter two numbers: \");\n",
        "    scanf(\"%d%d\", &a, &b);\n",
        "    printf(\"The sum is: %d\\n\", a + b);\n",
        "}"
      ]
    },
    {
      "cell_type": "code",
      "execution_count": null,
      "metadata": {
        "cellView": "form",
        "id": "25pqO9MOq2ER"
      },
      "outputs": [],
      "source": [
        "# @title\n",
        "!gcc tmp.c -o tmp\n",
        "!./tmp"
      ]
    }
  ],
  "metadata": {
    "colab": {
      "collapsed_sections": [
        "HtKRS6q_T3gb"
      ],
      "include_colab_link": true,
      "provenance": []
    },
    "kernelspec": {
      "display_name": "Python 3",
      "name": "python3"
    },
    "language_info": {
      "name": "python"
    }
  },
  "nbformat": 4,
  "nbformat_minor": 0
}
