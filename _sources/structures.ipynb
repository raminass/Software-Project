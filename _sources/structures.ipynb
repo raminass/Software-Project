{
  "cells": [
    {
      "cell_type": "markdown",
      "metadata": {
        "id": "Tgvrhv7n-KdY"
      },
      "source": [
        "# Structures \n",
        "\n",
        "(ch 9)"
      ]
    },
    {
      "cell_type": "markdown",
      "metadata": {
        "id": "Jx4ZHl2r-VJd"
      },
      "source": [
        "## Structs\n",
        "\n",
        "```c\n",
        "/*struct definition*/\n",
        "struct card\n",
        "{\n",
        "    int pips;\n",
        "    int suit;\n",
        "};\n",
        "\n",
        "struct card c1, c2; /* Variable declaration */\n",
        "```"
      ]
    },
    {
      "cell_type": "markdown",
      "metadata": {
        "id": "W3sfu49h-sXn"
      },
      "source": [
        "## typedef\n",
        "```c\n",
        "c1.pips = 3;\n",
        "c1.suit = 's';\n",
        "\n",
        "c2 = c1;\n",
        "\n",
        "typedef struct card card;\n",
        "\n",
        "card c3, c4, c5;\n",
        "```\n",
        "\n",
        "`typedef`: This keyword allows you to create an alias for a type. In this case, it defines card as an alias for struct card."
      ]
    },
    {
      "cell_type": "markdown",
      "metadata": {
        "id": "Kq9IwVw8CjqF"
      },
      "source": [
        "![image.png](data:image/png;base64,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)"
      ]
    },
    {
      "cell_type": "markdown",
      "metadata": {
        "id": "JSyoRFNP_755"
      },
      "source": [
        "## Combining structs & typedef\n",
        "\n",
        "```c\n",
        "typedef struct\n",
        "{\n",
        "    float re;\n",
        "    float im;\n",
        "} complex;\n",
        "\n",
        "complex a, b;\n",
        "complex c[100] = {{1.0, -1.0}, {2.0, -2.0}};\n",
        "```"
      ]
    },
    {
      "cell_type": "markdown",
      "metadata": {
        "id": "Yhpb5h3EA47-"
      },
      "source": [
        "## Declarations and Assignments\n",
        "\n",
        "```c\n",
        "struct student {\n",
        "    char grade;        // Grade of the student (e.g., A, B, C)\n",
        "    char *last_name;   // Last name of the student\n",
        "    int student_id;    // Student ID number\n",
        "};\n",
        "\n",
        "struct student tmp, *p = &tmp;\n",
        "\n",
        "tmp.grade = 'A';\n",
        "tmp.last_name = \"Verstappen\";\n",
        "tmp.student_id = 9100017;\n",
        "```\n"
      ]
    },
    {
      "cell_type": "markdown",
      "metadata": {
        "id": "nGH-_ehKBfId"
      },
      "source": [
        "```c\n",
        "printf(\"Grade: %c\\n\", tmp.grade);\n",
        "printf(\"Last Name: %s\\n\", tmp.last_name);\n",
        "printf(\"Student ID: %d\\n\", tmp.student_id);\n",
        "printf(\"Access via Pointer (Grade): %c\\n\", p->grade);\n",
        "printf(\"Access via Pointer (Last Name): %s\\n\", p->last_name);\n",
        "printf(\"Access via Pointer (Student ID): %d\\n\", p->student_id);\n",
        "```"
      ]
    },
    {
      "cell_type": "markdown",
      "metadata": {
        "id": "tTFlSZP4BqwI"
      },
      "source": [
        "* `struct student tmp`: Declares a variable `tmp` of type struct student.\n",
        "* `struct student *p = &tmp;`: Declares a pointer `p` that stores the address of the struct tmp.\n",
        "* `tmp.member`: Accesses a member of the struct directly.\n",
        "* `p->member`: Accesses a member of the struct indirectly through a pointer. Equivalent to `(*p).member`."
      ]
    },
    {
      "cell_type": "markdown",
      "metadata": {
        "id": "DFet8zOZCi1x"
      },
      "source": [
        "### **Expression Table**\n",
        "\n",
        "| **Expression**        | **Equivalent Expression** | **Value**        |\n",
        "|------------------------|---------------------------|------------------|\n",
        "| `tmp.grade`           | `p->grade`               | `'A'`           |\n",
        "| `tmp.last_name`       | `p->last_name`           | `\"Verstappen\"`  |\n",
        "| `(*p).student_id`     | `p->student_id`          | `9100017`       |\n",
        "| `*p->last_name + 1` | `(*(p->last_name)) + 1`  | `'W'` (next char)|\n",
        "| `*(p->last_name + 2)` | `(p->last_name)[2]`      | `'r'`           |\n"
      ]
    },
    {
      "cell_type": "markdown",
      "metadata": {
        "id": "LcZNkQ32ERhI"
      },
      "source": [
        "## Why Store Strings as Pointers in Structs?\n",
        "\n",
        "1. Dynamic Memory Allocation: Using a pointer, the actual string can be allocated dynamically, allowing it to change in size during runtime.\n",
        "2. Memory Efficiency: Instead of storing the entire string in the struct (fixed size), only the pointer is stored, which reduces the struct's size.\n",
        "3. Flexibility: Strings can vary in length, and pointers accommodate strings of any length, as long as memory is allocated correctly.\n",
        "\n",
        "```c\n",
        "struct student {\n",
        "    int student_id;\n",
        "    char *last_name;  // Pointer to a dynamically allocated string\n",
        "    char grade;\n",
        "};\n",
        "\n",
        "/* Dynamically allocate memory for the string*/\n",
        "s.last_name = malloc(20 * sizeof(char));\n",
        "if (s.last_name == NULL) {\n",
        "    printf(\"Memory allocation failed\\n\");\n",
        "    return 1;\n",
        "}\n",
        "\n",
        "/* Copy a string into the allocated memory*/\n",
        "strcpy(s.last_name, \"Verstappen\");\n",
        "```"
      ]
    },
    {
      "cell_type": "markdown",
      "metadata": {
        "id": "prcV9xo0EwFl"
      },
      "source": [
        "## Passing Structs\n",
        "\n",
        "```c\n",
        "void update(empolyee_data *p) /*a pointer to the original struct is passed*/\n",
        "{\n",
        "    prinf(\"Input the department number : \");\n",
        "    scanf(\"% d\", &n);\n",
        "    p->department.dept_no = n;/*the original struct is modified*/\n",
        "}\n",
        "\n",
        "empolyee_data e;\n",
        "update(&e);\n",
        "\n",
        "```"
      ]
    },
    {
      "cell_type": "markdown",
      "metadata": {
        "id": "FvuQsftrtC-i"
      },
      "source": [
        "Can we pass it by value ?"
      ]
    }
  ],
  "metadata": {
    "colab": {
      "authorship_tag": "ABX9TyPu4mr2cexujKeFNG98kMIK",
      "include_colab_link": true,
      "private_outputs": true,
      "provenance": []
    },
    "kernelspec": {
      "display_name": "Python 3",
      "name": "python3"
    },
    "language_info": {
      "name": "python"
    }
  },
  "nbformat": 4,
  "nbformat_minor": 0
}
