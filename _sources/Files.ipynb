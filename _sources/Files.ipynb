{
  "nbformat": 4,
  "nbformat_minor": 0,
  "metadata": {
    "colab": {
      "private_outputs": true,
      "provenance": [],
      "toc_visible": true,
      "authorship_tag": "ABX9TyOKBzwCjtJiGoxpwGv8Dna7",
      "include_colab_link": true
    },
    "kernelspec": {
      "name": "python3",
      "display_name": "Python 3"
    },
    "language_info": {
      "name": "python"
    }
  },
  "cells": [
    {
      "cell_type": "markdown",
      "metadata": {
        "id": "view-in-github",
        "colab_type": "text"
      },
      "source": [
        "<a href=\"https://colab.research.google.com/github/raminass/Software-Project/blob/main/Files.ipynb\" target=\"_parent\"><img src=\"https://colab.research.google.com/assets/colab-badge.svg\" alt=\"Open In Colab\"/></a>"
      ]
    },
    {
      "cell_type": "markdown",
      "source": [
        "# Files\n",
        "\n",
        "* Viewed as streams of bytes\n",
        "* All functions are defined at <stdio.h>\n",
        "* Files have a name in the OS; represented in C by a FILE structure (which describes their current state)\n",
        "* They require opening/closing\n",
        "* Can be opened for read/write/append\n",
        "\n",
        "\n"
      ],
      "metadata": {
        "id": "T47vFEE3NpcC"
      }
    },
    {
      "cell_type": "markdown",
      "source": [
        "## Working with Files\n",
        "\n",
        "```c\n",
        "FILE *fopen(const char *filename, const char *mode)\n",
        "/*returns a pointer to the opened file or NULL on failure*/\n",
        "int *fclose(FILE *fp)\n",
        "/*returns 0 on success or EOF on failure*/\n",
        "\n",
        "#include <stdio.h>\n",
        "int main(void)\n",
        "{\n",
        "    FILE *ifp = NULL;\n",
        "    ifp = fopen(\"my_file\", \"r\");/*Modes: r, w, a, r+, w+, a+*/\n",
        "    assert(ifp != NULL);\n",
        "    fclose(ifp);\n",
        "}\n",
        "\n",
        "```"
      ],
      "metadata": {
        "id": "bPRVf60eN33_"
      }
    },
    {
      "cell_type": "markdown",
      "source": [
        "## Character-wise  Read/Write\n",
        "\n",
        "```c\n",
        "int fgetc( FILE *);\n",
        "int fputc( int,  FILE*);\n",
        "```"
      ],
      "metadata": {
        "id": "UU7QOwdPOhsm"
      }
    },
    {
      "cell_type": "markdown",
      "source": [
        "## Example: Double-Spacing a File\n",
        "\n",
        "The program:\n",
        "\n",
        "* Reads the contents of an input file (infile).\n",
        "* Writes the contents to an output file (outfile), adding an extra newline after each existing newline (i.e., double-spacing the file).\n"
      ],
      "metadata": {
        "id": "ueNALoJ4Ookl"
      }
    },
    {
      "cell_type": "markdown",
      "source": [
        "### main()\n",
        "\n",
        "```c\n",
        "#include <stdio.h>\n",
        "#include <stdlib.h>\n",
        "\n",
        "// Function prototypes\n",
        "void double_space(FILE *ifp, FILE *ofp);\n",
        "void prn_info(const char *pgm_name);\n",
        "void prn_err_msg(const char *file_name);\n",
        "\n",
        "int main(int argc, char **argv)\n",
        "{\n",
        "    int rtVal = 0;                 // Return value for program exit\n",
        "    FILE *ifp = NULL, *ofp = NULL; // File pointers\n",
        "\n",
        "    // Ensure the program is invoked with the correct number of arguments\n",
        "    if (argc == 3)\n",
        "    {\n",
        "        ifp = fopen(argv[1], \"r\"); // Open input file in read mode\n",
        "        if (ifp != NULL)\n",
        "        {\n",
        "            ofp = fopen(argv[2], \"w\"); // Open output file in write mode\n",
        "            if (ofp != NULL)\n",
        "            {\n",
        "                double_space(ifp, ofp); // Perform double-spacing\n",
        "                fclose(ofp);            // Close output file\n",
        "            }\n",
        "            else\n",
        "                rtVal = 2; // Error opening output file\n",
        "            fclose(ifp);   // Close input file\n",
        "        }\n",
        "        else\n",
        "            rtVal = 1; // Error opening input file\n",
        "    }\n",
        "    else\n",
        "    {\n",
        "        rtVal = -1;        // Incorrect usage\n",
        "        prn_info(argv[0]); // Print usage instructions\n",
        "    }\n",
        "\n",
        "    // Print error message if applicable\n",
        "    if (rtVal > 0)\n",
        "        prn_err_msg(argv[rtVal]);\n",
        "\n",
        "    return rtVal; // Return appropriate exit code\n",
        "}\n",
        "```"
      ],
      "metadata": {
        "id": "kQ4zqBolP6eV"
      }
    },
    {
      "cell_type": "markdown",
      "source": [
        "### prn_info()\n",
        "Prints usage instructions to the user if the program is invoked incorrectly.\n",
        "\n",
        "```c\n",
        "void prn_info(const char *pgm_name)\n",
        "{\n",
        "    printf(\"\\nUsage: %s infile outfile\\n\", pgm_name);\n",
        "    printf(\"The contents of infile will be double-spaced and written to outfile.\\n\");\n",
        "}\n",
        "```"
      ],
      "metadata": {
        "id": "WkcQhHjzQ1rR"
      }
    },
    {
      "cell_type": "markdown",
      "source": [
        "### prn_err_msg()\n",
        "Prints a specific error message if a file cannot be opened.\n",
        "```c\n",
        "void prn_err_msg(const char *file_name)\n",
        "{\n",
        "    printf(\"\\nError: Could not open file %s\\n\", file_name);\n",
        "}\n",
        "```"
      ],
      "metadata": {
        "id": "JtnTpHnyRLIa"
      }
    },
    {
      "cell_type": "markdown",
      "source": [
        "### double_space()\n",
        "\n",
        "```c\n",
        "void double_space(FILE *ifp, FILE *ofp)\n",
        "{\n",
        "    int c = 0;\n",
        "\n",
        "    // Read input file character by character\n",
        "    while ((c = fgetc(ifp)) != EOF)\n",
        "    {\n",
        "        fputc(c, ofp); // Write character to output file\n",
        "        if (c == '\\n') // If newline is encountered, add another newline\n",
        "            fputc('\\n', ofp);\n",
        "    }\n",
        "}\n",
        "```"
      ],
      "metadata": {
        "id": "k57Czd49RS3_"
      }
    },
    {
      "cell_type": "code",
      "source": [
        "# @title\n",
        "%%writefile double_space.c\n",
        "#include <stdio.h>\n",
        "#include <stdlib.h>\n",
        "\n",
        "// Function prototypes\n",
        "void double_space(FILE *ifp, FILE *ofp);\n",
        "void prn_info(const char *pgm_name);\n",
        "void prn_err_msg(const char *file_name);\n",
        "\n",
        "int main(int argc, char **argv)\n",
        "{\n",
        "    int rtVal = 0;                 // Return value for program exit\n",
        "    FILE *ifp = NULL, *ofp = NULL; // File pointers\n",
        "\n",
        "    // Ensure the program is invoked with the correct number of arguments\n",
        "    if (argc == 3)\n",
        "    {\n",
        "        ifp = fopen(argv[1], \"r\"); // Open input file in read mode\n",
        "        if (ifp != NULL)\n",
        "        {\n",
        "            ofp = fopen(argv[2], \"w\"); // Open output file in write mode\n",
        "            if (ofp != NULL)\n",
        "            {\n",
        "                double_space(ifp, ofp); // Perform double-spacing\n",
        "                fclose(ofp);            // Close output file\n",
        "            }\n",
        "            else\n",
        "                rtVal = 2; // Error opening output file\n",
        "            fclose(ifp);   // Close input file\n",
        "        }\n",
        "        else\n",
        "            rtVal = 1; // Error opening input file\n",
        "    }\n",
        "    else\n",
        "    {\n",
        "        rtVal = -1;        // Incorrect usage\n",
        "        prn_info(argv[0]); // Print usage instructions\n",
        "    }\n",
        "\n",
        "    // Print error message if applicable\n",
        "    if (rtVal > 0)\n",
        "        prn_err_msg(argv[rtVal]);\n",
        "\n",
        "    return rtVal; // Return appropriate exit code\n",
        "}\n",
        "\n",
        "void prn_info(const char *pgm_name)\n",
        "{\n",
        "    printf(\"\\nUsage: %s infile outfile\\n\", pgm_name);\n",
        "    printf(\"The contents of infile will be double-spaced and written to outfile.\\n\");\n",
        "}\n",
        "\n",
        "void prn_err_msg(const char *file_name)\n",
        "{\n",
        "    printf(\"\\nError: Could not open file %s\\n\", file_name);\n",
        "}\n",
        "\n",
        "void double_space(FILE *ifp, FILE *ofp)\n",
        "{\n",
        "    int c = 0;\n",
        "\n",
        "    // Read input file character by character\n",
        "    while ((c = fgetc(ifp)) != EOF)\n",
        "    {\n",
        "        fputc(c, ofp); // Write character to output file\n",
        "        if (c == '\\n') // If newline is encountered, add another newline\n",
        "            fputc('\\n', ofp);\n",
        "    }\n",
        "}\n"
      ],
      "metadata": {
        "cellView": "form",
        "id": "x7u0_0qQRlJx"
      },
      "execution_count": null,
      "outputs": []
    },
    {
      "cell_type": "code",
      "source": [
        "# @title\n",
        "!gcc double_space.c -o double_space\n",
        "!./double_space infile.txt outfile.txt"
      ],
      "metadata": {
        "cellView": "form",
        "id": "8QrwLiIPRyOP"
      },
      "execution_count": null,
      "outputs": []
    },
    {
      "cell_type": "markdown",
      "source": [
        "# Formatted  IO\n",
        "\n",
        "```c\n",
        "int fprintf( FILE *fp, const char *control_string, ...);\n",
        "int fscanf( FILE *fp, const char *control_string, ...);\n",
        "```\n",
        "\n",
        "\n"
      ],
      "metadata": {
        "id": "iPHxdZavR8P6"
      }
    },
    {
      "cell_type": "markdown",
      "source": [
        "```c\n",
        "FILE *fp = fopen(\"output.txt\", \"w\");\n",
        "if (fp != NULL)\n",
        "{\n",
        "    int age = 25;\n",
        "    char name[] = \"Alice\";\n",
        "\n",
        "    fprintf(fp, \"Name: %s, Age: %d\\n\", name, age);\n",
        "    fclose(fp);\n",
        "}\n",
        "```"
      ],
      "metadata": {
        "id": "rMmvBRqlSfJw"
      }
    },
    {
      "cell_type": "markdown",
      "source": [
        "## Example: Sum of values\n",
        "\n",
        "```c\n",
        "#include <stdio.h>\n",
        "\n",
        "int main(void)\n",
        "{\n",
        "    int a = 0, sum = 0;\n",
        "    FILE *ifp = NULL, *ofp = NULL;\n",
        "    ifp = fopen(\"my_file\", \"r\");\n",
        "    ofp = fopen(\"outfile\", \"w\");\n",
        "    ...\n",
        "   \n",
        "    while (fscanf(ifp, \"%d\", &a) == 1)\n",
        "    {\n",
        "        sum += a;\n",
        "    }\n",
        "\n",
        "    fprintf(ofp, \"The sum is %d.\\n\", sum);\n",
        "\n",
        "    fclose(ifp);\n",
        "    fclose(ofp);\n",
        "\n",
        "    return 0;\n",
        "}\n",
        "```"
      ],
      "metadata": {
        "id": "G8B2w87PTN5K"
      }
    },
    {
      "cell_type": "markdown",
      "source": [
        "# Standard file pointers\n",
        "\n",
        "\n",
        "In stdio.h:\n",
        "\n",
        "**stdin**  \tstandard input file connected to the keyboard\n",
        "\n",
        "**stdout** \tstandard output file connected to the screen\n",
        "\n",
        "**stderr** \tstandard error file connected to the screen\n",
        "\n",
        "```c\n",
        "fprintf( stdout, ... );  /*is equivalent to*/  printf( ....);\n",
        "fscanf( stdin, ...); /*is equivalent to*/ scanf( .... );\n",
        "```"
      ],
      "metadata": {
        "id": "C5S7ifdST8Er"
      }
    },
    {
      "cell_type": "markdown",
      "source": [
        "# Binary files\n",
        "\n",
        "```c\n",
        "size_t fread(void *ptr, size_t size, size_t nmemb, FILE *stream);\n",
        "\n",
        "```\n",
        "Reads at most  size*nmemb bytes (characters)  from the file *stream into the array ptr. Reading stops when  EOF is encountered. Returns the number of  read bytes.\n",
        "\n",
        "```c\n",
        "size_t fwrite(void *ptr, size_t size, size_t nmemb, FILE *stream);\n",
        "```\n",
        "Writes the first size*nmemb bytes in the array ptr into the file *stream. Returns the number of successfully written bytes.\n"
      ],
      "metadata": {
        "id": "ci1YL4XxVCmr"
      }
    },
    {
      "cell_type": "code",
      "source": [
        "# @title\n",
        "%%writefile write_binary.c\n",
        "#include <stdio.h>\n",
        "#include <stdlib.h>\n",
        "\n",
        "// Define a student structure\n",
        "typedef struct {\n",
        "    int id;\n",
        "    char name[50];\n",
        "    float grade;\n",
        "} Student;\n",
        "\n",
        "int main() {\n",
        "    Student students[] = {\n",
        "        {1, \"Alice\", 90.5},\n",
        "        {2, \"Bob\", 85.3},\n",
        "        {3, \"Charlie\", 78.9}\n",
        "    };\n",
        "    FILE *file = fopen(\"students.dat\", \"wb\");\n",
        "    if (!file) {\n",
        "        perror(\"Error opening file\");\n",
        "        return 1;\n",
        "    }\n",
        "\n",
        "    // Write array of structures to the binary file\n",
        "    fwrite(students, sizeof(Student), 3, file);\n",
        "    fclose(file);\n",
        "\n",
        "    printf(\"Data written to binary file successfully.\\n\");\n",
        "    return 0;\n",
        "}\n"
      ],
      "metadata": {
        "cellView": "form",
        "id": "CA8w5WpV5Bfd"
      },
      "execution_count": null,
      "outputs": []
    },
    {
      "cell_type": "code",
      "source": [
        "# @title\n",
        "!gcc write_binary.c -o write_binary\n",
        "!./write_binary"
      ],
      "metadata": {
        "cellView": "form",
        "id": "NKLXzwU85NFL"
      },
      "execution_count": null,
      "outputs": []
    },
    {
      "cell_type": "code",
      "source": [
        "# @title\n",
        "%%writefile read_binary.c\n",
        "#include <stdio.h>\n",
        "#include <stdlib.h>\n",
        "\n",
        "// Define a student structure\n",
        "typedef struct {\n",
        "    int id;\n",
        "    char name[50];\n",
        "    float grade;\n",
        "} Student;\n",
        "\n",
        "int main() {\n",
        "    Student students[3]; // Array to hold the data read\n",
        "    FILE *file = fopen(\"students.dat\", \"rb\");\n",
        "    if (!file) {\n",
        "        perror(\"Error opening file\");\n",
        "        return 1;\n",
        "    }\n",
        "\n",
        "    // Read array of structures from the binary file\n",
        "    fread(students, sizeof(Student), 3, file);\n",
        "    fclose(file);\n",
        "\n",
        "    // Print the read data\n",
        "    printf(\"Student Records:\\n\");\n",
        "    for (int i = 0; i < 3; ++i) {\n",
        "        printf(\"ID: %d, Name: %s, Grade: %.2f\\n\",\n",
        "               students[i].id, students[i].name, students[i].grade);\n",
        "    }\n",
        "    return 0;\n",
        "}\n"
      ],
      "metadata": {
        "cellView": "form",
        "id": "CMrAgbgf5O8L"
      },
      "execution_count": null,
      "outputs": []
    },
    {
      "cell_type": "code",
      "source": [
        "# @title\n",
        "!gcc read_binary.c -o read_binary\n",
        "!./read_binary"
      ],
      "metadata": {
        "cellView": "form",
        "id": "CWGCnk0c5R6K"
      },
      "execution_count": null,
      "outputs": []
    },
    {
      "cell_type": "markdown",
      "source": [
        "## Change the Case of Letters in a File\n",
        "\n",
        "```c\n",
        "#include <ctype.h>\n",
        "#include <stdio.h>\n",
        "#include <assert.h>\n",
        "#define   BUFSIZE   1024\n",
        "\n",
        "int main(int argc, char **argv)\n",
        "{\n",
        "\tchar\tmybuf[BUFSIZE] = { 0 }, *p = NULL;\n",
        "\tFILE   *ifp = NULL, *ofp = NULL;\n",
        "\tint    n = 0;\n",
        "\n",
        "\tifp  = fopen(argv[1], \"r\"); /*open the file for reading*/\n",
        "\tofp = fopen(argv[2], \"w\"); /*open the file for writing*/\n",
        "\tassert(ifp != NULL);\n",
        "\tassert(ofp != NULL);\n",
        "\n",
        "\twhile ((n = fread(mybuf, sizeof(char), BUFSIZE, ifp)) > 0) /*read from the file*/\n",
        "\t{\n",
        "\t\tfor (p = mybuf; p - mybuf < n; ++p)\n",
        "\t\t{\n",
        "\t\t      if (islower(*p))        *p = toupper(*p);\n",
        "\t\t      else if (isupper(*p))   *p = tolower(*p);\n",
        "\t\t}\n",
        "\t\tfwrite(mybuf, sizeof(char), n, ofp); /*write to the file*/\n",
        "\t}\n",
        "  /*close the files*/\n",
        "\tfclose(ifp);\n",
        "\tfclose(ofp);\n",
        "\treturn 0;\n",
        "}\n",
        "```"
      ],
      "metadata": {
        "id": "EF3QaOnUV4pb"
      }
    },
    {
      "cell_type": "markdown",
      "source": [
        "## Random access to files: fseek and ftell\n",
        "\n",
        "```c\n",
        "/* no need to define!!! already defined\n",
        "#define  SEEK_SET   0 beginning of the file\n",
        "\n",
        "#define  SEEK_CUR   1 current position in the file\n",
        "\n",
        "#define  SEEK_END   2 end of the file\n",
        "*/\n",
        "\n",
        "int fseek(FILE *fp, long offset, int place);\n",
        "(returns 0 on success and non-zero on failure)\n",
        "\n",
        "void rewind(FILE *fp);\n",
        "\n",
        "long ftell(FILE *fp);\n",
        "(returns current position or -1 on failure)\n",
        "```"
      ],
      "metadata": {
        "id": "zFiTFAFR7XGS"
      }
    },
    {
      "cell_type": "markdown",
      "source": [
        "## Example: Write a File Backwards\n",
        "\n",
        "```c\n",
        "#include <stdio.h>\n",
        "#include <assert.h>\n",
        "#define MAXSTRING 100\n",
        "\n",
        "int main(void) {\n",
        "    char file_name[MAXSTRING] = {0};\n",
        "    int c = 0;\n",
        "    FILE *ifp = NULL;\n",
        "\n",
        "    printf(\"\\nInput a file name: \");\n",
        "    scanf(\"%s\", file_name);\n",
        "\n",
        "    ifp = fopen(file_name, \"r\");\n",
        "    assert(ifp != NULL);\n",
        "\n",
        "    // Move to the end of the file\n",
        "    fseek(ifp, 0, SEEK_END);\n",
        "\n",
        "    // Get the file size\n",
        "    long pos = ftell(ifp);\n",
        "\n",
        "    // Backtrack through the file\n",
        "    while (pos > 0) {\n",
        "        fseek(ifp, -1, SEEK_CUR); // Move back one character\n",
        "        c = fgetc(ifp);           // Read the character\n",
        "        putchar(c);               // Print it\n",
        "        fseek(ifp, -1, SEEK_CUR); // Adjust position for the next iteration\n",
        "        pos--;\n",
        "    }\n",
        "\n",
        "    fclose(ifp);\n",
        "    return 0;\n",
        "}\n",
        "\n",
        "```"
      ],
      "metadata": {
        "id": "NzaXczuJ7xmp"
      }
    },
    {
      "cell_type": "markdown",
      "source": [
        "# Additional IO functions\n",
        "\n",
        "```c\n",
        "int feof(FILE *fp);\n",
        "/*non-zero when true and 0 when false*/\n",
        "char *fgets(char *buf, int buf_size, FILE *fp);\n",
        "/*appends ‘\\0’; returns buf on success and NULL o/w*/\n",
        "int fputs(const char *str, FILE *fp)\n",
        "/*removes ‘\\0’; returns >=0 on success and EOF o/w*/\n",
        "int fflush(FILE *fp)\n",
        "/*flushes on writing; returns 0 on success and EOF o/w*/\n",
        "\n",
        "int sprintf(char *s , const char *format, ...);\n",
        "int sscanf(const char *s, const char *format, ...);\n",
        "```"
      ],
      "metadata": {
        "id": "9jQTGWow9tph"
      }
    }
  ]
}