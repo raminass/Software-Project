{
  "nbformat": 4,
  "nbformat_minor": 0,
  "metadata": {
    "colab": {
      "provenance": [],
      "include_colab_link": true
    },
    "kernelspec": {
      "display_name": "Python 3",
      "language": "python",
      "name": "python3"
    },
    "language_info": {
      "codemirror_mode": {
        "name": "ipython",
        "version": 3
      },
      "file_extension": ".py",
      "mimetype": "text/x-python",
      "name": "python",
      "nbconvert_exporter": "python",
      "pygments_lexer": "ipython3",
      "version": "3.7.6"
    }
  },
  "cells": [
    {
      "cell_type": "markdown",
      "metadata": {
        "id": "view-in-github",
        "colab_type": "text"
      },
      "source": [
        "<a href=\"https://colab.research.google.com/github/raminass/Software-Project/blob/pandas/pandas.ipynb\" target=\"_parent\"><img src=\"https://colab.research.google.com/assets/colab-badge.svg\" alt=\"Open In Colab\"/></a>"
      ]
    },
    {
      "cell_type": "markdown",
      "metadata": {
        "id": "NqhJCtwaC2CQ"
      },
      "source": [
        "**Author**: Rami Nasser (raminass@gmail.com), Yael Kupershmidt (kupershmidt@mail.tau.ac.il)\n",
        "\n",
        "\n",
        "# Earlier\n",
        "\n",
        "*   Numpy\n",
        "*   Scipy\n",
        "*   Matplotlib\n",
        "\n",
        "# Today\n",
        "\n",
        "*   Pandas\n",
        "\n",
        "\n",
        "\n",
        "\n",
        "\n",
        "\n",
        "\n"
      ]
    },
    {
      "cell_type": "markdown",
      "metadata": {
        "id": "c5tHPi1-iQ3L"
      },
      "source": [
        "#Pandas"
      ]
    },
    {
      "cell_type": "markdown",
      "metadata": {
        "id": "owD0oJzdV435"
      },
      "source": [
        "**Learning Objectives:**\n",
        "  * Gain an introduction to the `DataFrame` and `Series` data structures of the *pandas* library\n",
        "  * Access and manipulate data within a `DataFrame` and `Series`\n",
        "  * Import CSV data into a *pandas* `DataFrame`\n"
      ]
    },
    {
      "cell_type": "markdown",
      "metadata": {
        "id": "MdMc4FaxV87B"
      },
      "source": [
        "[*pandas*](http://pandas.pydata.org/) is a column-oriented data analysis API. It's a great tool for handling and analyzing input data, and many ML frameworks support *pandas* data structures as inputs.\n",
        "Although a comprehensive introduction to the *pandas* API would span many pages, the core concepts are fairly straightforward, and we'll present them below. For a more complete reference, the [*pandas* docs site](http://pandas.pydata.org/pandas-docs/stable/index.html) contains extensive documentation and many tutorials."
      ]
    },
    {
      "cell_type": "markdown",
      "metadata": {
        "id": "6-He8CTxj6R0"
      },
      "source": [
        "##Setup"
      ]
    },
    {
      "cell_type": "markdown",
      "metadata": {
        "id": "KZXUEkXKovan"
      },
      "source": [
        "Install"
      ]
    },
    {
      "cell_type": "code",
      "metadata": {
        "id": "_-V9bnrHj8pG"
      },
      "source": [
        "!pip install pandas"
      ],
      "execution_count": null,
      "outputs": []
    },
    {
      "cell_type": "markdown",
      "metadata": {
        "id": "ec6jG8ejoxRF"
      },
      "source": [
        "Import - External Package"
      ]
    },
    {
      "cell_type": "code",
      "metadata": {
        "id": "GW6nXka6fW5m"
      },
      "source": [
        "import pandas as pd"
      ],
      "execution_count": null,
      "outputs": []
    },
    {
      "cell_type": "markdown",
      "metadata": {
        "id": "NF6nkskufbUd"
      },
      "source": [
        "The primary data structures in *pandas* are implemented as two classes:\n",
        "\n",
        "  * **`DataFrame`**, which you can imagine as a relational data table, with rows and named columns.\n",
        "  * **`Series`**, which is a single column. A `DataFrame` contains one or more `Series` and a name for each `Series`.\n",
        "\n",
        "The data frame is a commonly used abstraction for data manipulation. Similar implementations exist in [Spark](https://spark.apache.org/) and [R](https://www.r-project.org/about.html)."
      ]
    },
    {
      "cell_type": "markdown",
      "metadata": {
        "id": "Jh6Ics5FjLml"
      },
      "source": [
        "##Series"
      ]
    },
    {
      "cell_type": "markdown",
      "metadata": {
        "id": "PTiy8ACTfojl"
      },
      "source": [
        "One way to create a `Series` is to construct a `Series` object. For example:"
      ]
    },
    {
      "cell_type": "code",
      "metadata": {
        "id": "7fOoD2tLfr8M"
      },
      "source": [
        "pd.Series(['San Francisco', 'San Jose', 'Sacramento'])"
      ],
      "execution_count": null,
      "outputs": []
    },
    {
      "cell_type": "markdown",
      "metadata": {
        "id": "Y2sYdbuXqLRH"
      },
      "source": [
        "## Creating Data"
      ]
    },
    {
      "cell_type": "markdown",
      "metadata": {
        "id": "mARnw9P9fvOm"
      },
      "source": [
        "`DataFrame` objects can be created by passing a `dict` mapping `string` column names to their respective `Series`. If the `Series` don't match in length, missing values are filled with special [NA/NaN](http://pandas.pydata.org/pandas-docs/stable/missing_data.html) values. Example:"
      ]
    },
    {
      "cell_type": "code",
      "metadata": {
        "id": "RPpk-r_af0CI"
      },
      "source": [
        "city_names = pd.Series(['San Francisco', 'San Jose', 'Sacramento'])\n",
        "population = pd.Series([852469, 1015785, 485199])\n",
        "pd.DataFrame({'City name': city_names, 'Population': population })"
      ],
      "execution_count": null,
      "outputs": []
    },
    {
      "cell_type": "markdown",
      "metadata": {
        "id": "d84hZllguYsg"
      },
      "source": [
        "Missing Values:"
      ]
    },
    {
      "cell_type": "code",
      "metadata": {
        "id": "5WtcXV2i5a3Y"
      },
      "source": [
        "city_names = pd.Series(['San Francisco', 'San Jose', 'Sacramento'])\n",
        "population = pd.Series([852469, 485199])\n",
        "pd.DataFrame({'City name': city_names, 'Population': population})"
      ],
      "execution_count": null,
      "outputs": []
    },
    {
      "cell_type": "markdown",
      "metadata": {
        "id": "bO230duSqSVd"
      },
      "source": [
        "A DataFrame is a table(excel sheet). It contains an array of individual entries, each of which has a certain value. Each entry corresponds to a row (or record) and a column.\n",
        "\n",
        "For example, consider the following simple DataFrame:"
      ]
    },
    {
      "cell_type": "code",
      "metadata": {
        "id": "liv5NJxoqNRO"
      },
      "source": [
        "pd.DataFrame({'A': [50, 21], 'B': [131, 2]})"
      ],
      "execution_count": null,
      "outputs": []
    },
    {
      "cell_type": "markdown",
      "metadata": {
        "id": "DV7iMWSmvXay"
      },
      "source": [
        "The dictionary-list constructor assigns values to the column labels, but just uses an ascending count from 0 (0, 1, 2, 3, ...) for the row labels. Sometimes this is OK, but oftentimes we will want to assign these labels ourselves.\n",
        "\n",
        "The list of row labels used in a DataFrame is known as an Index. We can assign values to it by using an index parameter in our constructor:"
      ]
    },
    {
      "cell_type": "code",
      "metadata": {
        "id": "cpDPuPHIuaX9"
      },
      "source": [
        "# Student list\n",
        "students = pd.DataFrame({'Name': ['Ross', 'Monica','Chandler'],\n",
        "              'Last Name': ['Geller', 'Geller','Bing'],\n",
        "              'GPA': ['98', '99','90']},\n",
        "               index=['id1', 'id2','id3'])\n",
        "students"
      ],
      "execution_count": null,
      "outputs": []
    },
    {
      "cell_type": "code",
      "metadata": {
        "id": "r9AwvR9pgIyw"
      },
      "source": [
        "students['Name']['id1'] = 'Joey'\n",
        "students"
      ],
      "execution_count": null,
      "outputs": []
    },
    {
      "cell_type": "markdown",
      "metadata": {
        "id": "jXHy4ED1jYtq"
      },
      "source": [
        "##Reading Data"
      ]
    },
    {
      "cell_type": "markdown",
      "metadata": {
        "id": "nHmiYJQIf4DJ"
      },
      "source": [
        "Being able to create a DataFrame or Series by hand is handy. But, most of the time, we won't actually be creating our own data by hand. Instead, we'll be working with data that already exists.\n",
        "\n",
        "Data can be stored in any of a number of different forms and formats. By far the most basic of these is the humble CSV file. When you open a CSV file you get something that looks like this:"
      ]
    },
    {
      "cell_type": "markdown",
      "metadata": {
        "id": "PWHrsO2Gwyi-"
      },
      "source": [
        "```csv\n",
        "A,B,C,\n",
        "30,21,9,\n",
        "35,34,1,\n",
        "41,11,11\n",
        "```\n",
        "\n"
      ]
    },
    {
      "cell_type": "markdown",
      "metadata": {
        "id": "VivQZXAlxDao"
      },
      "source": [
        "So a CSV file is a table of values separated by commas. Hence the name: \"Comma-Separated Values\", or CSV.\n",
        "\n",
        "Let's now set aside our toy datasets and see what a real dataset looks like when we read it into a DataFrame. We'll use the pd.read_csv() function to read the data into a DataFrame."
      ]
    },
    {
      "cell_type": "markdown",
      "metadata": {
        "id": "MjznqmB4Ivsk"
      },
      "source": [
        "Reading from web directly:"
      ]
    },
    {
      "cell_type": "code",
      "metadata": {
        "id": "P63jqKS61qH-"
      },
      "source": [
        "houses = pd.read_csv(\"https://download.mlcc.google.com/mledu-datasets/california_housing_train.csv\")"
      ],
      "execution_count": null,
      "outputs": []
    },
    {
      "cell_type": "markdown",
      "metadata": {
        "id": "LgXLH3toJrF8"
      },
      "source": [
        "We can use the shape attribute to check how large the resulting DataFrame is:\n",
        "\n"
      ]
    },
    {
      "cell_type": "code",
      "metadata": {
        "id": "k07rMGG8JsMO"
      },
      "source": [
        "print(houses.shape)\n",
        "houses"
      ],
      "execution_count": null,
      "outputs": []
    },
    {
      "cell_type": "markdown",
      "metadata": {
        "id": "JOjxqOiiEQZC"
      },
      "source": [
        "We can examine the contents of the resultant DataFrame using the head()\n",
        "\n",
        "command, which grabs the first five rows:"
      ]
    },
    {
      "cell_type": "code",
      "metadata": {
        "id": "NDl0iMVQKB_d"
      },
      "source": [
        "# arg the desired number of rows\n",
        "houses.head(8)"
      ],
      "execution_count": null,
      "outputs": []
    },
    {
      "cell_type": "markdown",
      "metadata": {
        "id": "zVLS_TNdRqYY"
      },
      "source": [
        "Statistical overview of the dataset:"
      ]
    },
    {
      "cell_type": "code",
      "metadata": {
        "id": "ouBvE-BxRugt"
      },
      "source": [
        "houses.describe()"
      ],
      "execution_count": null,
      "outputs": []
    },
    {
      "cell_type": "markdown",
      "metadata": {
        "id": "8KJnEazzI4I7"
      },
      "source": [
        "Reading from local storage:"
      ]
    },
    {
      "cell_type": "code",
      "metadata": {
        "id": "q3acAU0jI8qu"
      },
      "source": [
        "! wget https://raw.githubusercontent.com/mwaskom/seaborn-data/master/tips.csv\n",
        "tips = pd.read_csv('tips.csv')"
      ],
      "execution_count": null,
      "outputs": []
    },
    {
      "cell_type": "code",
      "metadata": {
        "id": "rQSgMC8xGX5_"
      },
      "source": [
        "tips.sample(5)"
      ],
      "execution_count": null,
      "outputs": []
    },
    {
      "cell_type": "code",
      "metadata": {
        "id": "0DL_h6GEPiu7"
      },
      "source": [
        "tips[tips['day'] == 'Sat'].head(5)"
      ],
      "execution_count": null,
      "outputs": []
    },
    {
      "cell_type": "markdown",
      "metadata": {
        "id": "bSyiA8mGLIUy"
      },
      "source": [
        "##Accessing Data"
      ]
    },
    {
      "cell_type": "markdown",
      "metadata": {
        "id": "bEWnlU9ILeCX"
      },
      "source": [
        "Selecting specific values of a pandas DataFrame or Series to work on is an implicit step in almost any data operation you'll run, so one of the first things you need to learn in working with data in Python is how to go about selecting the data points relevant to you quickly and effectively."
      ]
    },
    {
      "cell_type": "markdown",
      "metadata": {
        "id": "WQqxRwnBLoln"
      },
      "source": [
        "Each column is a property of the dataframe object and we can get columns using Python property access:"
      ]
    },
    {
      "cell_type": "code",
      "metadata": {
        "id": "zLaFt-0zLPvR"
      },
      "source": [
        "tips.total_bill"
      ],
      "execution_count": null,
      "outputs": []
    },
    {
      "cell_type": "markdown",
      "metadata": {
        "id": "Lcgk_hmMMYQW"
      },
      "source": [
        "If we have a Python dictionary, we can access its values using the indexing ([]) operator. We can do the same with columns in a DataFrame:"
      ]
    },
    {
      "cell_type": "code",
      "metadata": {
        "id": "eGfmK1YAMZPI"
      },
      "source": [
        "tips['total_bill']"
      ],
      "execution_count": null,
      "outputs": []
    },
    {
      "cell_type": "markdown",
      "metadata": {
        "id": "LiRbBK03MvJX"
      },
      "source": [
        "These are the two ways of selecting a specific Series out of a DataFrame. Neither of them is more or less syntactically valid than the other, but the indexing operator [] does have the advantage that it can handle column names with reserved characters in them (e.g. if we had a total bill column, tips.total bill wouldn't work).\n",
        "\n",
        "Doesn't a pandas Series look kind of like a fancy dictionary? It pretty much is, so it's no surprise that, to drill down to a single specific value, we need only use the indexing operator [] once more:"
      ]
    },
    {
      "cell_type": "code",
      "metadata": {
        "id": "ZNP-s8FE_FhS"
      },
      "source": [
        "type(tips['time'])"
      ],
      "execution_count": null,
      "outputs": []
    },
    {
      "cell_type": "code",
      "metadata": {
        "id": "jp2XNMJTM3p1"
      },
      "source": [
        "tips['time'][200]"
      ],
      "execution_count": null,
      "outputs": []
    },
    {
      "cell_type": "code",
      "metadata": {
        "id": "OWTH2JHuE5U-"
      },
      "source": [
        "tips['time'].unique()"
      ],
      "execution_count": null,
      "outputs": []
    },
    {
      "cell_type": "markdown",
      "metadata": {
        "id": "u0vQYFJYNT6d"
      },
      "source": [
        "## Indexing"
      ]
    },
    {
      "cell_type": "markdown",
      "metadata": {
        "id": "Jf5omBwjNWGj"
      },
      "source": [
        "The indexing operator and attribute selection are nice because they work just like they do in the rest of the Python ecosystem. As a novice, this makes them easy to pick up and use. However, pandas has its own accessor operators, loc and iloc. For more advanced operations, these are the ones you're supposed to be using.\n",
        "\n",
        "Index-based selection\n",
        "Pandas indexing works in one of two paradigms. The first is index-based selection: selecting data based on its numerical position in the data. iloc follows this paradigm.\n",
        "\n",
        "To select the second last row of data in a DataFrame, we may use the following:"
      ]
    },
    {
      "cell_type": "code",
      "metadata": {
        "id": "JJQrWn73IZjF"
      },
      "source": [
        "tips[-2]"
      ],
      "execution_count": null,
      "outputs": []
    },
    {
      "cell_type": "code",
      "metadata": {
        "id": "-LcAd7g8NkyU"
      },
      "source": [
        "tips.iloc[-2]"
      ],
      "execution_count": null,
      "outputs": []
    },
    {
      "cell_type": "markdown",
      "metadata": {
        "id": "LPcwpd3ROBm6"
      },
      "source": [
        "Both loc and iloc are row-first, column-second.\n",
        "To get a column with iloc, we can do the following:"
      ]
    },
    {
      "cell_type": "code",
      "metadata": {
        "id": "Qgv8-0P4OHCf"
      },
      "source": [
        "tips.iloc[:,0]"
      ],
      "execution_count": null,
      "outputs": []
    },
    {
      "cell_type": "markdown",
      "metadata": {
        "id": "KuiUJ45POWo6"
      },
      "source": [
        "select rows and columns:"
      ]
    },
    {
      "cell_type": "code",
      "metadata": {
        "id": "LFmNvPw5Ob6z"
      },
      "source": [
        "tips.iloc[103:107,0]"
      ],
      "execution_count": null,
      "outputs": []
    },
    {
      "cell_type": "markdown",
      "metadata": {
        "id": "Fn9msnCOOu2-"
      },
      "source": [
        "Label-based selection.\n",
        "The second paradigm for attribute selection is the one followed by the loc operator: label-based selection. In this paradigm, it's the data index value, not its position, which matters.\n",
        "\n",
        "\n"
      ]
    },
    {
      "cell_type": "code",
      "metadata": {
        "id": "2hJp5_wlOy5a"
      },
      "source": [
        "tips.loc[103:107,'tip']"
      ],
      "execution_count": null,
      "outputs": []
    },
    {
      "cell_type": "markdown",
      "metadata": {
        "id": "LlPqHyvzPO3V"
      },
      "source": [
        "Change the index\n"
      ]
    },
    {
      "cell_type": "code",
      "metadata": {
        "id": "wLercChKPRer"
      },
      "source": [
        "df = tips.set_index('day')"
      ],
      "execution_count": null,
      "outputs": []
    },
    {
      "cell_type": "code",
      "metadata": {
        "id": "AHyjAlKsS8qg"
      },
      "source": [
        "df.sample(7)"
      ],
      "execution_count": null,
      "outputs": []
    },
    {
      "cell_type": "code",
      "metadata": {
        "id": "wKXt5aJ5PY9Q"
      },
      "source": [
        "df.loc['Sun','total_bill']"
      ],
      "execution_count": null,
      "outputs": []
    },
    {
      "cell_type": "markdown",
      "metadata": {
        "id": "d7ZCKiCpLQG7"
      },
      "source": [
        "More info in the documentation [indexing and selection](http://pandas.pydata.org/pandas-docs/stable/indexing.html)."
      ]
    },
    {
      "cell_type": "markdown",
      "metadata": {
        "id": "ProEzxdRTs12"
      },
      "source": [
        "## Manipulating Data\n",
        "\n",
        "You may apply Python's basic arithmetic operations to `Series`. For example:"
      ]
    },
    {
      "cell_type": "code",
      "metadata": {
        "id": "_xw3zuu4TNfw"
      },
      "source": [
        "tips.head()"
      ],
      "execution_count": null,
      "outputs": []
    },
    {
      "cell_type": "code",
      "metadata": {
        "id": "TMa9U2JjT9ft"
      },
      "source": [
        "tips['new_calc'] = tips.total_bill / 10"
      ],
      "execution_count": null,
      "outputs": []
    },
    {
      "cell_type": "code",
      "source": [
        "tips.head()"
      ],
      "metadata": {
        "id": "bROnLqzmxp4F"
      },
      "execution_count": null,
      "outputs": []
    },
    {
      "cell_type": "markdown",
      "metadata": {
        "id": "LaoGhDCHMnHx"
      },
      "source": [
        "Operation between columns:"
      ]
    },
    {
      "cell_type": "code",
      "metadata": {
        "id": "Vds2v3QBMqgj"
      },
      "source": [
        "tips.tip / tips.total_bill"
      ],
      "execution_count": null,
      "outputs": []
    },
    {
      "cell_type": "markdown",
      "metadata": {
        "id": "6WDqP9DOWOe-"
      },
      "source": [
        "calculating new column:"
      ]
    },
    {
      "cell_type": "code",
      "metadata": {
        "id": "GL6YUPFiWR67"
      },
      "source": [
        "import numpy as np\n",
        "tips['log_total'] = np.log(tips['total_bill'])"
      ],
      "execution_count": null,
      "outputs": []
    },
    {
      "cell_type": "code",
      "metadata": {
        "id": "4vFJUdD1Wgcw"
      },
      "source": [
        "tips.head(5)"
      ],
      "execution_count": null,
      "outputs": []
    },
    {
      "cell_type": "markdown",
      "metadata": {
        "id": "BPfIgMlbZRTm"
      },
      "source": [
        "summarizing data"
      ]
    },
    {
      "cell_type": "code",
      "metadata": {
        "id": "pH74QEr_X1CA"
      },
      "source": [
        "tips.tip.value_counts()"
      ],
      "execution_count": null,
      "outputs": []
    },
    {
      "cell_type": "markdown",
      "metadata": {
        "id": "x2ChbVz4M0Ay"
      },
      "source": [
        "##Filtering\n",
        "\n",
        "So far we've been indexing various strides of data, using structural properties of the DataFrame itself. To do interesting things with the data, however, we often need to ask questions based on conditions.\n",
        "\n",
        "For example, suppose that we're interested specifically in lunch times.\n"
      ]
    },
    {
      "cell_type": "code",
      "metadata": {
        "id": "Cwpsd07cOK57"
      },
      "source": [
        "tips[tips['time'] == 'Lunch']"
      ],
      "execution_count": null,
      "outputs": []
    },
    {
      "cell_type": "markdown",
      "metadata": {
        "id": "Sn-09bYtUo3w"
      },
      "source": [
        "If we want to ask more questions, for example parties that had lunch and paid a tip higher than 5, we can use the 'and' operator:"
      ]
    },
    {
      "cell_type": "code",
      "metadata": {
        "id": "yN_u9apgUL_7"
      },
      "source": [
        "tips[(tips['time'] == 'Lunch') & (tips['tip'] > 5)]"
      ],
      "execution_count": null,
      "outputs": []
    },
    {
      "cell_type": "markdown",
      "metadata": {
        "id": "LLG9afa7VDHy"
      },
      "source": [
        "We can build any query that concerns us as in any database, this can be achieved using basic conditional operators (and, or ...)"
      ]
    },
    {
      "cell_type": "markdown",
      "metadata": {
        "id": "jj03kksfVfva"
      },
      "source": [
        "For multiple selection instead of using many 'or' operators we use isin() function that pandas provide:"
      ]
    },
    {
      "cell_type": "code",
      "metadata": {
        "id": "aNMhk4FwVsbk"
      },
      "source": [
        "tips[(tips['size'].isin([2, 3])) & (tips['tip'] > 5)]"
      ],
      "execution_count": null,
      "outputs": []
    },
    {
      "cell_type": "markdown",
      "metadata": {
        "id": "ccW93jjmauFm"
      },
      "source": [
        "Data cleaning, in modern apps and researches many time we have missing data due to technical or buisiness issues, in clinical research patient might not answer some question, it's up to the researcher to decide how to handle missing data(this is a topic in ML).\n",
        "Naive way is to drop missings and it's provided by Pandas:"
      ]
    },
    {
      "cell_type": "code",
      "metadata": {
        "id": "VvC7hg98awcM"
      },
      "source": [
        "# we also can drop by specific column(see documentation)\n",
        "tips.dropna()"
      ],
      "execution_count": null,
      "outputs": []
    },
    {
      "cell_type": "markdown",
      "metadata": {
        "id": "nx17rOiEbrFQ"
      },
      "source": [
        "## Grouping and Sorting\n"
      ]
    },
    {
      "cell_type": "markdown",
      "metadata": {
        "id": "D9bxb1zTVXPz"
      },
      "source": [
        "In addition to aggregation built-ins (count(), sum(), nunique()…) we can group the data based on splitting the values of some index, then apply a calculation on it and presenting it the result in a combined matter:\n",
        "\n",
        "\n",
        "\n",
        "\n",
        "\n"
      ]
    },
    {
      "cell_type": "code",
      "metadata": {
        "id": "pZQTCag9ZV7r"
      },
      "source": [
        "avg_tip = tips.groupby(['smoker']).tip.mean()\n",
        "avg_tip"
      ],
      "execution_count": null,
      "outputs": []
    },
    {
      "cell_type": "code",
      "metadata": {
        "id": "ibWGHXSd9O-w"
      },
      "source": [
        "avg_tip = tips.groupby(['day']).tip.mean()\n",
        "avg_tip.sort_values(ascending=False)"
      ],
      "execution_count": null,
      "outputs": []
    },
    {
      "cell_type": "markdown",
      "metadata": {
        "id": "OU9anfv1YrCt"
      },
      "source": [
        "Now, who is the higher payer?\n",
        "Sorting dataset by the tip:\n"
      ]
    },
    {
      "cell_type": "markdown",
      "metadata": {
        "id": "ZKNsVxDe9hbg"
      },
      "source": [
        "Sort by column to get the highest tipper:"
      ]
    },
    {
      "cell_type": "code",
      "metadata": {
        "id": "1meJrAN_XJ_U"
      },
      "source": [
        "tips.sort_values(by='tip', ascending=False)"
      ],
      "execution_count": null,
      "outputs": []
    },
    {
      "cell_type": "markdown",
      "metadata": {
        "id": "_7yjcCI_-D1f"
      },
      "source": [
        "Multiple group by:"
      ]
    },
    {
      "cell_type": "code",
      "metadata": {
        "id": "SU-SWxaR-Gek"
      },
      "source": [
        "tips.groupby(['smoker','day']).tip.mean()"
      ],
      "execution_count": null,
      "outputs": []
    },
    {
      "cell_type": "markdown",
      "metadata": {
        "id": "hOxhYIIX-zKZ"
      },
      "source": [
        "## Combining Data"
      ]
    },
    {
      "cell_type": "code",
      "metadata": {
        "id": "G5jcvwrHBwcQ"
      },
      "source": [
        "!pip install Faker\n",
        "from faker import Faker\n",
        "fake = Faker()"
      ],
      "execution_count": null,
      "outputs": []
    },
    {
      "cell_type": "code",
      "source": [
        "import numpy as np\n",
        "import pandas as pd\n"
      ],
      "metadata": {
        "id": "lI4lnc4hpFq2"
      },
      "execution_count": null,
      "outputs": []
    },
    {
      "cell_type": "code",
      "metadata": {
        "id": "9czhr879Ay3d"
      },
      "source": [
        "ids = np.random.randint(1000, 2000, 10)\n",
        "names = [fake.name() for i in range(10)]\n",
        "ages = np.random.randint(18, 70, 10)\n",
        "address = [fake.address() for i in range(10)]\n",
        "company = [fake.company() for i in range(10)]\n",
        "df_customer = pd.DataFrame({\n",
        "    'id': ids,\n",
        "    'name': names,\n",
        "})\n",
        "df_info = pd.DataFrame({\n",
        "    'id': ids[:8],\n",
        "    'age': ages[:8],\n",
        "    'address': address[:8],\n",
        "    'company': company[:8]\n",
        "})"
      ],
      "execution_count": null,
      "outputs": []
    },
    {
      "cell_type": "code",
      "metadata": {
        "id": "gu95wmbdFn9d"
      },
      "source": [
        "df_customer"
      ],
      "execution_count": null,
      "outputs": []
    },
    {
      "cell_type": "code",
      "metadata": {
        "id": "VXF2YfdSFqKR"
      },
      "source": [
        "df_info"
      ],
      "execution_count": null,
      "outputs": []
    },
    {
      "cell_type": "markdown",
      "metadata": {
        "id": "QwMeT-sTGFnq"
      },
      "source": [
        "### Join/Merge\n",
        "\n",
        "Combining columns from different dataframes based on a key:\n"
      ]
    },
    {
      "cell_type": "markdown",
      "metadata": {
        "id": "3adAAJYpGUCD"
      },
      "source": [
        "![image.png](data:image/png;base64,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)"
      ]
    },
    {
      "cell_type": "code",
      "metadata": {
        "id": "RxDtXXVvAtXh"
      },
      "source": [
        "pd.merge(df_customer, df_info, on='id')"
      ],
      "execution_count": null,
      "outputs": []
    },
    {
      "cell_type": "code",
      "metadata": {
        "id": "gOOPCIa9F31E"
      },
      "source": [
        "pd.merge(df_customer, df_info, how='left', on='id')"
      ],
      "execution_count": null,
      "outputs": []
    },
    {
      "cell_type": "markdown",
      "metadata": {
        "id": "eHa4d_31HLQJ"
      },
      "source": [
        "### Union"
      ]
    },
    {
      "cell_type": "markdown",
      "metadata": {
        "id": "-UbuDb2_GzT4"
      },
      "source": [
        "Assuming we have another store with it's clients as follow:"
      ]
    },
    {
      "cell_type": "code",
      "metadata": {
        "id": "3dfeJvgHG61i"
      },
      "source": [
        "ids = np.random.randint(1000, 2000, 4)\n",
        "names = [fake.name() for i in range(4)]\n",
        "df_customer_1 = pd.DataFrame({\n",
        "    'id': ids,\n",
        "    'name': names,\n",
        "})"
      ],
      "execution_count": null,
      "outputs": []
    },
    {
      "cell_type": "code",
      "metadata": {
        "id": "vjp-LbMmHDbq"
      },
      "source": [
        "df_customer_1"
      ],
      "execution_count": null,
      "outputs": []
    },
    {
      "cell_type": "markdown",
      "metadata": {
        "id": "mR4N2OP7HFOi"
      },
      "source": [
        "We want to combine the **rows** of both tables to one table, this is called union in SQL and concat in Python:"
      ]
    },
    {
      "cell_type": "code",
      "metadata": {
        "id": "7qvH8x1lHXQx"
      },
      "source": [
        "pd.concat([df_customer, df_customer_1])\n",
        "#.loc[2], iloc[2]\n"
      ],
      "execution_count": null,
      "outputs": []
    },
    {
      "cell_type": "markdown",
      "metadata": {
        "id": "fVszTu2RLOj_"
      },
      "source": [
        "## Apply"
      ]
    },
    {
      "cell_type": "markdown",
      "metadata": {
        "id": "Xsij347mLm1R"
      },
      "source": [
        " Manipulate columns and rows in a DataFrame with custom functions."
      ]
    },
    {
      "cell_type": "code",
      "metadata": {
        "id": "c58DSD4ZLgZB"
      },
      "source": [
        "csv_url = 'https://raw.githubusercontent.com/guipsamora/pandas_exercises/master/04_Apply/Students_Alcohol_Consumption/student-mat.csv'\n",
        "df = pd.read_csv(csv_url)\n",
        "df.head()"
      ],
      "execution_count": null,
      "outputs": []
    },
    {
      "cell_type": "markdown",
      "metadata": {
        "id": "FfqRfS1TMJyB"
      },
      "source": [
        "For the purpose of this exercise slice the dataframe from 'school' until the 'guardian' column"
      ]
    },
    {
      "cell_type": "code",
      "metadata": {
        "id": "wIT5tanZMFo-"
      },
      "source": [
        "stud_alcoh = df.loc[: , \"school\":\"guardian\"]\n",
        "stud_alcoh.head()"
      ],
      "execution_count": null,
      "outputs": []
    },
    {
      "cell_type": "markdown",
      "metadata": {
        "id": "P85dvatXMQSM"
      },
      "source": [
        "Create a lambda function that will capitalize strings."
      ]
    },
    {
      "cell_type": "code",
      "metadata": {
        "id": "Yqyht41bMQwT"
      },
      "source": [
        "capitalizer = lambda x: x.capitalize()"
      ],
      "execution_count": null,
      "outputs": []
    },
    {
      "cell_type": "markdown",
      "metadata": {
        "id": "rvSDSmjUMXbI"
      },
      "source": [
        "Capitalize both Mjob and Fjob"
      ]
    },
    {
      "cell_type": "code",
      "metadata": {
        "id": "Kc_XCh4rMX9g"
      },
      "source": [
        "stud_alcoh['Mjob'] = stud_alcoh['Mjob'].apply(capitalizer)\n",
        "stud_alcoh['Fjob'] = stud_alcoh['Fjob'].apply(capitalizer)"
      ],
      "execution_count": null,
      "outputs": []
    },
    {
      "cell_type": "code",
      "metadata": {
        "id": "LMamJD2rMie3"
      },
      "source": [
        "stud_alcoh.head()"
      ],
      "execution_count": null,
      "outputs": []
    },
    {
      "cell_type": "markdown",
      "metadata": {
        "id": "x-7nU74UMxQo"
      },
      "source": [
        "Create a function called majority that returns a boolean value to a new column called legal_drinker (Consider majority as older than 17 years old)"
      ]
    },
    {
      "cell_type": "code",
      "metadata": {
        "id": "NiPv10tZMzfB"
      },
      "source": [
        "def majority(x):\n",
        "    if x > 17:\n",
        "        return True\n",
        "    else:\n",
        "        return False"
      ],
      "execution_count": null,
      "outputs": []
    },
    {
      "cell_type": "code",
      "metadata": {
        "id": "oSmhJI9DM_nW"
      },
      "source": [
        "stud_alcoh['legal_drinker'] = stud_alcoh['age'].apply(majority)\n",
        "stud_alcoh.head()"
      ],
      "execution_count": null,
      "outputs": []
    },
    {
      "cell_type": "markdown",
      "metadata": {
        "id": "O4V2tpQFEFnX"
      },
      "source": [
        "Apply multiple columns"
      ]
    },
    {
      "cell_type": "code",
      "metadata": {
        "id": "YAo7ApNdMurd"
      },
      "source": [
        "def f(x):\n",
        "   return (x['G1'] + x['G2'] + x['G3']) / 3"
      ],
      "execution_count": null,
      "outputs": []
    },
    {
      "cell_type": "code",
      "metadata": {
        "id": "hp16CjmIM97u"
      },
      "source": [
        "df.apply(f, axis=1)"
      ],
      "execution_count": null,
      "outputs": []
    },
    {
      "cell_type": "code",
      "metadata": {
        "id": "X5m9ztfMNQar"
      },
      "source": [
        "def f1(a, b, c):\n",
        "   return (a + b + c) / 3"
      ],
      "execution_count": null,
      "outputs": []
    },
    {
      "cell_type": "code",
      "metadata": {
        "id": "GOpNo5krNKrw"
      },
      "source": [
        "df.apply(lambda x: f1(x['G1'], x['G2'], x['G3']), axis=1)"
      ],
      "execution_count": null,
      "outputs": []
    },
    {
      "cell_type": "code",
      "metadata": {
        "id": "BclSFZr5NpS7"
      },
      "source": [
        "df[['G1','G2','G3']].apply(lambda x: f1(*x), axis=1)"
      ],
      "execution_count": null,
      "outputs": []
    },
    {
      "cell_type": "markdown",
      "metadata": {
        "id": "tEINf4bEL9jR"
      },
      "source": [
        "#Matplotlib"
      ]
    },
    {
      "cell_type": "code",
      "metadata": {
        "id": "cmh_7c6KL9jR"
      },
      "source": [
        "import matplotlib.pyplot as plt"
      ],
      "execution_count": null,
      "outputs": []
    },
    {
      "cell_type": "markdown",
      "metadata": {
        "id": "jOsaA5hGL9jS"
      },
      "source": [
        "By running this special iPython command, we will be displaying plots inline:"
      ]
    },
    {
      "cell_type": "code",
      "metadata": {
        "id": "ijpsmwGnL9jT"
      },
      "source": [
        "%matplotlib inline"
      ],
      "execution_count": null,
      "outputs": []
    },
    {
      "cell_type": "markdown",
      "metadata": {
        "id": "U5Z_oMoLL9jV"
      },
      "source": [
        "##Plotting"
      ]
    },
    {
      "cell_type": "code",
      "metadata": {
        "id": "M3dkS9GhLl7g"
      },
      "source": [
        "lunch_tips = tips[tips.time == 'Lunch'].sort_values(by='total_bill')\n",
        "lunch_tips.head()"
      ],
      "execution_count": null,
      "outputs": []
    },
    {
      "cell_type": "code",
      "metadata": {
        "id": "KKiw4oSdLdx2"
      },
      "source": [
        "plt.figure(figsize=(12,8))\n",
        "plt.scatter(lunch_tips['total_bill'], lunch_tips['tip'])"
      ],
      "execution_count": null,
      "outputs": []
    },
    {
      "cell_type": "markdown",
      "metadata": {
        "id": "R5IeAY03L9ja"
      },
      "source": [
        "##Subplots"
      ]
    },
    {
      "cell_type": "markdown",
      "metadata": {
        "id": "CfUzwJg0L9ja"
      },
      "source": [
        "You can plot different things in the same figure using the subplot function. Here is an example:"
      ]
    },
    {
      "cell_type": "code",
      "metadata": {
        "id": "dM23yGH9L9ja"
      },
      "source": [
        "# Set up a subplot grid that has height 2 and width 1,\n",
        "# and set the first such subplot as active.\n",
        "plt.figure(figsize=(12,14))\n",
        "\n",
        "# Make the first plot\n",
        "plt.subplot(3, 1, 1)\n",
        "plt.scatter(tips['day'].astype(str), tips['total_bill'])\n",
        "plt.title('Bills per day')\n",
        "\n",
        "# Set the second subplot as active, and make the second plot.\n",
        "plt.subplot(3, 1, 2)\n",
        "plt.scatter(tips['day'].astype(str), tips['tip'])\n",
        "plt.title('Tips per day')\n",
        "\n",
        "# Set the second subplot as active, and make the second plot.\n",
        "plt.subplot(3, 1, 3)\n",
        "plt.scatter(tips['day'].astype(str), tips['total_bill'] / tips['tip'])\n",
        "plt.title('Tip proportion')\n",
        "\n",
        "# Show the figure.\n",
        "plt.show()"
      ],
      "execution_count": null,
      "outputs": []
    },
    {
      "cell_type": "markdown",
      "metadata": {
        "id": "gLtsST5SL9jc"
      },
      "source": [
        "You can read much more about the `subplot` function in the [documentation](http://matplotlib.org/api/pyplot_api.html#matplotlib.pyplot.subplot)."
      ]
    }
  ]
}